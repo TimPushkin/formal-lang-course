{
 "cells": [
  {
   "cell_type": "markdown",
   "source": [
    "# Задача 5 (бонусная): экспериментальное исследование алгоритмов для регулярных запросов"
   ],
   "metadata": {
    "collapsed": false
   }
  },
  {
   "cell_type": "markdown",
   "source": [
    "## Подготовка окружения\n",
    "\n",
    "Для исполнения кода, приведённого в данном исследовании, необходима система с ядром Linux, подготовленная при помощи выполнения команд, приведённых далее."
   ],
   "metadata": {
    "collapsed": false
   }
  },
  {
   "cell_type": "code",
   "execution_count": 292,
   "outputs": [
    {
     "name": "stdout",
     "output_type": "stream",
     "text": [
      "Requirement already satisfied: antlr4-python3-runtime in /home/eyjafl/.venv/formlang/lib/python3.10/site-packages (from -r ../requirements.txt (line 1)) (4.11.1)\r\n",
      "Requirement already satisfied: black in /home/eyjafl/.venv/formlang/lib/python3.10/site-packages (from -r ../requirements.txt (line 2)) (22.10.0)\r\n",
      "Requirement already satisfied: cfpq-data in /home/eyjafl/.venv/formlang/lib/python3.10/site-packages (from -r ../requirements.txt (line 3)) (4.0.0)\r\n",
      "Requirement already satisfied: pre-commit in /home/eyjafl/.venv/formlang/lib/python3.10/site-packages (from -r ../requirements.txt (line 4)) (2.20.0)\r\n",
      "Requirement already satisfied: pydot in /home/eyjafl/.venv/formlang/lib/python3.10/site-packages (from -r ../requirements.txt (line 5)) (1.4.2)\r\n",
      "Requirement already satisfied: pytest in /home/eyjafl/.venv/formlang/lib/python3.10/site-packages (from -r ../requirements.txt (line 6)) (7.1.3)\r\n",
      "Requirement already satisfied: scipy in /home/eyjafl/.venv/formlang/lib/python3.10/site-packages (from -r ../requirements.txt (line 7)) (1.9.1)\r\n",
      "Requirement already satisfied: pathspec>=0.9.0 in /home/eyjafl/.venv/formlang/lib/python3.10/site-packages (from black->-r ../requirements.txt (line 2)) (0.10.1)\r\n",
      "Requirement already satisfied: click>=8.0.0 in /home/eyjafl/.venv/formlang/lib/python3.10/site-packages (from black->-r ../requirements.txt (line 2)) (8.1.3)\r\n",
      "Requirement already satisfied: mypy-extensions>=0.4.3 in /home/eyjafl/.venv/formlang/lib/python3.10/site-packages (from black->-r ../requirements.txt (line 2)) (0.4.3)\r\n",
      "Requirement already satisfied: platformdirs>=2 in /home/eyjafl/.venv/formlang/lib/python3.10/site-packages (from black->-r ../requirements.txt (line 2)) (2.5.2)\r\n",
      "Requirement already satisfied: tomli>=1.1.0 in /home/eyjafl/.venv/formlang/lib/python3.10/site-packages (from black->-r ../requirements.txt (line 2)) (2.0.1)\r\n",
      "Requirement already satisfied: rdflib==6.0.0 in /home/eyjafl/.venv/formlang/lib/python3.10/site-packages (from cfpq-data->-r ../requirements.txt (line 3)) (6.0.0)\r\n",
      "Requirement already satisfied: networkx==2.6.2 in /home/eyjafl/.venv/formlang/lib/python3.10/site-packages (from cfpq-data->-r ../requirements.txt (line 3)) (2.6.2)\r\n",
      "Requirement already satisfied: pandas==1.3.4 in /home/eyjafl/.venv/formlang/lib/python3.10/site-packages (from cfpq-data->-r ../requirements.txt (line 3)) (1.3.4)\r\n",
      "Requirement already satisfied: pyformlang==0.1.26 in /home/eyjafl/.venv/formlang/lib/python3.10/site-packages (from cfpq-data->-r ../requirements.txt (line 3)) (0.1.26)\r\n",
      "Requirement already satisfied: requests==2.26.0 in /home/eyjafl/.venv/formlang/lib/python3.10/site-packages (from cfpq-data->-r ../requirements.txt (line 3)) (2.26.0)\r\n",
      "Requirement already satisfied: numpy>=1.21.0 in /home/eyjafl/.venv/formlang/lib/python3.10/site-packages (from pandas==1.3.4->cfpq-data->-r ../requirements.txt (line 3)) (1.23.3)\r\n",
      "Requirement already satisfied: python-dateutil>=2.7.3 in /home/eyjafl/.venv/formlang/lib/python3.10/site-packages (from pandas==1.3.4->cfpq-data->-r ../requirements.txt (line 3)) (2.8.2)\r\n",
      "Requirement already satisfied: pytz>=2017.3 in /home/eyjafl/.venv/formlang/lib/python3.10/site-packages (from pandas==1.3.4->cfpq-data->-r ../requirements.txt (line 3)) (2022.4)\r\n",
      "Requirement already satisfied: isodate in /home/eyjafl/.venv/formlang/lib/python3.10/site-packages (from rdflib==6.0.0->cfpq-data->-r ../requirements.txt (line 3)) (0.6.1)\r\n",
      "Requirement already satisfied: pyparsing in /home/eyjafl/.venv/formlang/lib/python3.10/site-packages (from rdflib==6.0.0->cfpq-data->-r ../requirements.txt (line 3)) (3.0.9)\r\n",
      "Requirement already satisfied: setuptools in /home/eyjafl/.venv/formlang/lib/python3.10/site-packages (from rdflib==6.0.0->cfpq-data->-r ../requirements.txt (line 3)) (59.6.0)\r\n",
      "Requirement already satisfied: certifi>=2017.4.17 in /home/eyjafl/.venv/formlang/lib/python3.10/site-packages (from requests==2.26.0->cfpq-data->-r ../requirements.txt (line 3)) (2022.9.24)\r\n",
      "Requirement already satisfied: charset-normalizer~=2.0.0 in /home/eyjafl/.venv/formlang/lib/python3.10/site-packages (from requests==2.26.0->cfpq-data->-r ../requirements.txt (line 3)) (2.0.12)\r\n",
      "Requirement already satisfied: idna<4,>=2.5 in /home/eyjafl/.venv/formlang/lib/python3.10/site-packages (from requests==2.26.0->cfpq-data->-r ../requirements.txt (line 3)) (3.4)\r\n",
      "Requirement already satisfied: urllib3<1.27,>=1.21.1 in /home/eyjafl/.venv/formlang/lib/python3.10/site-packages (from requests==2.26.0->cfpq-data->-r ../requirements.txt (line 3)) (1.26.12)\r\n",
      "Requirement already satisfied: cfgv>=2.0.0 in /home/eyjafl/.venv/formlang/lib/python3.10/site-packages (from pre-commit->-r ../requirements.txt (line 4)) (3.3.1)\r\n",
      "Requirement already satisfied: toml in /home/eyjafl/.venv/formlang/lib/python3.10/site-packages (from pre-commit->-r ../requirements.txt (line 4)) (0.10.2)\r\n",
      "Requirement already satisfied: nodeenv>=0.11.1 in /home/eyjafl/.venv/formlang/lib/python3.10/site-packages (from pre-commit->-r ../requirements.txt (line 4)) (1.7.0)\r\n",
      "Requirement already satisfied: pyyaml>=5.1 in /home/eyjafl/.venv/formlang/lib/python3.10/site-packages (from pre-commit->-r ../requirements.txt (line 4)) (6.0)\r\n",
      "Requirement already satisfied: identify>=1.0.0 in /home/eyjafl/.venv/formlang/lib/python3.10/site-packages (from pre-commit->-r ../requirements.txt (line 4)) (2.5.6)\r\n",
      "Requirement already satisfied: virtualenv>=20.0.8 in /home/eyjafl/.venv/formlang/lib/python3.10/site-packages (from pre-commit->-r ../requirements.txt (line 4)) (20.16.5)\r\n",
      "Requirement already satisfied: pluggy<2.0,>=0.12 in /home/eyjafl/.venv/formlang/lib/python3.10/site-packages (from pytest->-r ../requirements.txt (line 6)) (1.0.0)\r\n",
      "Requirement already satisfied: attrs>=19.2.0 in /home/eyjafl/.venv/formlang/lib/python3.10/site-packages (from pytest->-r ../requirements.txt (line 6)) (22.1.0)\r\n",
      "Requirement already satisfied: iniconfig in /home/eyjafl/.venv/formlang/lib/python3.10/site-packages (from pytest->-r ../requirements.txt (line 6)) (1.1.1)\r\n",
      "Requirement already satisfied: py>=1.8.2 in /home/eyjafl/.venv/formlang/lib/python3.10/site-packages (from pytest->-r ../requirements.txt (line 6)) (1.11.0)\r\n",
      "Requirement already satisfied: packaging in /home/eyjafl/.venv/formlang/lib/python3.10/site-packages (from pytest->-r ../requirements.txt (line 6)) (21.3)\r\n",
      "Requirement already satisfied: filelock<4,>=3.4.1 in /home/eyjafl/.venv/formlang/lib/python3.10/site-packages (from virtualenv>=20.0.8->pre-commit->-r ../requirements.txt (line 4)) (3.8.0)\r\n",
      "Requirement already satisfied: distlib<1,>=0.3.5 in /home/eyjafl/.venv/formlang/lib/python3.10/site-packages (from virtualenv>=20.0.8->pre-commit->-r ../requirements.txt (line 4)) (0.3.6)\r\n",
      "Requirement already satisfied: six>=1.5 in /home/eyjafl/.venv/formlang/lib/python3.10/site-packages (from python-dateutil>=2.7.3->pandas==1.3.4->cfpq-data->-r ../requirements.txt (line 3)) (1.16.0)\r\n",
      "Requirement already satisfied: pycubool in /home/eyjafl/.venv/formlang/lib/python3.10/site-packages (1.2.0)\r\n",
      "Requirement already satisfied: matplotlib in /home/eyjafl/.venv/formlang/lib/python3.10/site-packages (3.6.1)\r\n",
      "Requirement already satisfied: python-dateutil>=2.7 in /home/eyjafl/.venv/formlang/lib/python3.10/site-packages (from matplotlib) (2.8.2)\r\n",
      "Requirement already satisfied: fonttools>=4.22.0 in /home/eyjafl/.venv/formlang/lib/python3.10/site-packages (from matplotlib) (4.37.4)\r\n",
      "Requirement already satisfied: kiwisolver>=1.0.1 in /home/eyjafl/.venv/formlang/lib/python3.10/site-packages (from matplotlib) (1.4.4)\r\n",
      "Requirement already satisfied: pyparsing>=2.2.1 in /home/eyjafl/.venv/formlang/lib/python3.10/site-packages (from matplotlib) (3.0.9)\r\n",
      "Requirement already satisfied: numpy>=1.19 in /home/eyjafl/.venv/formlang/lib/python3.10/site-packages (from matplotlib) (1.23.3)\r\n",
      "Requirement already satisfied: cycler>=0.10 in /home/eyjafl/.venv/formlang/lib/python3.10/site-packages (from matplotlib) (0.11.0)\r\n",
      "Requirement already satisfied: packaging>=20.0 in /home/eyjafl/.venv/formlang/lib/python3.10/site-packages (from matplotlib) (21.3)\r\n",
      "Requirement already satisfied: pillow>=6.2.0 in /home/eyjafl/.venv/formlang/lib/python3.10/site-packages (from matplotlib) (9.2.0)\r\n",
      "Requirement already satisfied: contourpy>=1.0.1 in /home/eyjafl/.venv/formlang/lib/python3.10/site-packages (from matplotlib) (1.0.5)\r\n",
      "Requirement already satisfied: six>=1.5 in /home/eyjafl/.venv/formlang/lib/python3.10/site-packages (from python-dateutil>=2.7->matplotlib) (1.16.0)\r\n"
     ]
    }
   ],
   "source": [
    "# @formatter:off\n",
    "!pip install -r ../requirements.txt\n",
    "!pip install pycubool matplotlib\n",
    "# @formatter:on"
   ],
   "metadata": {
    "collapsed": false
   }
  },
  {
   "cell_type": "markdown",
   "source": [
    "## Введение\n",
    "\n",
    "В данном работе рассматривается задача достижимости в графе с регулярными ограничениями и исследуется производительность её решений матричными подходами на языке Python при помощи библиотек, осуществляющих матричные операции на CPU и GPU."
   ],
   "metadata": {
    "collapsed": false
   }
  },
  {
   "cell_type": "markdown",
   "source": [
    "### О задаче достижимости\n",
    "\n",
    "Пусть дан конечный ориентированный помеченный граф $G = (V, E, L)$, в котором каждому пути $\\pi \\in E^*$, состоящему из рёбер с метками $l_1, ..., l_n \\in L$, сопоставляется слово по правилу $\\omega(\\pi) = l_1 * ... * l_n$, где $*$ --- конкатенация.\n",
    "\n",
    "Пусть также дано регулярное выражение $R$ для языка над алфавитом $L$.\n",
    "\n",
    "В данных условиях мы будем рассматривать три варианта задачи о достижимости в графе $G$ с регулярными ограничениями, заданным $R$.\n",
    "\n",
    "#### Постановка 1. Достижимость между всеми парами вершин.\n",
    "\n",
    "Данная постановка задачи является наиболее общей.\n",
    "\n",
    "В ней задача заключается в нахождении таких пар вершин $G$, что между ними существует путь, которому сопоставляется слово из языка, задаваемого $R$. То есть задача заключается в нахождении множества $\\{(v_i, v_j) \\in V^2: \\exists \\pi \\in E^*: start(\\pi) = v_i, final(\\pi) = v_j, \\omega(\\pi) \\in language(R)\\}$.\n",
    "\n",
    "#### Постановка 2. Достижимость для всего множества заданных вершин.\n",
    "\n",
    "В данной постановке задачи из множества $V$ всех вершин графа дополнительно выделяются подмножества стартовых и финальных вершин: $V_S \\subseteq V$ и $V_F \\subseteq V$ соответственно. Задача заключается в нахождении всех таких финальных вершин, таких, что до них существуют пути из стартовых, которым сопоставляются слова из языка, задаваемого $R$. То есть задача заключается в нахождении множества $\\{v_i \\in V_F: \\exists \\pi \\in E^*: start(\\pi) \\in V_S, final(\\pi) = v_j, \\omega(\\pi) \\in language(R)\\}$.\n",
    "\n",
    "#### Постановка 3. Достижимость для каждой вершины из заданного множества стартовых вершин.\n",
    "\n",
    "Данная постановка является комбинацией предыдущих двух. Здесь также выделяются множества стартовых и финальных вершин $V_S и $V_F, в которых найденные пути должны начинаться и оканчиваться соответственно, однако, аналогично постановке 1, требуется найти множество пар вершин-начал и вершин-концов данных путей. То есть задача заключается в нахождении множества $\\{(v_i, v_j) \\in V_S \\times V_F: \\exists \\pi \\in E^*: start(\\pi) = v_i, final(\\pi) = v_j, \\omega(\\pi) \\in language(R)\\}$."
   ],
   "metadata": {
    "collapsed": false
   }
  },
  {
   "cell_type": "markdown",
   "source": [
    "### Исследуемые решения\n",
    "\n",
    "В данной работе для решения поставленных выше задач используются методы, кратко описываемые следующим образом:\n",
    "\n",
    "1. **Достижимость между всеми парами вершин**. Через тензорное произведение строится пересечение конечных автоматов, соответствующих графу и регулярному выражению, для которого затем считается транзитивное замыкание через матричное возведение в степень.\n",
    "2. **Достижимость для всего множества заданных вершин**. Алгоритм решения основывается на синхронном обходе в ширину конечных автоматов, соответствующих регулярному выражению и графу. Обход проводится через умножение фронта, представленного как матрица условно разделенная на соответствующие две части, на матрицу смежности, построенную как прямая сумма матриц смежности обоих автоматов. Матрица фронта в левой части представляет из себя единичную матрицу, а в правой --- строки-фронты-обхода, возможные для соответствующей вершины в левой части. После каждого умножения матрица фронта трансформируется для поддержки данного инварианта.\n",
    "3. **Достижимость для каждой вершины из заданного множества стартовых вершин**. Принцип решения схож с предыдущим пунктом, однако фронт разделяется для каждой стартовой вершины и представляется как единая матрица, что позволяет хранить информацию о стартовой вершине для каждой достигнутой финальной.\n",
    "\n",
    "На практике матрицы смежности, используемые в представленных алгоритмах являются сильно разреженными, поэтому при их реализации становится выгодно представлять такие матрицы специальным образом, избегая хранения \"пустых\" ячеек. Каждый из описанных алгоритмов был реализован на языке Python при помощи двух библиотек, содержащих таких типы матриц:\n",
    "\n",
    "1. [**scipy.sparse**](https://docs.scipy.org/doc/scipy/reference/sparse.html) --- модуль SciPy, предоставляющий несколько видов двухмерных разреженных массивов с интерфейсом взаимодействия, приближенным к таковому в NumPy. Все операции, проводимые с массивами, происходят на CPU.\n",
    "2. [**pycubool**](https://github.com/JetBrains-Research/cuBool) --- обертка для C-библиотеки, позволяющая проводить операции линейной алгебры над разреженными матрицами на GPU марки NVIDIA при помощи технологии CUDA.\n",
    "\n",
    "Оба способа реализации максимально идентичны (на сколько это позволяют интерфейсы представленных библиотек)."
   ],
   "metadata": {
    "collapsed": false
   },
   "outputs": []
  },
  {
   "cell_type": "markdown",
   "source": [
    "#### Реализация на scipy.sparse\n",
    "\n",
    "Реализация алгоритмов, основанная на `scipy.sparse`, расположена в модуле [`project.rpq`](../project/rpq.py) данного репозитория."
   ],
   "metadata": {
    "collapsed": false
   }
  },
  {
   "cell_type": "code",
   "execution_count": 293,
   "outputs": [],
   "source": [
    "from project.rpq import BfsMode\n",
    "from project.rpq import rpq_by_bfs\n",
    "from project.rpq import rpq_by_tensor"
   ],
   "metadata": {
    "collapsed": false
   }
  },
  {
   "cell_type": "markdown",
   "source": [
    "#### Реализация на pycubool\n",
    "\n",
    "Реализация алгоритмов, основанная на `pycubool`, представленная ниже:"
   ],
   "metadata": {
    "collapsed": false
   }
  },
  {
   "cell_type": "code",
   "execution_count": 294,
   "outputs": [],
   "source": [
    "from itertools import product\n",
    "from typing import Any\n",
    "from typing import NamedTuple\n",
    "\n",
    "import pycubool as cb\n",
    "from pyformlang.finite_automaton import EpsilonNFA\n",
    "\n",
    "\n",
    "class BoolDecompositionCuda:\n",
    "    class StateInfo(NamedTuple):\n",
    "        data: Any\n",
    "        is_start: bool\n",
    "        is_final: bool\n",
    "\n",
    "    def __init__(\n",
    "        self,\n",
    "        states: list[StateInfo] | None = None,\n",
    "        adjs: dict[Any, cb.Matrix] | None = None,\n",
    "    ):\n",
    "        self.states: list[BoolDecompositionCuda.StateInfo] = (\n",
    "            states if states is not None else []\n",
    "        )\n",
    "        self.adjs: dict[Any, cb.Matrix] = adjs if adjs is not None else {}\n",
    "\n",
    "    @classmethod\n",
    "    def from_nfa(\n",
    "        cls, nfa: EpsilonNFA, sort_states: bool = False\n",
    "    ) -> \"BoolDecompositionCuda\":\n",
    "        # Construct states, removing duplicates\n",
    "        states = list(\n",
    "            set(\n",
    "                cls.StateInfo(\n",
    "                    data=st.value,\n",
    "                    is_start=st in nfa.start_states,\n",
    "                    is_final=st in nfa.final_states,\n",
    "                )\n",
    "                for st in nfa.states\n",
    "            )\n",
    "        )\n",
    "        if sort_states:\n",
    "            states = sorted(states, key=lambda st: st.data)\n",
    "\n",
    "        # Construct adjacency matrices\n",
    "        adjs = {}\n",
    "        transitions = nfa.to_dict()\n",
    "        n = len(states)\n",
    "        for n_from in transitions:\n",
    "            for symbol, ns_to in transitions[n_from].items():\n",
    "                adj = adjs.setdefault(symbol.value, cb.Matrix.empty((n, n)))\n",
    "                beg_index = next(i for i, s in enumerate(states) if s.data == n_from)\n",
    "                for n_to in ns_to if isinstance(ns_to, set) else {ns_to}:\n",
    "                    end_index = next(i for i, s in enumerate(states) if s.data == n_to)\n",
    "                    adj[beg_index, end_index] = True\n",
    "\n",
    "        return cls(states, adjs)\n",
    "\n",
    "    def intersect(self, other: \"BoolDecompositionCuda\") -> \"BoolDecompositionCuda\":\n",
    "        # Set of states of the intersection is the product of the given sets of states\n",
    "        # State is \"start\" if both of its element states are \"start\"\n",
    "        # State is \"final\" if both of its element states are \"final\"\n",
    "        states = [\n",
    "            self.StateInfo(\n",
    "                data=(st1.data, st2.data),\n",
    "                is_start=st1.is_start and st2.is_start,\n",
    "                is_final=st1.is_final and st2.is_final,\n",
    "            )\n",
    "            for st1, st2 in product(self.states, other.states)\n",
    "        ]\n",
    "\n",
    "        # Set of symbols of the intersection is the union of the given sets of symbols\n",
    "        # Adjacency matrix for a symbol is a kronecker product of the given matrices of\n",
    "        # this symbol\n",
    "        adjs = {}\n",
    "        n = len(states)\n",
    "        for symbol in set(self.adjs.keys()).union(set(other.adjs.keys())):\n",
    "            if symbol in self.adjs and symbol in other.adjs:\n",
    "                adjs[symbol] = self.adjs[symbol].kronecker(other.adjs[symbol])\n",
    "            else:\n",
    "                adjs[symbol] = cb.Matrix.empty((n, n))\n",
    "\n",
    "        return BoolDecompositionCuda(states, adjs)\n",
    "\n",
    "    def transitive_closure_any_symbol(self) -> tuple[list[int], list[int]]:\n",
    "        # Gather all matrices to get all existing paths\n",
    "        n = len(self.states)\n",
    "        adj_all = cb.Matrix.empty((n, n))\n",
    "        for adj in self.adjs.values():\n",
    "            adj_all = adj_all.ewiseadd(adj)\n",
    "\n",
    "        # Transitive closure by repeated-squaring-like approach\n",
    "        while True:\n",
    "            # nvals gives the number of paths\n",
    "            prev_path_num = adj_all.nvals\n",
    "            # Multiplication gives new paths, while sum retains the old ones\n",
    "            adj_all.mxm(adj_all, out=adj_all, accumulate=True)\n",
    "            # If no new paths appear, all paths have been discovered\n",
    "            if prev_path_num == adj_all.nvals:\n",
    "                break\n",
    "\n",
    "        # Convert to a more user-friendly representation\n",
    "        return adj_all.to_lists()\n",
    "\n",
    "    def _direct_sum(self, other: \"BoolDecompositionCuda\") -> \"BoolDecompositionCuda\":\n",
    "        states = self.states + other.states\n",
    "\n",
    "        adjs = {}\n",
    "        for symbol in set(self.adjs.keys()).intersection(set(other.adjs.keys())):\n",
    "            dsum = cb.Matrix.empty((len(states), len(states)))\n",
    "            for i, j in self.adjs[symbol]:\n",
    "                dsum[i, j] = True\n",
    "            for i, j in other.adjs[symbol]:\n",
    "                dsum[len(self.states) + i, len(self.states) + j] = True\n",
    "            adjs[symbol] = dsum\n",
    "\n",
    "        return BoolDecompositionCuda(states, adjs)\n",
    "\n",
    "    def constrained_bfs(\n",
    "        self, constraint: \"BoolDecompositionCuda\", separated: bool = False\n",
    "    ) -> set[int] | set[tuple[int, int]]:\n",
    "        # Save states number because will use them heavily for matrix construction\n",
    "        n = len(constraint.states)\n",
    "        m = len(self.states)\n",
    "\n",
    "        direct_sum = constraint._direct_sum(self)\n",
    "\n",
    "        # Create initial front from starts of constraint (left) and self (right)\n",
    "        start_states_indices = [i for i, st in enumerate(self.states) if st.is_start]\n",
    "        init_front = (\n",
    "            _init_bfs_front(self.states, constraint.states)\n",
    "            if not separated\n",
    "            else _init_separated_bfs_front(\n",
    "                self.states, constraint.states, start_states_indices\n",
    "            )\n",
    "        )\n",
    "\n",
    "        # Create visited, fill with zeroes instead of init_front to get rid of initial\n",
    "        # positions in the result\n",
    "        visited = cb.Matrix.empty(init_front.shape)\n",
    "\n",
    "        # Perform matrix-multiplication-based-BFS until visited stops changing\n",
    "        while True:\n",
    "            old_visited_nvals = visited.nvals\n",
    "\n",
    "            # Perform a BFS step for each matrix in direct sum\n",
    "            for _, adj in direct_sum.adjs.items():\n",
    "                # Compute new front for the symbol\n",
    "                front_part = (\n",
    "                    visited.mxm(adj) if init_front is None else init_front.mxm(adj)\n",
    "                )\n",
    "                # Transform the resulting front so that:\n",
    "                # 1. It only contains rows with non-zeros in both parts.\n",
    "                # 2. Its left part contains non-zeroes only on its main diagonal.\n",
    "                visited = visited.ewiseadd(_transform_front_part(front_part, n))\n",
    "\n",
    "            # Can use visited instead now\n",
    "            init_front = None\n",
    "\n",
    "            # If no new non-zero elements have appeared, we've visited all we can\n",
    "            if visited.nvals == old_visited_nvals:\n",
    "                break\n",
    "\n",
    "        # If visited a final self-state in final constraint-state, we found a result\n",
    "        results = set()\n",
    "        for i, j in visited.to_list():\n",
    "            # Check that the element is from the self part (which is the main BFS part)\n",
    "            # and the final state requirements are satisfied\n",
    "            if j >= n and constraint.states[i % n].is_final:  # % is for separated BFS\n",
    "                self_st_index = j - n\n",
    "                if self.states[self_st_index].is_final:\n",
    "                    results.add(\n",
    "                        self_st_index\n",
    "                        if not separated\n",
    "                        else (start_states_indices[i // n], self_st_index)\n",
    "                    )\n",
    "        return results\n",
    "\n",
    "\n",
    "def _init_bfs_front(\n",
    "    self_states: list[BoolDecompositionCuda.StateInfo],\n",
    "    constr_states: list[BoolDecompositionCuda.StateInfo],\n",
    "    self_start_indices: list[int] | None = None,\n",
    ") -> cb.Matrix:\n",
    "    front = cb.Matrix.empty((len(constr_states), len(constr_states) + len(self_states)))\n",
    "\n",
    "    if self_start_indices is None:\n",
    "        self_start_indices = [j for j, st in enumerate(self_states) if st.is_start]\n",
    "\n",
    "    for i, st in enumerate(constr_states):\n",
    "        if st.is_start:\n",
    "            front[i, i] = True  # Mark diagonal element as start\n",
    "            for j in self_start_indices:\n",
    "                front[i, len(constr_states) + j] = True  # Fill start row\n",
    "\n",
    "    return front\n",
    "\n",
    "\n",
    "def _init_separated_bfs_front(\n",
    "    self_states: list[BoolDecompositionCuda.StateInfo],\n",
    "    constr_states: list[BoolDecompositionCuda.StateInfo],\n",
    "    start_states_indices: list[int],\n",
    ") -> cb.Matrix:\n",
    "    fronts = [\n",
    "        _init_bfs_front(\n",
    "            self_states,\n",
    "            constr_states,\n",
    "            self_start_indices=[st_i],\n",
    "        )\n",
    "        for st_i in start_states_indices\n",
    "    ]\n",
    "\n",
    "    if len(fronts) == 0:\n",
    "        return cb.Matrix.empty(\n",
    "            (len(constr_states), len(constr_states) + len(self_states))\n",
    "        )\n",
    "\n",
    "    # Build the united front as a vertical stack of the separated fronts\n",
    "    result = cb.Matrix.empty(\n",
    "        (len(fronts) * len(constr_states), len(constr_states) + len(self_states))\n",
    "    )\n",
    "    vstack_helper = cb.Matrix.empty((len(fronts), 1))\n",
    "    for i, front in enumerate(fronts):\n",
    "        vstack_helper.build(rows={i}, cols={0})\n",
    "        result = result.ewiseadd(vstack_helper.kronecker(front))\n",
    "    return result\n",
    "\n",
    "\n",
    "def _transform_front_part(front_part: cb.Matrix, constr_states_num: int) -> cb.Matrix:\n",
    "    transformed_front_part = cb.Matrix.empty(front_part.shape)\n",
    "    # Perform the transformation by rows\n",
    "    for i, j in front_part.to_list():\n",
    "        # If the element is from the constraint part\n",
    "        if j < constr_states_num:\n",
    "            non_zero_row_right = front_part[i: i + 1, constr_states_num:]\n",
    "            # If the right part contains non-zero elements\n",
    "            if non_zero_row_right.nvals > 0:\n",
    "                # Account for separated front\n",
    "                row_shift = i // constr_states_num * constr_states_num\n",
    "                # Mark the row in the left part\n",
    "                transformed_front_part[row_shift + j, j] = True\n",
    "                # Update right part of the row\n",
    "                for _, r_j in non_zero_row_right:\n",
    "                    transformed_front_part[\n",
    "                        row_shift + j, constr_states_num + r_j\n",
    "                    ] = True\n",
    "    return transformed_front_part"
   ],
   "metadata": {
    "collapsed": false
   }
  },
  {
   "cell_type": "code",
   "execution_count": 295,
   "outputs": [],
   "source": [
    "import networkx as nx\n",
    "import pyformlang.regular_expression as re\n",
    "from typing import TypeVar\n",
    "\n",
    "from project.automata_utils import graph_to_nfa\n",
    "from project.automata_utils import regex_to_min_dfa\n",
    "\n",
    "_NodeType = TypeVar(\"_NodeType\")\n",
    "\n",
    "\n",
    "def rpq_by_tensor_cuda(\n",
    "    graph: nx.Graph,\n",
    "    query: str | re.Regex,\n",
    "    starts: set[_NodeType] | None = None,\n",
    "    finals: set[_NodeType] | None = None,\n",
    ") -> set[tuple[_NodeType, _NodeType]]:\n",
    "    # Create boolean decompositions for the graph and the query\n",
    "    graph_decomp = BoolDecompositionCuda.from_nfa(graph_to_nfa(graph, starts, finals))\n",
    "    query_decomp = BoolDecompositionCuda.from_nfa(regex_to_min_dfa(query))\n",
    "\n",
    "    # Intersection of decompositions gives intersection of languages\n",
    "    intersection = graph_decomp.intersect(query_decomp)\n",
    "    # Transitive closure helps determine reachability\n",
    "    transitive_closure_indices = intersection.transitive_closure_any_symbol()\n",
    "\n",
    "    # Two nodes satisfy the query if one is the beginning of a path (i.e. a word) and\n",
    "    # the other is its end\n",
    "    results = set()\n",
    "    for n_from_i, n_to_i in zip(*transitive_closure_indices):\n",
    "        n_from = intersection.states[n_from_i]\n",
    "        n_to = intersection.states[n_to_i]\n",
    "        if n_from.is_start and n_to.is_final:\n",
    "            beg_graph_node = n_from.data[0]\n",
    "            end_graph_node = n_to.data[0]\n",
    "            results.add((beg_graph_node, end_graph_node))\n",
    "    return results\n",
    "\n",
    "\n",
    "def rpq_by_bfs_cuda(\n",
    "    graph: nx.Graph,\n",
    "    query: str | re.Regex,\n",
    "    starts: set[_NodeType] | None = None,\n",
    "    finals: set[_NodeType] | None = None,\n",
    "    mode: BfsMode = BfsMode.FIND_COMMON_REACHABLE_SET,\n",
    ") -> set[_NodeType] | set[tuple[_NodeType, _NodeType]]:\n",
    "    graph_decomp = BoolDecompositionCuda.from_nfa(graph_to_nfa(graph, starts, finals))\n",
    "    query_decomp = BoolDecompositionCuda.from_nfa(regex_to_min_dfa(query))\n",
    "\n",
    "    result_indices = graph_decomp.constrained_bfs(\n",
    "        query_decomp, separated=mode == BfsMode.FIND_REACHABLE_FOR_EACH_START\n",
    "    )\n",
    "\n",
    "    match mode:\n",
    "        case BfsMode.FIND_COMMON_REACHABLE_SET:\n",
    "            return {graph_decomp.states[i].data for i in result_indices}\n",
    "        case BfsMode.FIND_REACHABLE_FOR_EACH_START:\n",
    "            return {\n",
    "                (graph_decomp.states[i].data, graph_decomp.states[j].data)\n",
    "                for i, j in result_indices\n",
    "            }\n",
    "\n"
   ],
   "metadata": {
    "collapsed": false
   }
  },
  {
   "cell_type": "markdown",
   "source": [
    "## Цель работы\n",
    "\n",
    "Целью данной работы является анализ производительности представленных решений задачи достижимости в графе с регулярными ограничениями в трёх её постановках, описанных выше, а именно, ответ на следующие три вопроса:\n",
    "\n",
    "1. При каких условиях использование `pycubool` даёт выигрыш в производительности по сравнению с `scipy.sparse`? Для каждой из трёх постановок задачи.\n",
    "2. При использовании `pycubool`, начиная с какого размера стартового множества выгоднее решать задачу для всех пар и выбирать нужные?\n",
    "3. При использовании `pycubool`, насколько решение задачи во второй её постановке быстрее решения в третьей при одинаковых начальных условиях?"
   ],
   "metadata": {
    "collapsed": false
   }
  },
  {
   "cell_type": "markdown",
   "source": [
    "## Условия эксперимента\n",
    "\n",
    "В данной секции описывается каким образом проводился эксперимент, соответствующий цели данной работы."
   ],
   "metadata": {
    "collapsed": false
   }
  },
  {
   "cell_type": "markdown",
   "source": [
    "### Характеристики оборудование\n",
    "\n",
    "Оборудование, на котором проводились замеры, обладает следующими характеристиками:"
   ],
   "metadata": {
    "collapsed": false
   }
  },
  {
   "cell_type": "code",
   "execution_count": 296,
   "outputs": [
    {
     "name": "stdout",
     "output_type": "stream",
     "text": [
      "----- OS  -----\r\n",
      "Operating System: Ubuntu 22.04.1 LTS\r\n",
      "          Kernel: Linux 5.15.0-48-generic\r\n",
      "----- CPU -----\r\n",
      "Architecture:                    x86_64\r\n",
      "Model name:                      AMD Ryzen 5 5600X 6-Core Processor\r\n",
      "Thread(s) per core:              2\r\n",
      "Core(s) per socket:              6\r\n",
      "Socket(s):                       1\r\n",
      "CPU max MHz:                     4650.2920\r\n",
      "CPU min MHz:                     2200.0000\r\n",
      "L1d cache:                       192 KiB (6 instances)\r\n",
      "L1i cache:                       192 KiB (6 instances)\r\n",
      "L2 cache:                        3 MiB (6 instances)\r\n",
      "L3 cache:                        32 MiB (1 instance)\r\n",
      "----- GPU -----\r\n",
      "GPU 0: NVIDIA GeForce RTX 2060 (UUID: GPU-8294f82e-bdf0-92ae-58e4-939c50d2a707)\r\n",
      "| NVIDIA-SMI 515.65.01    Driver Version: 515.65.01    CUDA Version: 11.7     |\r\n",
      "----- RAM -----\r\n",
      "               total        used        free      shared  buff/cache   available\r\n",
      "Mem:           15920        9987         757         123        5175        5485\r\n",
      "Swap:              0           0           0\r\n"
     ]
    }
   ],
   "source": [
    "# @formatter:off\n",
    "\n",
    "! echo '----- OS  -----'\n",
    "! hostnamectl | grep -E 'Operating System|Kernel'\n",
    "\n",
    "! echo '----- CPU -----'\n",
    "! lscpu | grep -E 'Architecture|Model name|Thread\\(s\\)|Core\\(s\\)|Socket\\(s\\)|MHz|cache'\n",
    "\n",
    "! echo '----- GPU -----'\n",
    "! nvidia-smi -L\n",
    "! nvidia-smi | grep CUDA\n",
    "\n",
    "! echo '----- RAM -----'\n",
    "! free -m\n",
    "\n",
    "# @formatter:on"
   ],
   "metadata": {
    "collapsed": false
   }
  },
  {
   "cell_type": "markdown",
   "source": [
    "### Описание использованного набора данных\n",
    "\n",
    "Для проведения экспериментов необходимо было выбрать графы для поиска путей и регулярные выражения для задания ограничений."
   ],
   "metadata": {
    "collapsed": false
   }
  },
  {
   "cell_type": "markdown",
   "source": [
    "#### Выбор графов\n",
    "\n",
    "Эксперимент проводился на следующих десяти графах из [датасета `CFPQ_Data`](https://jetbrains-research.github.io/CFPQ_Data/dataset/index.html):\n",
    "\n",
    "- `skos`, `atom`, `bzip`, `pr`, `ls`, `pathways`, `enzyme`, `apache` --- как репрезентативные по количеству вершин и рёбер относительно всего датасета\n",
    "- `go_hierarchy`, `geospecies` --- как имеющие сравнительно высокое отношение числа рёбер к числу вершин\n",
    "\n",
    "Графы с числом вершин или рёбер, приближающимся к трём миллионам и выше, решено было не рассматривать, так как время их обработки оказалось достаточно велико."
   ],
   "metadata": {
    "collapsed": false
   }
  },
  {
   "cell_type": "code",
   "execution_count": 297,
   "outputs": [
    {
     "name": "stderr",
     "output_type": "stream",
     "text": [
      "[2022-10-11 19:17:13]>INFO>Found graph with name='skos'\n",
      "[2022-10-11 19:17:14]>INFO>Load archive graph_archive=PosixPath('/home/eyjafl/.venv/formlang/lib/python3.10/site-packages/cfpq_data/data/skos.tar.gz')\n",
      "[2022-10-11 19:17:14]>INFO>Unzip graph name='skos' to file graph=PosixPath('/home/eyjafl/.venv/formlang/lib/python3.10/site-packages/cfpq_data/data/skos/skos.csv')\n",
      "[2022-10-11 19:17:14]>INFO>Remove archive graph_archive=PosixPath('/home/eyjafl/.venv/formlang/lib/python3.10/site-packages/cfpq_data/data/skos.tar.gz')\n",
      "[2022-10-11 19:17:14]>INFO>Load graph=<networkx.classes.multidigraph.MultiDiGraph object at 0x7f66a7c10610> from path=PosixPath('/home/eyjafl/.venv/formlang/lib/python3.10/site-packages/cfpq_data/data/skos/skos.csv')\n",
      "[2022-10-11 19:17:14]>INFO>Found graph with name='atom'\n",
      "[2022-10-11 19:17:14]>INFO>Load archive graph_archive=PosixPath('/home/eyjafl/.venv/formlang/lib/python3.10/site-packages/cfpq_data/data/atom.tar.gz')\n",
      "[2022-10-11 19:17:14]>INFO>Unzip graph name='atom' to file graph=PosixPath('/home/eyjafl/.venv/formlang/lib/python3.10/site-packages/cfpq_data/data/atom/atom.csv')\n",
      "[2022-10-11 19:17:14]>INFO>Remove archive graph_archive=PosixPath('/home/eyjafl/.venv/formlang/lib/python3.10/site-packages/cfpq_data/data/atom.tar.gz')\n",
      "[2022-10-11 19:17:14]>INFO>Load graph=<networkx.classes.multidigraph.MultiDiGraph object at 0x7f66a7c10cd0> from path=PosixPath('/home/eyjafl/.venv/formlang/lib/python3.10/site-packages/cfpq_data/data/atom/atom.csv')\n",
      "[2022-10-11 19:17:14]>INFO>Found graph with name='bzip'\n",
      "[2022-10-11 19:17:14]>INFO>Load archive graph_archive=PosixPath('/home/eyjafl/.venv/formlang/lib/python3.10/site-packages/cfpq_data/data/bzip.tar.gz')\n",
      "[2022-10-11 19:17:14]>INFO>Unzip graph name='bzip' to file graph=PosixPath('/home/eyjafl/.venv/formlang/lib/python3.10/site-packages/cfpq_data/data/bzip/bzip.csv')\n",
      "[2022-10-11 19:17:14]>INFO>Remove archive graph_archive=PosixPath('/home/eyjafl/.venv/formlang/lib/python3.10/site-packages/cfpq_data/data/bzip.tar.gz')\n",
      "[2022-10-11 19:17:14]>INFO>Load graph=<networkx.classes.multidigraph.MultiDiGraph object at 0x7f66a7c119f0> from path=PosixPath('/home/eyjafl/.venv/formlang/lib/python3.10/site-packages/cfpq_data/data/bzip/bzip.csv')\n",
      "[2022-10-11 19:17:14]>INFO>Found graph with name='pr'\n",
      "[2022-10-11 19:17:14]>INFO>Load archive graph_archive=PosixPath('/home/eyjafl/.venv/formlang/lib/python3.10/site-packages/cfpq_data/data/pr.tar.gz')\n",
      "[2022-10-11 19:17:14]>INFO>Unzip graph name='pr' to file graph=PosixPath('/home/eyjafl/.venv/formlang/lib/python3.10/site-packages/cfpq_data/data/pr/pr.csv')\n",
      "[2022-10-11 19:17:14]>INFO>Remove archive graph_archive=PosixPath('/home/eyjafl/.venv/formlang/lib/python3.10/site-packages/cfpq_data/data/pr.tar.gz')\n",
      "[2022-10-11 19:17:14]>INFO>Load graph=<networkx.classes.multidigraph.MultiDiGraph object at 0x7f66a7c11d50> from path=PosixPath('/home/eyjafl/.venv/formlang/lib/python3.10/site-packages/cfpq_data/data/pr/pr.csv')\n"
     ]
    }
   ],
   "source": [
    "from project.graph_utils import load_graph_from_cfpq_data\n",
    "\n",
    "GRAPHS: list[nx.Graph] = []\n",
    "\n",
    "\n",
    "def init_graphs():\n",
    "    for name in [\n",
    "        \"skos\",\n",
    "        \"atom\",\n",
    "        \"bzip\",\n",
    "        \"pr\",\n",
    "        #\"ls\",\n",
    "        #\"pathways\",\n",
    "        #\"enzyme\",\n",
    "        #\"go_hierarchy\",\n",
    "        #\"apache\",\n",
    "        #\"geospecies\"\n",
    "    ]:\n",
    "        graph = load_graph_from_cfpq_data(name)\n",
    "        graph.name = name\n",
    "        GRAPHS.append(graph)\n",
    "\n",
    "\n",
    "init_graphs()"
   ],
   "metadata": {
    "collapsed": false
   }
  },
  {
   "cell_type": "markdown",
   "source": [
    "Ниже приведена статистика по выбранным графам."
   ],
   "metadata": {
    "collapsed": false
   }
  },
  {
   "cell_type": "code",
   "execution_count": 298,
   "outputs": [
    {
     "data": {
      "text/plain": "   Name  Nodes  Edges  Edges per node  \\\n0  skos    144    252        1.750000   \n1  atom    291    425        1.460481   \n2  bzip    632    556        0.879747   \n3    pr    815    692        0.849080   \n\n                             Labels (most common -> least common)  \n0  [(type, 70), (label, 32), (isDefinedBy, 32), (definition, 32)]  \n1   [(type, 138), (label, 129), (subClassOf, 122), (comment, 11)]  \n2                                            [(d, 297), (a, 259)]  \n3                                            [(d, 359), (a, 333)]  ",
      "text/html": "<div>\n<style scoped>\n    .dataframe tbody tr th:only-of-type {\n        vertical-align: middle;\n    }\n\n    .dataframe tbody tr th {\n        vertical-align: top;\n    }\n\n    .dataframe thead th {\n        text-align: right;\n    }\n</style>\n<table border=\"1\" class=\"dataframe\">\n  <thead>\n    <tr style=\"text-align: right;\">\n      <th></th>\n      <th>Name</th>\n      <th>Nodes</th>\n      <th>Edges</th>\n      <th>Edges per node</th>\n      <th>Labels (most common -&gt; least common)</th>\n    </tr>\n  </thead>\n  <tbody>\n    <tr>\n      <th>0</th>\n      <td>skos</td>\n      <td>144</td>\n      <td>252</td>\n      <td>1.750000</td>\n      <td>[(type, 70), (label, 32), (isDefinedBy, 32), (definition, 32)]</td>\n    </tr>\n    <tr>\n      <th>1</th>\n      <td>atom</td>\n      <td>291</td>\n      <td>425</td>\n      <td>1.460481</td>\n      <td>[(type, 138), (label, 129), (subClassOf, 122), (comment, 11)]</td>\n    </tr>\n    <tr>\n      <th>2</th>\n      <td>bzip</td>\n      <td>632</td>\n      <td>556</td>\n      <td>0.879747</td>\n      <td>[(d, 297), (a, 259)]</td>\n    </tr>\n    <tr>\n      <th>3</th>\n      <td>pr</td>\n      <td>815</td>\n      <td>692</td>\n      <td>0.849080</td>\n      <td>[(d, 359), (a, 333)]</td>\n    </tr>\n  </tbody>\n</table>\n</div>"
     },
     "execution_count": 298,
     "metadata": {},
     "output_type": "execute_result"
    }
   ],
   "source": [
    "import pandas as pd\n",
    "from collections import Counter\n",
    "from project.graph_utils import get_graph_info\n",
    "\n",
    "\n",
    "def get_most_common(source: list[str], n: int) -> list[tuple[str, int]]:\n",
    "    return sorted(Counter(source).most_common(n), key=lambda x: (x[1], x[0]), reverse=True)\n",
    "\n",
    "\n",
    "def graph_stats() -> pd.DataFrame:\n",
    "    stats = []\n",
    "\n",
    "    for graph in GRAPHS:\n",
    "        info = get_graph_info(graph)\n",
    "        stats.append([\n",
    "            graph.name,\n",
    "            info.nodes_num,\n",
    "            info.edges_num,\n",
    "            info.edges_num / info.nodes_num,\n",
    "            get_most_common(info.labels, 4),\n",
    "        ])\n",
    "\n",
    "    return pd.DataFrame(\n",
    "        sorted(stats, key=lambda st: st[2]),\n",
    "        columns=[\"Name\", \"Nodes\", \"Edges\", \"Edges per node\", \"Labels (most common -> least common)\"],\n",
    "    )\n",
    "\n",
    "\n",
    "pd.set_option(\"display.max_colwidth\", None)\n",
    "graph_stats()"
   ],
   "metadata": {
    "collapsed": false
   }
  },
  {
   "cell_type": "markdown",
   "source": [
    "#### Выбор регулярных выражений\n",
    "\n",
    "Для каждого графа создавалось по четыре регулярных выражения следующих видов:\n",
    "\n",
    "1. $R_1 = l_1 \\ | \\ l_2$ --- одно из наиболее простых выражений.\n",
    "2. $R_2 = (l_1 \\ | \\ l_2) \\ (l_3 \\ | \\ l_4)$ --- более сложное выражение.\n",
    "3. $R_3 = l_1 \\ l_2 \\ l_3 \\ l_4$ --- выражение со сравнительно большим числом состояний и малым числом переходов.\n",
    "4. $R_4 = (l_1 \\ | \\ l_2 \\ | \\ l_3 \\ | \\ l_4)^* \\ l_3 \\ l_4$ --- выражение со сравнительно большим числом переходов и малым числом состояний.\n",
    "\n",
    "В качестве меток $l_1, l_2, l_3, l_4$ выбирались четыре наиболее часто встречающиеся в конкретном графе метки в порядке убывания количества рёбер с ними (а если некоторые метки появляются на одинаковом количестве рёбер, то они сортируются в обратном алфавитном порядке). Если в графе менее четырёх меток, то существующие метки брались повторно в том же порядке необходимое количество раз. То есть, если граф обладает метками `ab` и `ac` на трёх рёбрах и `b` --- на одном, то $l_1 =$`ac`, $l_2 =$`ab`, $l_3 =$`b`, $l_4 =$`ac`.\n",
    "\n",
    "Далее представлен код для генерации описанных регулярных выражений."
   ],
   "metadata": {
    "collapsed": false
   }
  },
  {
   "cell_type": "code",
   "execution_count": 299,
   "outputs": [],
   "source": [
    "import pyformlang.finite_automaton as fa\n",
    "\n",
    "REGEX_LABELS_NUM = 4\n",
    "\n",
    "\n",
    "def label_to_regexp(l: str) -> re.Regex:\n",
    "    re0 = re.Regex(\"\")\n",
    "    re0.head = fa.Symbol(l)\n",
    "    return re0\n",
    "\n",
    "\n",
    "def r1(l1: str, l2: str, _l3: str, _l4: str) -> re.Regex:\n",
    "    del _l3, _l4\n",
    "    re1 = label_to_regexp(l1)\n",
    "    re2 = label_to_regexp(l2)\n",
    "    return re1.union(re2)\n",
    "\n",
    "\n",
    "def r2(l1: str, l2: str, l3: str, l4: str) -> re.Regex:\n",
    "    re1 = label_to_regexp(l1)\n",
    "    re2 = label_to_regexp(l2)\n",
    "    re12 = re1.union(re2)\n",
    "\n",
    "    re3 = label_to_regexp(l3)\n",
    "    re4 = label_to_regexp(l4)\n",
    "    re34 = re3.union(re4)\n",
    "\n",
    "    return re12.concatenate(re34)\n",
    "\n",
    "\n",
    "def r3(l1: str, l2: str, l3: str, l4: str) -> re.Regex:\n",
    "    re1 = label_to_regexp(l1)\n",
    "    re2 = label_to_regexp(l2)\n",
    "    re3 = label_to_regexp(l3)\n",
    "    re4 = label_to_regexp(l4)\n",
    "    return re1.concatenate(re2).concatenate(re3).concatenate(re4)\n",
    "\n",
    "\n",
    "def r4(l1: str, l2: str, l3: str, l4: str) -> re.Regex:\n",
    "    re1 = label_to_regexp(l1)\n",
    "    re2 = label_to_regexp(l2)\n",
    "    re3 = label_to_regexp(l3)\n",
    "    re4 = label_to_regexp(l4)\n",
    "    re1234 = re1.union(re2).union(re3).union(re4)\n",
    "    re1234 = re1234.kleene_star()\n",
    "\n",
    "    return re1234.concatenate(re3).concatenate(re4)\n",
    "\n",
    "\n",
    "REGEXES = {\n",
    "    \"l1 | l2\": r1,\n",
    "    \"(l1 | l2) (l3 | l4)\": r2,\n",
    "    \"l1 l2 l3 l4\": r3,\n",
    "    \"(l1 | l2 | l3 | l4)* l3 l4\": r4\n",
    "}\n",
    "\n",
    "\n",
    "def create_regexes_for_graph(graph: nx.Graph) -> list[re.Regex]:\n",
    "    info = get_graph_info(graph)\n",
    "    labels = get_most_common(info.labels, REGEX_LABELS_NUM)\n",
    "    while len(labels) < REGEX_LABELS_NUM:\n",
    "        labels += labels\n",
    "    labels = labels[:REGEX_LABELS_NUM]\n",
    "\n",
    "    return [r(*labels) for r in REGEXES.values()]"
   ],
   "metadata": {
    "collapsed": false
   }
  },
  {
   "cell_type": "markdown",
   "source": [
    "Также ниже приведены характеристики данных регулярных выражений как конечных автоматов, к которым они будут сводиться в исследуемых алгоритмах."
   ],
   "metadata": {
    "collapsed": false
   }
  },
  {
   "cell_type": "code",
   "execution_count": 300,
   "outputs": [
    {
     "data": {
      "text/plain": "                        Regex  Symbols  States  Transitions  \\\n0                     l1 | l2        2       2            2   \n1         (l1 | l2) (l3 | l4)        4       3            4   \n2                 l1 l2 l3 l4        4       5            4   \n3  (l1 | l2 | l3 | l4)* l3 l4        4       3           12   \n\n   Transitions per state  \n0               1.000000  \n1               1.333333  \n2               0.800000  \n3               4.000000  ",
      "text/html": "<div>\n<style scoped>\n    .dataframe tbody tr th:only-of-type {\n        vertical-align: middle;\n    }\n\n    .dataframe tbody tr th {\n        vertical-align: top;\n    }\n\n    .dataframe thead th {\n        text-align: right;\n    }\n</style>\n<table border=\"1\" class=\"dataframe\">\n  <thead>\n    <tr style=\"text-align: right;\">\n      <th></th>\n      <th>Regex</th>\n      <th>Symbols</th>\n      <th>States</th>\n      <th>Transitions</th>\n      <th>Transitions per state</th>\n    </tr>\n  </thead>\n  <tbody>\n    <tr>\n      <th>0</th>\n      <td>l1 | l2</td>\n      <td>2</td>\n      <td>2</td>\n      <td>2</td>\n      <td>1.000000</td>\n    </tr>\n    <tr>\n      <th>1</th>\n      <td>(l1 | l2) (l3 | l4)</td>\n      <td>4</td>\n      <td>3</td>\n      <td>4</td>\n      <td>1.333333</td>\n    </tr>\n    <tr>\n      <th>2</th>\n      <td>l1 l2 l3 l4</td>\n      <td>4</td>\n      <td>5</td>\n      <td>4</td>\n      <td>0.800000</td>\n    </tr>\n    <tr>\n      <th>3</th>\n      <td>(l1 | l2 | l3 | l4)* l3 l4</td>\n      <td>4</td>\n      <td>3</td>\n      <td>12</td>\n      <td>4.000000</td>\n    </tr>\n  </tbody>\n</table>\n</div>"
     },
     "execution_count": 300,
     "metadata": {},
     "output_type": "execute_result"
    }
   ],
   "source": [
    "def regex_stats() -> pd.DataFrame:\n",
    "    stats = []\n",
    "\n",
    "    for s, r in [(s, r(\"a\", \"b\", \"c\", \"d\")) for s, r in REGEXES.items()]:\n",
    "        dfa = regex_to_min_dfa(r)\n",
    "        stats.append([\n",
    "            s,\n",
    "            len(dfa.symbols),\n",
    "            len(dfa.states),\n",
    "            dfa.get_number_transitions(),\n",
    "            dfa.get_number_transitions() / len(dfa.states),\n",
    "        ])\n",
    "\n",
    "    return pd.DataFrame(stats, columns=[\"Regex\", \"Symbols\", \"States\", \"Transitions\", \"Transitions per state\"])\n",
    "\n",
    "\n",
    "regex_stats()"
   ],
   "metadata": {
    "collapsed": false
   }
  },
  {
   "cell_type": "markdown",
   "source": [
    "#### Выбор множеств стартовых и финальных вершин\n",
    "\n",
    "Стоит отметить, что множество стартовых вершин может заметно и нетривиально повлиять на быстродействие алгоритмов, решающих задачу в постановках 2 и 3, так как если из выбранных вершин достижима малая область графа, то обход завершится быстрее. Для алгоритма в постановке задачи под номером 3 число стартовых вершин также определяет размер матрицы-фронта. Для обеспечения воспроизводимости результатов эксперимента множества стартовых вершин генерировалось при помощи функций [`generate_multiple_source`](https://jetbrains-research.github.io/CFPQ_Data/reference/graphs/generated/cfpq_data.graphs.utils.multiple_source_utils.html#cfpq_data.graphs.utils.multiple_source_utils.generate_multiple_source) и [`generate_multiple_source_percent`](https://jetbrains-research.github.io/CFPQ_Data/reference/graphs/generated/cfpq_data.graphs.utils.multiple_source_utils.html#cfpq_data.graphs.utils.multiple_source_utils.generate_multiple_source_percent) из библиотеки `CFPQ_Data` со значением параметра `seed`, равным `42`. Так как для вопроса 2 из цели данной работы требуется изучить влияние размера множества стартовых вершин, то значение параметра `set_size` определяется конкретным экспериментом.\n",
    "\n",
    "Напротив, множество финальных вершин влияет на быстродействие всех трёх алгоритмов тривиально и лишь своим размером: во всех случаях на завершающем этапе достигнутые вершины проверяются на принадлежность к множеству финальных вершин, что происходит через поиск по множеству. Поэтому для простоты в качестве множества финальных вершин выбиралось всё множество вершин графа."
   ],
   "metadata": {
    "collapsed": false
   }
  },
  {
   "cell_type": "code",
   "execution_count": 301,
   "outputs": [],
   "source": [
    "# Seed to generate the set of start nodes\n",
    "START_SET_SEED = 42"
   ],
   "metadata": {
    "collapsed": false
   }
  },
  {
   "cell_type": "markdown",
   "source": [
    "### Проводимые замеры\n",
    "\n",
    "Для ответа на каждый из поставленных вопросов нужно провести соответствующие замеры.\n",
    "\n",
    "#### Замеры для вопроса 1 (о выгоде от использования `pycubool`)\n",
    "\n",
    "Для выяснения того, при каких условиях использование `pycubool` даёт выигрыш в производительности против использования `scipy.sparse`, нужно выявить основные характеристики матриц, которые влияют на скорость выполнения данными библиотеками матричных операций.\n",
    "\n",
    "Естественно предположить, что это размер и степень разреженности (мера того, насколько матрица заполнена непустыми элементами): чем больше каждая из этих величин, тем больше нетривиальных операций нужно провести. Среди параметров графа и регулярного выражения на эти величины влияют, соответственно, число вершин (или же состояний конечного автомата, в случае регулярного выражения) и отношение числа рёбер (или же переходов) к числу вершин (или же состояний).\n",
    "\n",
    "Таким образом, для каждого из трёх алгоритмов следует для реализаций на `scipy.sparse` и `pycubool` замерить скорость их работы на всевозможных комбинациях выбранных графов и регулярных выражений с фиксированными стартовыми множествами и проследить зависимость разницы данных скоростей от указанных параметров.\n",
    "\n",
    "#### Замеры для вопроса 2 (о влиянии размера стартового множества на выгоду использования решений первой и третьей формулировок)\n",
    "\n",
    "Чтобы понять, при каких размерах множества стартовых вершинах, используя `pycubool`, эффективнее решать задачу в её первой постановке (то есть искать достижимые вершины среди всех пар вершин, а затем отбирать нужные), а при каких --- в третьей (то есть искать достижимые вершины лишь от стартовых вершин), требуется замерить скорость работы данных решений, реализованных на `pycubool`, при разных размерах стартового множества вершин.\n",
    "\n",
    "Таким образом, следует замерить скорость работы реализаций решения первой и третьей постановок задачи на `pycubool` на всевозможных комбинациях выбранных графов и регулярных выражений с различными размерами стартового множества и проследить, какая из реализаций будет показывать лучший результат в зависимости от взятых размеров.\n",
    "\n",
    "#### Замеры для вопроса 3 (о сравнении быстродействия решений второй и третьей формулировок)\n",
    "\n",
    "Чтобы выяснить, насколько решение задачи на `pycubool` в её второй формулировке (поиск для всего стартового множества вместе) быстрее решения в третьей (поиск для каждой стартовой вершины отдельно) при равных начальных условиях нужно замерить время их работы на одинаковых графах и регулярных запросах с равными стартовыми множествами.\n",
    "\n",
    "Таким образом, следует замерить скорость работы реализаций решения второй и третьей постановок задачи на `pycubool` на всевозможных комбинациях выбранных графов и регулярных выражений с некоторыми фиксированным стартовыми множествами и сравнить результаты.\n",
    "\n",
    "#### Итог по необходимым замерам\n",
    "\n",
    "Итого, для ответа на все три вопроса достаточно провести следующие замеры времени выполнения:\n",
    "\n",
    "- на всевозможных комбинациях выбранных графов и регулярных выражений с фиксированными стартовыми множествами --- для всех реализаций;\n",
    "- на всевозможных комбинациях выбранных графов, регулярных выражений и размеров стартовых множеств --- для реализаций первой и третьей формулировок задачи на `pycubool`.\n",
    "\n",
    "Для небольших графов (с числом вершин не более 10000) время работы замеряется пять раз подряд для получения среднего значения и стандартного отклонения. Для больших графов (с числом вершин более 10000) замеры проводятся по одному разу, так как время, затрачиваемое на выполнение алгоритмов на таких графах существенно превышает получаемые погрешности. Время замеряется при помощи модуля [`timeit`](https://docs.python.org/3/library/timeit.html)."
   ],
   "metadata": {
    "collapsed": false
   }
  },
  {
   "cell_type": "code",
   "execution_count": 315,
   "outputs": [],
   "source": [
    "# Percent of nodes to take as start in the fixed-start experiment\n",
    "FIXED_START_SIZE = 50\n",
    "# Sizes of start sets in varied-start experiment\n",
    "VARIED_START_SIZES = [50, 100, 200, 400, 800, 1500, 3000, 6000, 10000]\n",
    "# Number of consecutive times each measurement is run for small graphs\n",
    "RUN_TIMES_SMALL = 5\n",
    "# Number of consecutive times each measurement is run for huge graphs\n",
    "RUN_TIMES_HUGE = 1\n",
    "\n",
    "\n",
    "# Determines which graphs are considered small\n",
    "def is_small(graph: nx.Graph) -> bool:\n",
    "    return graph.number_of_edges() <= 10000"
   ],
   "metadata": {
    "collapsed": false
   }
  },
  {
   "cell_type": "markdown",
   "source": [
    "Ниже представлен код для проведения описанных замеров."
   ],
   "metadata": {
    "collapsed": false
   }
  },
  {
   "cell_type": "code",
   "execution_count": 318,
   "outputs": [
    {
     "name": "stderr",
     "output_type": "stream",
     "text": [
      "[2022-10-11 20:41:51]>INFO>Generate set of source vertices of 50 nodes for graph=<networkx.classes.multidigraph.MultiDiGraph object at 0x7f66a7c10610> for multiple-source evaluation\n"
     ]
    },
    {
     "name": "stdout",
     "output_type": "stream",
     "text": [
      "########## Graph skos (1 / 4, run times = 5) ##########\n",
      "========== Regex #1 ==========\n",
      "by_tensor (0.01374721519969171, 0.001861890960344246)\n",
      "by_bfs_all (0.01115823080035625, 5.043853080936814e-05)\n",
      "by_bfs_each (0.02988983379909769, 0.004198058343723092)\n",
      "by_tensor_cuda (0.00830631160060875, 0.0001882229951503399)\n",
      "by_bfs_all_cuda (0.007964225600881036, 8.902884777925695e-05)\n",
      "by_bfs_each_cuda\n",
      "(0.02846086800127523, 0.0026781148071159653)\n",
      "========== Regex #2 ==========\n",
      "by_tensor (0.013301162600691896, 0.00034558851286629986)\n",
      "by_bfs_all (0.011470563198963645, 5.661886273260265e-05)\n",
      "by_bfs_each (0.026331317398580724, 0.00022879581768968653)\n",
      "by_tensor_cuda (0.008500912197632715, 0.0001874229704388893)\n",
      "by_bfs_all_cuda (0.00812039519805694, 3.75587773104613e-05)\n",
      "by_bfs_each_cuda\n",
      "(0.02681638460053364, 0.002040879040408599)\n",
      "========== Regex #3 ==========\n",
      "by_tensor (0.013308496797981207, 0.00026096574563645155)\n",
      "by_bfs_all (0.011492850001377519, 3.367640540108561e-05)\n",
      "by_bfs_each (0.026545460998022463, 0.0005125839836869427)\n",
      "by_tensor_cuda (0.008612487402569969, 0.00018746192757136728)\n",
      "by_bfs_all_cuda (0.008076642798550892, 1.8554526882156494e-05)\n",
      "by_bfs_each_cuda\n",
      "(0.027291261599748394, 0.0017156011982243319)\n",
      "========== Regex #4 ==========\n",
      "by_tensor (0.013990926599944942, 0.00027630186356590597)\n",
      "by_bfs_all (0.012269822401867714, 6.50562222265818e-05)\n",
      "by_bfs_each (0.027231540998036506, 0.00034020429658317136)\n",
      "by_tensor_cuda (0.009283830398635473, 0.00013680232151366673)\n",
      "by_bfs_all_cuda (0.008860361001279671, 2.5182521114074012e-05)\n",
      "by_bfs_each_cuda\n"
     ]
    },
    {
     "name": "stderr",
     "output_type": "stream",
     "text": [
      "[2022-10-11 20:41:53]>INFO>Generate set of source vertices of 50 nodes for graph=<networkx.classes.multidigraph.MultiDiGraph object at 0x7f66a7c10cd0> for multiple-source evaluation\n"
     ]
    },
    {
     "name": "stdout",
     "output_type": "stream",
     "text": [
      "(0.027318808999552857, 0.0019767561485931062)\n",
      "########## Graph atom (2 / 4, run times = 5) ##########\n",
      "========== Regex #1 ==========\n",
      "by_tensor (0.028160538797965273, 0.0004741305971153625)\n",
      "by_bfs_all (0.026507420599227772, 0.00018460194465573407)\n",
      "by_bfs_each (0.04183065940014785, 0.0003179471650755602)\n",
      "by_tensor_cuda (0.022889572200074326, 0.00033777374056709125)\n",
      "by_bfs_all_cuda (0.022458012799324932, 0.00018470299473409264)\n",
      "by_bfs_each_cuda\n",
      "(0.04034953020309331, 0.001353709225454851)\n",
      "========== Regex #2 ==========\n",
      "by_tensor (0.028413003400783055, 0.0003057039058279571)\n",
      "by_bfs_all (0.026757393198204228, 0.00013538913700215425)\n",
      "by_bfs_each (0.04619391559972428, 0.007573572562558265)\n",
      "by_tensor_cuda (0.023117544998240192, 0.00011077957039003764)\n",
      "by_bfs_all_cuda (0.028911645601328927, 0.009262699938246279)\n",
      "by_bfs_each_cuda\n",
      "(0.040880880200711546, 0.0007035596765959448)\n",
      "========== Regex #3 ==========\n",
      "by_tensor (0.028776402999938, 0.00023653256773537777)\n",
      "by_bfs_all (0.02681379459972959, 9.033720018050238e-05)\n",
      "by_bfs_each (0.050521001998276915, 0.01584680815460301)\n",
      "by_tensor_cuda (0.023797230800846593, 0.00019697805607091676)\n",
      "by_bfs_all_cuda (0.027133377399877645, 0.005450296468995574)\n",
      "by_bfs_each_cuda\n",
      "(0.04223852400027681, 0.0005350084167305045)\n",
      "========== Regex #4 ==========\n",
      "by_tensor (0.03313194099901011, 0.007384160573915381)\n",
      "by_bfs_all (0.028216098397388124, 0.00021222505980549112)\n",
      "by_bfs_each (0.04370044200040866, 0.00038758639875103977)\n",
      "by_tensor_cuda (0.024394129001302646, 0.00015595261330047649)\n",
      "by_bfs_all_cuda (0.023890685199876315, 0.00022123995960727865)\n",
      "by_bfs_each_cuda\n"
     ]
    },
    {
     "name": "stderr",
     "output_type": "stream",
     "text": [
      "[2022-10-11 20:41:57]>INFO>Generate set of source vertices of 50 nodes for graph=<networkx.classes.multidigraph.MultiDiGraph object at 0x7f66a7c119f0> for multiple-source evaluation\n"
     ]
    },
    {
     "name": "stdout",
     "output_type": "stream",
     "text": [
      "(0.04216400100121973, 0.0012634728826023444)\n",
      "########## Graph bzip (3 / 4, run times = 5) ##########\n",
      "========== Regex #1 ==========\n",
      "by_tensor (0.05481373359943973, 0.0009832709996360407)\n",
      "by_bfs_all (0.053856899999664164, 0.0005097561606442421)\n",
      "by_bfs_each (0.0706954165987554, 0.000677623225561924)\n",
      "by_tensor_cuda (0.056557785801123826, 0.01111386115880412)\n",
      "by_bfs_all_cuda (0.05285161540086847, 0.004487978724384334)\n",
      "by_bfs_each_cuda\n",
      "(0.06885109760187333, 0.002172306022143203)\n",
      "========== Regex #2 ==========\n",
      "by_tensor (0.06262863160227425, 0.017184177755350426)\n",
      "by_bfs_all (0.05392155260051368, 0.00018064700699079383)\n",
      "by_bfs_each (0.07122653660189826, 0.00039933179530092863)\n",
      "by_tensor_cuda (0.05700573439971777, 0.012374299370245104)\n",
      "by_bfs_all_cuda (0.05151601419929648, 0.0013302715604976102)\n",
      "by_bfs_each_cuda\n",
      "(0.06922555199998896, 0.002267115043574281)\n",
      "========== Regex #3 ==========\n",
      "by_tensor (0.05997758580197114, 0.012577245769750505)\n",
      "by_bfs_all (0.053969493600015996, 0.0013376341645192347)\n",
      "by_bfs_each (0.06998996100010117, 0.0012391811072401807)\n",
      "by_tensor_cuda (0.056106221200025175, 0.010989490957630731)\n",
      "by_bfs_all_cuda (0.04940062220121035, 0.00043196127420115995)\n",
      "by_bfs_each_cuda\n",
      "(0.06798600279871607, 0.001047159790974219)\n",
      "========== Regex #4 ==========\n",
      "by_tensor (0.06094470379903214, 0.01642169134148874)\n",
      "by_bfs_all (0.0530960199990659, 0.0004883399543008958)\n",
      "by_bfs_each (0.0696977166022407, 0.0004777767015610296)\n",
      "by_tensor_cuda (0.054910026399011255, 0.010299575978654744)\n",
      "by_bfs_all_cuda (0.049907050999172496, 0.0006703894046322717)\n",
      "by_bfs_each_cuda\n"
     ]
    },
    {
     "name": "stderr",
     "output_type": "stream",
     "text": [
      "[2022-10-11 20:42:04]>INFO>Generate set of source vertices of 50 nodes for graph=<networkx.classes.multidigraph.MultiDiGraph object at 0x7f66a7c11d50> for multiple-source evaluation\n"
     ]
    },
    {
     "name": "stdout",
     "output_type": "stream",
     "text": [
      "(0.06776908319880022, 0.0008034900626609125)\n",
      "########## Graph pr (4 / 4, run times = 5) ##########\n",
      "========== Regex #1 ==========\n",
      "by_tensor (0.08292260459857062, 0.0012224280812992336)\n",
      "by_bfs_all (0.09323371739883442, 0.014875123459773917)\n",
      "by_bfs_each (0.123605361598311, 0.02005331272769283)\n",
      "by_tensor_cuda (0.0844636954003363, 0.004225901866897658)\n",
      "by_bfs_all_cuda (0.08040409699751763, 0.0005863969872529926)\n",
      "by_bfs_each_cuda\n",
      "(0.09676730060164118, 0.0012919581988512872)\n",
      "========== Regex #2 ==========\n",
      "by_tensor (0.0850572044000728, 0.0005282966259215569)\n",
      "by_bfs_all (0.08404998520127265, 0.0008524927922422879)\n",
      "by_bfs_each (0.10179031979932915, 0.0006712143533075727)\n",
      "by_tensor_cuda (0.0815945720023592, 0.0008412470735752167)\n",
      "by_bfs_all_cuda (0.08016472620074637, 0.0006311403836065206)\n",
      "by_bfs_each_cuda\n",
      "(0.09762766079948051, 0.0005599376890125281)\n",
      "========== Regex #3 ==========\n",
      "by_tensor (0.08574563919828507, 0.0009179250695441251)\n",
      "by_bfs_all (0.0875458246038761, 0.007884778907606327)\n",
      "by_bfs_each (0.1017602061998332, 0.0006937872095654847)\n",
      "by_tensor_cuda (0.08199231600156054, 0.0008598786516873473)\n",
      "by_bfs_all_cuda (0.07955775960290339, 0.0011771909292077423)\n",
      "by_bfs_each_cuda\n",
      "(0.09792248980083969, 0.0009474095348647663)\n",
      "========== Regex #4 ==========\n",
      "by_tensor (0.08519394120085053, 0.0005938411459659849)\n",
      "by_bfs_all (0.08471121059992584, 0.0008943253446549588)\n",
      "by_bfs_each (0.1017635549986153, 0.0006298209864456638)\n",
      "by_tensor_cuda (0.08095501160132698, 0.0005361703775276418)\n",
      "by_bfs_all_cuda (0.08071878440096043, 0.0015192571475974783)\n",
      "by_bfs_each_cuda\n"
     ]
    },
    {
     "name": "stderr",
     "output_type": "stream",
     "text": [
      "[2022-10-11 20:42:15]>INFO>Generate set of source vertices of 50 nodes for graph=<networkx.classes.multidigraph.MultiDiGraph object at 0x7f66a7c10610> for multiple-source evaluation\n",
      "[2022-10-11 20:42:15]>INFO>Generate set of source vertices of 100 nodes for graph=<networkx.classes.multidigraph.MultiDiGraph object at 0x7f66a7c10610> for multiple-source evaluation\n"
     ]
    },
    {
     "name": "stdout",
     "output_type": "stream",
     "text": [
      "(0.09868515920097706, 0.0014654015244125959)\n",
      "########## Graph skos (1 / 4, run times = 5) ##########\n",
      "========== Regex #1 ==========\n",
      "********** Start size #50 **********\n",
      "by_tensor_cuda (0.008481881199986673, 0.0001528586259125546)\n",
      "by_bfs_each_cuda\n",
      "(0.02671183719940018, 0.0019048783205956917)\n",
      "********** Start size #100 **********\n",
      "by_tensor_cuda (0.008323917198868002, 0.00011884280734835249)\n",
      "by_bfs_each_cuda\n"
     ]
    },
    {
     "name": "stderr",
     "output_type": "stream",
     "text": [
      "[2022-10-11 20:42:15]>INFO>Generate set of source vertices of 50 nodes for graph=<networkx.classes.multidigraph.MultiDiGraph object at 0x7f66a7c10610> for multiple-source evaluation\n",
      "[2022-10-11 20:42:15]>INFO>Generate set of source vertices of 100 nodes for graph=<networkx.classes.multidigraph.MultiDiGraph object at 0x7f66a7c10610> for multiple-source evaluation\n"
     ]
    },
    {
     "name": "stdout",
     "output_type": "stream",
     "text": [
      "(0.048515310195216446, 0.006460489989479229)\n",
      "========== Regex #2 ==========\n",
      "********** Start size #50 **********\n",
      "by_tensor_cuda (0.008805182200740091, 0.00022601415843768528)\n",
      "by_bfs_each_cuda\n",
      "(0.027007684197451455, 0.0019038271199009842)\n",
      "********** Start size #100 **********\n",
      "by_tensor_cuda (0.008584811998298391, 0.0001314167664378897)\n",
      "by_bfs_each_cuda\n"
     ]
    },
    {
     "name": "stderr",
     "output_type": "stream",
     "text": [
      "[2022-10-11 20:42:15]>INFO>Generate set of source vertices of 50 nodes for graph=<networkx.classes.multidigraph.MultiDiGraph object at 0x7f66a7c10610> for multiple-source evaluation\n",
      "[2022-10-11 20:42:16]>INFO>Generate set of source vertices of 100 nodes for graph=<networkx.classes.multidigraph.MultiDiGraph object at 0x7f66a7c10610> for multiple-source evaluation\n"
     ]
    },
    {
     "name": "stdout",
     "output_type": "stream",
     "text": [
      "(0.04622887919977074, 0.0027222370358152923)\n",
      "========== Regex #3 ==========\n",
      "********** Start size #50 **********\n",
      "by_tensor_cuda (0.008904268000333105, 0.000242534553136663)\n",
      "by_bfs_each_cuda\n",
      "(0.026423832596628928, 0.000965216723005681)\n",
      "********** Start size #100 **********\n",
      "by_tensor_cuda (0.008630904999154154, 9.881999616889213e-05)\n",
      "by_bfs_each_cuda\n"
     ]
    },
    {
     "name": "stderr",
     "output_type": "stream",
     "text": [
      "[2022-10-11 20:42:16]>INFO>Generate set of source vertices of 50 nodes for graph=<networkx.classes.multidigraph.MultiDiGraph object at 0x7f66a7c10610> for multiple-source evaluation\n",
      "[2022-10-11 20:42:16]>INFO>Generate set of source vertices of 100 nodes for graph=<networkx.classes.multidigraph.MultiDiGraph object at 0x7f66a7c10610> for multiple-source evaluation\n"
     ]
    },
    {
     "name": "stdout",
     "output_type": "stream",
     "text": [
      "(0.04865054319961928, 0.005919473975786743)\n",
      "========== Regex #4 ==========\n",
      "********** Start size #50 **********\n",
      "by_tensor_cuda (0.009585516198421828, 0.00027713298033837686)\n",
      "by_bfs_each_cuda\n",
      "(0.02795156700158259, 0.0008802769614256727)\n",
      "********** Start size #100 **********\n",
      "by_tensor_cuda (0.009348057000897825, 0.00012357251831853828)\n",
      "by_bfs_each_cuda\n"
     ]
    },
    {
     "name": "stderr",
     "output_type": "stream",
     "text": [
      "[2022-10-11 20:42:16]>INFO>Generate set of source vertices of 50 nodes for graph=<networkx.classes.multidigraph.MultiDiGraph object at 0x7f66a7c10cd0> for multiple-source evaluation\n"
     ]
    },
    {
     "name": "stdout",
     "output_type": "stream",
     "text": [
      "(0.04908514699927764, 0.00627694496053432)\n",
      "########## Graph atom (2 / 4, run times = 5) ##########\n",
      "========== Regex #1 ==========\n",
      "********** Start size #50 **********\n",
      "by_tensor_cuda (0.023594290800974704, 0.0003635735628096928)\n",
      "by_bfs_each_cuda\n"
     ]
    },
    {
     "name": "stderr",
     "output_type": "stream",
     "text": [
      "[2022-10-11 20:42:17]>INFO>Generate set of source vertices of 100 nodes for graph=<networkx.classes.multidigraph.MultiDiGraph object at 0x7f66a7c10cd0> for multiple-source evaluation\n"
     ]
    },
    {
     "name": "stdout",
     "output_type": "stream",
     "text": [
      "(0.043932118198426906, 0.004564239821834075)\n",
      "********** Start size #100 **********\n",
      "by_tensor_cuda (0.02360269539785804, 9.517093974621109e-05)\n",
      "by_bfs_each_cuda\n"
     ]
    },
    {
     "name": "stderr",
     "output_type": "stream",
     "text": [
      "[2022-10-11 20:42:17]>INFO>Generate set of source vertices of 200 nodes for graph=<networkx.classes.multidigraph.MultiDiGraph object at 0x7f66a7c10cd0> for multiple-source evaluation\n"
     ]
    },
    {
     "name": "stdout",
     "output_type": "stream",
     "text": [
      "(0.0634184490001644, 0.005705981739224379)\n",
      "********** Start size #200 **********\n",
      "by_tensor_cuda (0.022276062199671286, 0.00028392786134622254)\n",
      "by_bfs_each_cuda\n"
     ]
    },
    {
     "name": "stderr",
     "output_type": "stream",
     "text": [
      "[2022-10-11 20:42:18]>INFO>Generate set of source vertices of 50 nodes for graph=<networkx.classes.multidigraph.MultiDiGraph object at 0x7f66a7c10cd0> for multiple-source evaluation\n"
     ]
    },
    {
     "name": "stdout",
     "output_type": "stream",
     "text": [
      "(0.09878163980174577, 0.0025771816891277393)\n",
      "========== Regex #2 ==========\n",
      "********** Start size #50 **********\n",
      "by_tensor_cuda (0.023915445402963087, 0.00023257061887428204)\n",
      "by_bfs_each_cuda\n"
     ]
    },
    {
     "name": "stderr",
     "output_type": "stream",
     "text": [
      "[2022-10-11 20:42:18]>INFO>Generate set of source vertices of 100 nodes for graph=<networkx.classes.multidigraph.MultiDiGraph object at 0x7f66a7c10cd0> for multiple-source evaluation\n"
     ]
    },
    {
     "name": "stdout",
     "output_type": "stream",
     "text": [
      "(0.044915077202313115, 0.0037241619628813998)\n",
      "********** Start size #100 **********\n",
      "by_tensor_cuda (0.02385473339672899, 0.00020378918225241965)\n",
      "by_bfs_each_cuda\n"
     ]
    },
    {
     "name": "stderr",
     "output_type": "stream",
     "text": [
      "[2022-10-11 20:42:19]>INFO>Generate set of source vertices of 200 nodes for graph=<networkx.classes.multidigraph.MultiDiGraph object at 0x7f66a7c10cd0> for multiple-source evaluation\n"
     ]
    },
    {
     "name": "stdout",
     "output_type": "stream",
     "text": [
      "(0.06288936920173001, 0.005469740811154526)\n",
      "********** Start size #200 **********\n",
      "by_tensor_cuda (0.0225567499990575, 0.00013511289780142576)\n",
      "by_bfs_each_cuda\n"
     ]
    },
    {
     "name": "stderr",
     "output_type": "stream",
     "text": [
      "[2022-10-11 20:42:19]>INFO>Generate set of source vertices of 50 nodes for graph=<networkx.classes.multidigraph.MultiDiGraph object at 0x7f66a7c10cd0> for multiple-source evaluation\n"
     ]
    },
    {
     "name": "stdout",
     "output_type": "stream",
     "text": [
      "(0.09905795160011621, 0.002380818499730831)\n",
      "========== Regex #3 ==========\n",
      "********** Start size #50 **********\n",
      "by_tensor_cuda (0.024342962400987746, 0.0005415925333479185)\n",
      "by_bfs_each_cuda\n"
     ]
    },
    {
     "name": "stderr",
     "output_type": "stream",
     "text": [
      "[2022-10-11 20:42:20]>INFO>Generate set of source vertices of 100 nodes for graph=<networkx.classes.multidigraph.MultiDiGraph object at 0x7f66a7c10cd0> for multiple-source evaluation\n"
     ]
    },
    {
     "name": "stdout",
     "output_type": "stream",
     "text": [
      "(0.04455189799773507, 0.003737855933717408)\n",
      "********** Start size #100 **********\n",
      "by_tensor_cuda (0.024171720001322682, 0.0003189585174737731)\n",
      "by_bfs_each_cuda\n"
     ]
    },
    {
     "name": "stderr",
     "output_type": "stream",
     "text": [
      "[2022-10-11 20:42:20]>INFO>Generate set of source vertices of 200 nodes for graph=<networkx.classes.multidigraph.MultiDiGraph object at 0x7f66a7c10cd0> for multiple-source evaluation\n"
     ]
    },
    {
     "name": "stdout",
     "output_type": "stream",
     "text": [
      "(0.06283926919859369, 0.006825299889339509)\n",
      "********** Start size #200 **********\n",
      "by_tensor_cuda (0.022824063402367756, 0.00019140174108285028)\n",
      "by_bfs_each_cuda\n"
     ]
    },
    {
     "name": "stderr",
     "output_type": "stream",
     "text": [
      "[2022-10-11 20:42:21]>INFO>Generate set of source vertices of 50 nodes for graph=<networkx.classes.multidigraph.MultiDiGraph object at 0x7f66a7c10cd0> for multiple-source evaluation\n"
     ]
    },
    {
     "name": "stdout",
     "output_type": "stream",
     "text": [
      "(0.09842484519758728, 0.001736494453344473)\n",
      "========== Regex #4 ==========\n",
      "********** Start size #50 **********\n",
      "by_tensor_cuda (0.024597443401580675, 0.0001301567018690693)\n",
      "by_bfs_each_cuda\n"
     ]
    },
    {
     "name": "stderr",
     "output_type": "stream",
     "text": [
      "[2022-10-11 20:42:21]>INFO>Generate set of source vertices of 100 nodes for graph=<networkx.classes.multidigraph.MultiDiGraph object at 0x7f66a7c10cd0> for multiple-source evaluation\n"
     ]
    },
    {
     "name": "stdout",
     "output_type": "stream",
     "text": [
      "(0.04385851939878194, 0.0012234047224351755)\n",
      "********** Start size #100 **********\n",
      "by_tensor_cuda (0.024798724602442236, 0.0001757327997715478)\n",
      "by_bfs_each_cuda\n"
     ]
    },
    {
     "name": "stderr",
     "output_type": "stream",
     "text": [
      "[2022-10-11 20:42:21]>INFO>Generate set of source vertices of 200 nodes for graph=<networkx.classes.multidigraph.MultiDiGraph object at 0x7f66a7c10cd0> for multiple-source evaluation\n"
     ]
    },
    {
     "name": "stdout",
     "output_type": "stream",
     "text": [
      "(0.06448109559860313, 0.005279002555434174)\n",
      "********** Start size #200 **********\n",
      "by_tensor_cuda (0.023708247998729347, 0.000439611710026799)\n",
      "by_bfs_each_cuda\n"
     ]
    },
    {
     "name": "stderr",
     "output_type": "stream",
     "text": [
      "[2022-10-11 20:42:22]>INFO>Generate set of source vertices of 50 nodes for graph=<networkx.classes.multidigraph.MultiDiGraph object at 0x7f66a7c119f0> for multiple-source evaluation\n"
     ]
    },
    {
     "name": "stdout",
     "output_type": "stream",
     "text": [
      "(0.09844386919867247, 0.0013129791037195392)\n",
      "########## Graph bzip (3 / 4, run times = 5) ##########\n",
      "========== Regex #1 ==========\n",
      "********** Start size #50 **********\n",
      "by_tensor_cuda (0.05126392360107275, 0.0008929452492798379)\n",
      "by_bfs_each_cuda\n"
     ]
    },
    {
     "name": "stderr",
     "output_type": "stream",
     "text": [
      "[2022-10-11 20:42:23]>INFO>Generate set of source vertices of 100 nodes for graph=<networkx.classes.multidigraph.MultiDiGraph object at 0x7f66a7c119f0> for multiple-source evaluation\n"
     ]
    },
    {
     "name": "stdout",
     "output_type": "stream",
     "text": [
      "(0.06773012259945972, 0.0016551872266591368)\n",
      "********** Start size #100 **********\n",
      "by_tensor_cuda (0.051464308801223525, 0.0007182976410736643)\n",
      "by_bfs_each_cuda\n"
     ]
    },
    {
     "name": "stderr",
     "output_type": "stream",
     "text": [
      "[2022-10-11 20:42:23]>INFO>Generate set of source vertices of 200 nodes for graph=<networkx.classes.multidigraph.MultiDiGraph object at 0x7f66a7c119f0> for multiple-source evaluation\n"
     ]
    },
    {
     "name": "stdout",
     "output_type": "stream",
     "text": [
      "(0.09130096000008052, 0.005464211031159222)\n",
      "********** Start size #200 **********\n",
      "by_tensor_cuda (0.05108815859857714, 0.0006406118775260041)\n",
      "by_bfs_each_cuda\n"
     ]
    },
    {
     "name": "stderr",
     "output_type": "stream",
     "text": [
      "[2022-10-11 20:42:24]>INFO>Generate set of source vertices of 400 nodes for graph=<networkx.classes.multidigraph.MultiDiGraph object at 0x7f66a7c119f0> for multiple-source evaluation\n"
     ]
    },
    {
     "name": "stdout",
     "output_type": "stream",
     "text": [
      "(0.12933462679939112, 0.007379678211672831)\n",
      "********** Start size #400 **********\n",
      "by_tensor_cuda (0.053401637201022825, 0.002681820666308378)\n",
      "by_bfs_each_cuda\n"
     ]
    },
    {
     "name": "stderr",
     "output_type": "stream",
     "text": [
      "[2022-10-11 20:42:26]>INFO>Generate set of source vertices of 50 nodes for graph=<networkx.classes.multidigraph.MultiDiGraph object at 0x7f66a7c119f0> for multiple-source evaluation\n"
     ]
    },
    {
     "name": "stdout",
     "output_type": "stream",
     "text": [
      "(0.21135618120024446, 0.0046918257181709925)\n",
      "========== Regex #2 ==========\n",
      "********** Start size #50 **********\n",
      "by_tensor_cuda (0.05386897979915375, 0.0025419543047761656)\n",
      "by_bfs_each_cuda\n"
     ]
    },
    {
     "name": "stderr",
     "output_type": "stream",
     "text": [
      "[2022-10-11 20:42:26]>INFO>Generate set of source vertices of 100 nodes for graph=<networkx.classes.multidigraph.MultiDiGraph object at 0x7f66a7c119f0> for multiple-source evaluation\n"
     ]
    },
    {
     "name": "stdout",
     "output_type": "stream",
     "text": [
      "(0.0704768410010729, 0.0012427657539789648)\n",
      "********** Start size #100 **********\n",
      "by_tensor_cuda (0.05397689419914968, 0.0022061267054381715)\n",
      "by_bfs_each_cuda\n"
     ]
    },
    {
     "name": "stderr",
     "output_type": "stream",
     "text": [
      "[2022-10-11 20:42:27]>INFO>Generate set of source vertices of 200 nodes for graph=<networkx.classes.multidigraph.MultiDiGraph object at 0x7f66a7c119f0> for multiple-source evaluation\n"
     ]
    },
    {
     "name": "stdout",
     "output_type": "stream",
     "text": [
      "(0.09058703899790999, 0.005164823105947157)\n",
      "********** Start size #200 **********\n",
      "by_tensor_cuda (0.053443242200592066, 0.0027164892220513793)\n",
      "by_bfs_each_cuda\n"
     ]
    },
    {
     "name": "stderr",
     "output_type": "stream",
     "text": [
      "[2022-10-11 20:42:28]>INFO>Generate set of source vertices of 400 nodes for graph=<networkx.classes.multidigraph.MultiDiGraph object at 0x7f66a7c119f0> for multiple-source evaluation\n"
     ]
    },
    {
     "name": "stdout",
     "output_type": "stream",
     "text": [
      "(0.13064668179868022, 0.005544464805267984)\n",
      "********** Start size #400 **********\n",
      "by_tensor_cuda (0.051723031399887986, 0.0009154311641397348)\n",
      "by_bfs_each_cuda\n"
     ]
    },
    {
     "name": "stderr",
     "output_type": "stream",
     "text": [
      "[2022-10-11 20:42:29]>INFO>Generate set of source vertices of 50 nodes for graph=<networkx.classes.multidigraph.MultiDiGraph object at 0x7f66a7c119f0> for multiple-source evaluation\n"
     ]
    },
    {
     "name": "stdout",
     "output_type": "stream",
     "text": [
      "(0.20926915779855335, 0.0020025483073883646)\n",
      "========== Regex #3 ==========\n",
      "********** Start size #50 **********\n",
      "by_tensor_cuda (0.052338655602943616, 0.0009533151832025736)\n",
      "by_bfs_each_cuda\n"
     ]
    },
    {
     "name": "stderr",
     "output_type": "stream",
     "text": [
      "[2022-10-11 20:42:30]>INFO>Generate set of source vertices of 100 nodes for graph=<networkx.classes.multidigraph.MultiDiGraph object at 0x7f66a7c119f0> for multiple-source evaluation\n"
     ]
    },
    {
     "name": "stdout",
     "output_type": "stream",
     "text": [
      "(0.07088526580046164, 0.002207281372513412)\n",
      "********** Start size #100 **********\n",
      "by_tensor_cuda (0.05254511659877607, 0.0010883805369170051)\n",
      "by_bfs_each_cuda\n"
     ]
    },
    {
     "name": "stderr",
     "output_type": "stream",
     "text": [
      "[2022-10-11 20:42:30]>INFO>Generate set of source vertices of 200 nodes for graph=<networkx.classes.multidigraph.MultiDiGraph object at 0x7f66a7c119f0> for multiple-source evaluation\n"
     ]
    },
    {
     "name": "stdout",
     "output_type": "stream",
     "text": [
      "(0.09183035080059199, 0.005990593454656055)\n",
      "********** Start size #200 **********\n",
      "by_tensor_cuda (0.0520761269974173, 0.0007770177397574151)\n",
      "by_bfs_each_cuda\n"
     ]
    },
    {
     "name": "stderr",
     "output_type": "stream",
     "text": [
      "[2022-10-11 20:42:31]>INFO>Generate set of source vertices of 400 nodes for graph=<networkx.classes.multidigraph.MultiDiGraph object at 0x7f66a7c119f0> for multiple-source evaluation\n"
     ]
    },
    {
     "name": "stdout",
     "output_type": "stream",
     "text": [
      "(0.12992164839961334, 0.006687767101131816)\n",
      "********** Start size #400 **********\n",
      "by_tensor_cuda (0.05175332960061496, 0.0004913176055836327)\n",
      "by_bfs_each_cuda\n"
     ]
    },
    {
     "name": "stderr",
     "output_type": "stream",
     "text": [
      "[2022-10-11 20:42:33]>INFO>Generate set of source vertices of 50 nodes for graph=<networkx.classes.multidigraph.MultiDiGraph object at 0x7f66a7c119f0> for multiple-source evaluation\n"
     ]
    },
    {
     "name": "stdout",
     "output_type": "stream",
     "text": [
      "(0.20681673980143386, 0.0021480886684727947)\n",
      "========== Regex #4 ==========\n",
      "********** Start size #50 **********\n",
      "by_tensor_cuda (0.05171257539914222, 0.0005517748758799801)\n",
      "by_bfs_each_cuda\n"
     ]
    },
    {
     "name": "stderr",
     "output_type": "stream",
     "text": [
      "[2022-10-11 20:42:33]>INFO>Generate set of source vertices of 100 nodes for graph=<networkx.classes.multidigraph.MultiDiGraph object at 0x7f66a7c119f0> for multiple-source evaluation\n"
     ]
    },
    {
     "name": "stdout",
     "output_type": "stream",
     "text": [
      "(0.07021750760322902, 0.0012654835854339365)\n",
      "********** Start size #100 **********\n",
      "by_tensor_cuda (0.05247591079969425, 0.0006784419451586392)\n",
      "by_bfs_each_cuda\n"
     ]
    },
    {
     "name": "stderr",
     "output_type": "stream",
     "text": [
      "[2022-10-11 20:42:34]>INFO>Generate set of source vertices of 200 nodes for graph=<networkx.classes.multidigraph.MultiDiGraph object at 0x7f66a7c119f0> for multiple-source evaluation\n"
     ]
    },
    {
     "name": "stdout",
     "output_type": "stream",
     "text": [
      "(0.09066185440024128, 0.005365168812047834)\n",
      "********** Start size #200 **********\n",
      "by_tensor_cuda (0.05181367399782175, 0.0006417710767297979)\n",
      "by_bfs_each_cuda\n"
     ]
    },
    {
     "name": "stderr",
     "output_type": "stream",
     "text": [
      "[2022-10-11 20:42:35]>INFO>Generate set of source vertices of 400 nodes for graph=<networkx.classes.multidigraph.MultiDiGraph object at 0x7f66a7c119f0> for multiple-source evaluation\n"
     ]
    },
    {
     "name": "stdout",
     "output_type": "stream",
     "text": [
      "(0.12902203180274227, 0.006819812332232306)\n",
      "********** Start size #400 **********\n",
      "by_tensor_cuda (0.05236525399959646, 0.0009948353150962526)\n",
      "by_bfs_each_cuda\n"
     ]
    },
    {
     "name": "stderr",
     "output_type": "stream",
     "text": [
      "[2022-10-11 20:42:36]>INFO>Generate set of source vertices of 50 nodes for graph=<networkx.classes.multidigraph.MultiDiGraph object at 0x7f66a7c11d50> for multiple-source evaluation\n"
     ]
    },
    {
     "name": "stdout",
     "output_type": "stream",
     "text": [
      "(0.20869339939963538, 0.002431156681831879)\n",
      "########## Graph pr (4 / 4, run times = 5) ##########\n",
      "========== Regex #1 ==========\n",
      "********** Start size #50 **********\n",
      "by_tensor_cuda (0.08126910260180012, 0.0011098530487667043)\n",
      "by_bfs_each_cuda\n"
     ]
    },
    {
     "name": "stderr",
     "output_type": "stream",
     "text": [
      "[2022-10-11 20:42:37]>INFO>Generate set of source vertices of 100 nodes for graph=<networkx.classes.multidigraph.MultiDiGraph object at 0x7f66a7c11d50> for multiple-source evaluation\n"
     ]
    },
    {
     "name": "stdout",
     "output_type": "stream",
     "text": [
      "(0.10181679600209463, 0.009032550013580994)\n",
      "********** Start size #100 **********\n",
      "by_tensor_cuda (0.08102315899886889, 0.0009959381981972572)\n",
      "by_bfs_each_cuda\n"
     ]
    },
    {
     "name": "stderr",
     "output_type": "stream",
     "text": [
      "[2022-10-11 20:42:38]>INFO>Generate set of source vertices of 200 nodes for graph=<networkx.classes.multidigraph.MultiDiGraph object at 0x7f66a7c11d50> for multiple-source evaluation\n"
     ]
    },
    {
     "name": "stdout",
     "output_type": "stream",
     "text": [
      "(0.11958405099721858, 0.006638592835552014)\n",
      "********** Start size #200 **********\n",
      "by_tensor_cuda (0.08102919939992717, 0.0010828391391606818)\n",
      "by_bfs_each_cuda\n"
     ]
    },
    {
     "name": "stderr",
     "output_type": "stream",
     "text": [
      "[2022-10-11 20:42:39]>INFO>Generate set of source vertices of 400 nodes for graph=<networkx.classes.multidigraph.MultiDiGraph object at 0x7f66a7c11d50> for multiple-source evaluation\n"
     ]
    },
    {
     "name": "stdout",
     "output_type": "stream",
     "text": [
      "(0.15650061140040633, 0.002723039637210293)\n",
      "********** Start size #400 **********\n",
      "by_tensor_cuda (0.08243335540028056, 0.0010420113832198597)\n",
      "by_bfs_each_cuda\n"
     ]
    },
    {
     "name": "stderr",
     "output_type": "stream",
     "text": [
      "[2022-10-11 20:42:41]>INFO>Generate set of source vertices of 800 nodes for graph=<networkx.classes.multidigraph.MultiDiGraph object at 0x7f66a7c11d50> for multiple-source evaluation\n"
     ]
    },
    {
     "name": "stdout",
     "output_type": "stream",
     "text": [
      "(0.23963710099778837, 0.007908706294399232)\n",
      "********** Start size #800 **********\n",
      "by_tensor_cuda (0.0840806859996519, 0.0006776678248779808)\n",
      "by_bfs_each_cuda\n"
     ]
    },
    {
     "name": "stderr",
     "output_type": "stream",
     "text": [
      "[2022-10-11 20:42:43]>INFO>Generate set of source vertices of 50 nodes for graph=<networkx.classes.multidigraph.MultiDiGraph object at 0x7f66a7c11d50> for multiple-source evaluation\n"
     ]
    },
    {
     "name": "stdout",
     "output_type": "stream",
     "text": [
      "(0.41912102100031917, 0.00782507842706108)\n",
      "========== Regex #2 ==========\n",
      "********** Start size #50 **********\n",
      "by_tensor_cuda (0.08155908019980415, 0.0009180312310823962)\n",
      "by_bfs_each_cuda\n"
     ]
    },
    {
     "name": "stderr",
     "output_type": "stream",
     "text": [
      "[2022-10-11 20:42:44]>INFO>Generate set of source vertices of 100 nodes for graph=<networkx.classes.multidigraph.MultiDiGraph object at 0x7f66a7c11d50> for multiple-source evaluation\n"
     ]
    },
    {
     "name": "stdout",
     "output_type": "stream",
     "text": [
      "(0.0985837154003093, 0.0010667394318363017)\n",
      "********** Start size #100 **********\n",
      "by_tensor_cuda (0.08121703420038102, 0.0006622137764835034)\n",
      "by_bfs_each_cuda\n"
     ]
    },
    {
     "name": "stderr",
     "output_type": "stream",
     "text": [
      "[2022-10-11 20:42:45]>INFO>Generate set of source vertices of 200 nodes for graph=<networkx.classes.multidigraph.MultiDiGraph object at 0x7f66a7c11d50> for multiple-source evaluation\n"
     ]
    },
    {
     "name": "stdout",
     "output_type": "stream",
     "text": [
      "(0.1199101778009208, 0.005183446238516607)\n",
      "********** Start size #200 **********\n",
      "by_tensor_cuda (0.08135926939867204, 0.0012150233852956575)\n",
      "by_bfs_each_cuda\n"
     ]
    },
    {
     "name": "stderr",
     "output_type": "stream",
     "text": [
      "[2022-10-11 20:42:47]>INFO>Generate set of source vertices of 400 nodes for graph=<networkx.classes.multidigraph.MultiDiGraph object at 0x7f66a7c11d50> for multiple-source evaluation\n"
     ]
    },
    {
     "name": "stdout",
     "output_type": "stream",
     "text": [
      "(0.15576780179981142, 0.0037198933962295714)\n",
      "********** Start size #400 **********\n",
      "by_tensor_cuda (0.08288268740143394, 0.001056618187348063)\n",
      "by_bfs_each_cuda\n"
     ]
    },
    {
     "name": "stderr",
     "output_type": "stream",
     "text": [
      "[2022-10-11 20:42:48]>INFO>Generate set of source vertices of 800 nodes for graph=<networkx.classes.multidigraph.MultiDiGraph object at 0x7f66a7c11d50> for multiple-source evaluation\n"
     ]
    },
    {
     "name": "stdout",
     "output_type": "stream",
     "text": [
      "(0.23912741760141215, 0.006487328639932089)\n",
      "********** Start size #800 **********\n",
      "by_tensor_cuda (0.08424880579987075, 0.001027856230405274)\n",
      "by_bfs_each_cuda\n"
     ]
    },
    {
     "name": "stderr",
     "output_type": "stream",
     "text": [
      "[2022-10-11 20:42:51]>INFO>Generate set of source vertices of 50 nodes for graph=<networkx.classes.multidigraph.MultiDiGraph object at 0x7f66a7c11d50> for multiple-source evaluation\n"
     ]
    },
    {
     "name": "stdout",
     "output_type": "stream",
     "text": [
      "(0.4209192806010833, 0.008079613514993677)\n",
      "========== Regex #3 ==========\n",
      "********** Start size #50 **********\n",
      "by_tensor_cuda (0.08272585359954973, 0.0015169831567994584)\n",
      "by_bfs_each_cuda\n"
     ]
    },
    {
     "name": "stderr",
     "output_type": "stream",
     "text": [
      "[2022-10-11 20:42:52]>INFO>Generate set of source vertices of 100 nodes for graph=<networkx.classes.multidigraph.MultiDiGraph object at 0x7f66a7c11d50> for multiple-source evaluation\n"
     ]
    },
    {
     "name": "stdout",
     "output_type": "stream",
     "text": [
      "(0.09852316220058129, 0.0006505457244470399)\n",
      "********** Start size #100 **********\n",
      "by_tensor_cuda (0.08225465000141412, 0.0011720950919470751)\n",
      "by_bfs_each_cuda\n"
     ]
    },
    {
     "name": "stderr",
     "output_type": "stream",
     "text": [
      "[2022-10-11 20:42:53]>INFO>Generate set of source vertices of 200 nodes for graph=<networkx.classes.multidigraph.MultiDiGraph object at 0x7f66a7c11d50> for multiple-source evaluation\n"
     ]
    },
    {
     "name": "stdout",
     "output_type": "stream",
     "text": [
      "(0.12103309900121531, 0.007264376783107649)\n",
      "********** Start size #200 **********\n",
      "by_tensor_cuda (0.08216487419849727, 0.0009542180979838204)\n",
      "by_bfs_each_cuda\n"
     ]
    },
    {
     "name": "stderr",
     "output_type": "stream",
     "text": [
      "[2022-10-11 20:42:54]>INFO>Generate set of source vertices of 400 nodes for graph=<networkx.classes.multidigraph.MultiDiGraph object at 0x7f66a7c11d50> for multiple-source evaluation\n"
     ]
    },
    {
     "name": "stdout",
     "output_type": "stream",
     "text": [
      "(0.15733011600095778, 0.007270054221614413)\n",
      "********** Start size #400 **********\n",
      "by_tensor_cuda (0.08396581440028968, 0.0014614124935990534)\n",
      "by_bfs_each_cuda\n"
     ]
    },
    {
     "name": "stderr",
     "output_type": "stream",
     "text": [
      "[2022-10-11 20:42:55]>INFO>Generate set of source vertices of 800 nodes for graph=<networkx.classes.multidigraph.MultiDiGraph object at 0x7f66a7c11d50> for multiple-source evaluation\n"
     ]
    },
    {
     "name": "stdout",
     "output_type": "stream",
     "text": [
      "(0.2389237048002542, 0.00840684253135554)\n",
      "********** Start size #800 **********\n",
      "by_tensor_cuda (0.08515468499826966, 0.0009652228810566688)\n",
      "by_bfs_each_cuda\n"
     ]
    },
    {
     "name": "stderr",
     "output_type": "stream",
     "text": [
      "[2022-10-11 20:42:58]>INFO>Generate set of source vertices of 50 nodes for graph=<networkx.classes.multidigraph.MultiDiGraph object at 0x7f66a7c11d50> for multiple-source evaluation\n"
     ]
    },
    {
     "name": "stdout",
     "output_type": "stream",
     "text": [
      "(0.42610408699983965, 0.016012551297019284)\n",
      "========== Regex #4 ==========\n",
      "********** Start size #50 **********\n",
      "by_tensor_cuda (0.08203981679980643, 0.0013860089376106462)\n",
      "by_bfs_each_cuda\n"
     ]
    },
    {
     "name": "stderr",
     "output_type": "stream",
     "text": [
      "[2022-10-11 20:42:59]>INFO>Generate set of source vertices of 100 nodes for graph=<networkx.classes.multidigraph.MultiDiGraph object at 0x7f66a7c11d50> for multiple-source evaluation\n"
     ]
    },
    {
     "name": "stdout",
     "output_type": "stream",
     "text": [
      "(0.09766404640249675, 0.0005103508177817585)\n",
      "********** Start size #100 **********\n",
      "by_tensor_cuda (0.0814476312007173, 0.0008257244983278244)\n",
      "by_bfs_each_cuda\n"
     ]
    },
    {
     "name": "stderr",
     "output_type": "stream",
     "text": [
      "[2022-10-11 20:43:00]>INFO>Generate set of source vertices of 200 nodes for graph=<networkx.classes.multidigraph.MultiDiGraph object at 0x7f66a7c11d50> for multiple-source evaluation\n"
     ]
    },
    {
     "name": "stdout",
     "output_type": "stream",
     "text": [
      "(0.12083833160140785, 0.006627438826530487)\n",
      "********** Start size #200 **********\n",
      "by_tensor_cuda (0.08173010500031523, 0.0008481281320136678)\n",
      "by_bfs_each_cuda\n"
     ]
    },
    {
     "name": "stderr",
     "output_type": "stream",
     "text": [
      "[2022-10-11 20:43:01]>INFO>Generate set of source vertices of 400 nodes for graph=<networkx.classes.multidigraph.MultiDiGraph object at 0x7f66a7c11d50> for multiple-source evaluation\n"
     ]
    },
    {
     "name": "stdout",
     "output_type": "stream",
     "text": [
      "(0.1560086168014095, 0.0035967604504204094)\n",
      "********** Start size #400 **********\n",
      "by_tensor_cuda (0.08351096640108154, 0.0013420407063790686)\n",
      "by_bfs_each_cuda\n"
     ]
    },
    {
     "name": "stderr",
     "output_type": "stream",
     "text": [
      "[2022-10-11 20:43:03]>INFO>Generate set of source vertices of 800 nodes for graph=<networkx.classes.multidigraph.MultiDiGraph object at 0x7f66a7c11d50> for multiple-source evaluation\n"
     ]
    },
    {
     "name": "stdout",
     "output_type": "stream",
     "text": [
      "(0.24265854959958233, 0.0067080050161854735)\n",
      "********** Start size #800 **********\n",
      "by_tensor_cuda (0.08448263879981824, 0.001335053082357339)\n",
      "by_bfs_each_cuda\n",
      "(0.41882460920023734, 0.009320473459058015)\n"
     ]
    }
   ],
   "source": [
    "from timeit import repeat\n",
    "from statistics import fmean\n",
    "from statistics import stdev\n",
    "from typing import Callable\n",
    "from cfpq_data import generate_multiple_source\n",
    "\n",
    "\n",
    "def run_timed(f: Callable, run_times: int):\n",
    "    times = repeat(f, repeat=run_times, number=1)\n",
    "    m = fmean(times)\n",
    "    sd = stdev(times, m) if len(times) > 1 else 0.0\n",
    "    return m, sd\n",
    "\n",
    "\n",
    "def run_fixed_starts():\n",
    "    results = []\n",
    "\n",
    "    for g_i, graph in enumerate(GRAPHS, start=1):\n",
    "        regexes = create_regexes_for_graph(graph)\n",
    "        run_times = RUN_TIMES_SMALL if is_small(graph) else RUN_TIMES_HUGE\n",
    "        starts = generate_multiple_source(graph, FIXED_START_SIZE, seed=START_SET_SEED)\n",
    "        print(f\"########## Graph {graph.name} ({g_i} / {len(GRAPHS)}, run times = {run_times}) ##########\")\n",
    "\n",
    "        graph_results = []\n",
    "        for r_i, regex in enumerate(regexes, start=1):\n",
    "            print(f\"========== Regex #{r_i} ==========\")\n",
    "\n",
    "            print(\"by_tensor\", end=\" \")\n",
    "            by_tensor = run_timed(\n",
    "                lambda: rpq_by_tensor(graph, regex, starts=starts),\n",
    "                run_times=run_times,\n",
    "            )\n",
    "            print(by_tensor)\n",
    "\n",
    "            print(\"by_bfs_all\", end=\" \")\n",
    "            by_bfs_all = run_timed(\n",
    "                lambda: rpq_by_bfs(graph, regex, starts=starts, mode=BfsMode.FIND_COMMON_REACHABLE_SET),\n",
    "                run_times=run_times,\n",
    "            )\n",
    "            print(by_bfs_all)\n",
    "\n",
    "            print(\"by_bfs_each\", end=\" \")\n",
    "            by_bfs_each = run_timed(\n",
    "                lambda: rpq_by_bfs(graph, regex, starts=starts, mode=BfsMode.FIND_REACHABLE_FOR_EACH_START),\n",
    "                run_times=run_times,\n",
    "            )\n",
    "            print(by_bfs_each)\n",
    "\n",
    "            print(\"by_tensor_cuda\", end=\" \")\n",
    "            by_tensor_cuda = run_timed(\n",
    "                lambda: rpq_by_tensor_cuda(graph, regex, starts=starts),\n",
    "                run_times=run_times,\n",
    "            )\n",
    "            print(by_tensor_cuda)\n",
    "\n",
    "            print(\"by_bfs_all_cuda\", end=\" \")\n",
    "            by_bfs_all_cuda = run_timed(\n",
    "                lambda: rpq_by_bfs_cuda(graph, regex, starts=starts, mode=BfsMode.FIND_COMMON_REACHABLE_SET),\n",
    "                run_times=run_times,\n",
    "            )\n",
    "            print(by_bfs_all_cuda)\n",
    "\n",
    "            print(\"by_bfs_each_cuda\")\n",
    "            by_bfs_each_cuda = run_timed(\n",
    "                lambda: rpq_by_bfs_cuda(graph, regex, starts=starts, mode=BfsMode.FIND_REACHABLE_FOR_EACH_START),\n",
    "                run_times=run_times,\n",
    "            )\n",
    "            print(by_bfs_each_cuda)\n",
    "\n",
    "            graph_results.append(\n",
    "                ((by_tensor, by_bfs_all, by_bfs_each), (by_tensor_cuda, by_bfs_all_cuda, by_bfs_each_cuda))\n",
    "            )\n",
    "\n",
    "        results.append(graph_results)\n",
    "\n",
    "    return results\n",
    "\n",
    "\n",
    "def run_varied_starts():\n",
    "    results = []\n",
    "\n",
    "    for g_i, graph in enumerate(GRAPHS, start=1):\n",
    "        run_times = RUN_TIMES_SMALL if is_small(graph) else RUN_TIMES_HUGE\n",
    "        regexes = create_regexes_for_graph(graph)\n",
    "        print(f\"########## Graph {graph.name} ({g_i} / {len(GRAPHS)}, run times = {run_times}) ##########\")\n",
    "\n",
    "        graph_results = []\n",
    "        for r_i, regex in enumerate(regexes, start=1):\n",
    "            print(f\"========== Regex #{r_i} ==========\")\n",
    "\n",
    "            regex_results = {}\n",
    "            for start_size in VARIED_START_SIZES:\n",
    "                if start_size > graph.number_of_nodes():\n",
    "                    continue\n",
    "                starts = generate_multiple_source(graph, start_size, seed=START_SET_SEED)\n",
    "                print(f\"********** Start size #{start_size} **********\")\n",
    "\n",
    "                print(\"by_tensor_cuda\", end=\" \")\n",
    "                by_tensor_cuda = run_timed(\n",
    "                    lambda: rpq_by_tensor_cuda(graph, regex, starts=starts),\n",
    "                    run_times=run_times,\n",
    "                )\n",
    "                print(by_tensor_cuda)\n",
    "\n",
    "                print(\"by_bfs_each_cuda\")\n",
    "                by_bfs_each_cuda = run_timed(\n",
    "                    lambda: rpq_by_bfs_cuda(graph, regex, starts=starts, mode=BfsMode.FIND_REACHABLE_FOR_EACH_START),\n",
    "                    run_times=run_times,\n",
    "                )\n",
    "                print(by_bfs_each_cuda)\n",
    "\n",
    "                regex_results[start_size] = (by_tensor_cuda, by_bfs_each_cuda)\n",
    "\n",
    "            graph_results.append(regex_results)\n",
    "\n",
    "        results.append(graph_results)\n",
    "\n",
    "    return results\n",
    "\n",
    "\n",
    "fixed_starts_res = run_fixed_starts()\n",
    "varied_starts_res = run_varied_starts()"
   ],
   "metadata": {
    "collapsed": false
   }
  },
  {
   "cell_type": "markdown",
   "source": [
    "## Результаты эксперимента\n",
    "\n",
    "В данном разделе демонстрируются результаты проведённых замеров и, исходя из них, даются ответы на поставленные ранее вопросы."
   ],
   "metadata": {
    "collapsed": false
   }
  },
  {
   "cell_type": "code",
   "execution_count": 304,
   "outputs": [],
   "source": [
    "import matplotlib.pyplot as plt\n",
    "\n",
    "ALGO_NAMES = [\"Tensor multiplication\", \"United BFS\", \"Separated BFS\"]"
   ],
   "metadata": {
    "collapsed": false
   }
  },
  {
   "cell_type": "markdown",
   "source": [
    "### Результаты по вопросу 1 (о выгоде от использования `pycubool`)"
   ],
   "metadata": {
    "collapsed": false
   }
  },
  {
   "cell_type": "code",
   "execution_count": 319,
   "outputs": [
    {
     "data": {
      "text/plain": "<Figure size 1000x400 with 4 Axes>",
      "image/png": "[encoded data removed]"
     },
     "metadata": {},
     "output_type": "display_data"
    },
    {
     "data": {
      "text/plain": "<Figure size 1000x400 with 4 Axes>",
      "image/png": "[encoded data removed]"
     },
     "metadata": {},
     "output_type": "display_data"
    },
    {
     "data": {
      "text/plain": "<Figure size 1000x400 with 4 Axes>",
      "image/png": "[encoded data removed]"
     },
     "metadata": {},
     "output_type": "display_data"
    }
   ],
   "source": [
    "def show_plots_1(\n",
    "    res: list[list[tuple[tuple[tuple[float, float], tuple[float, float], tuple[float, float]], tuple[\n",
    "        tuple[float, float], tuple[float, float], tuple[float, float]]]]]\n",
    "):\n",
    "    fig_size = (2.5 * len(REGEXES), len(GRAPHS))\n",
    "    label_locations = np.arange(len(REGEXES))\n",
    "    bar_width = 0.2\n",
    "    cap_size = 4\n",
    "\n",
    "    for algo_i, algo_name in enumerate(ALGO_NAMES):\n",
    "        fig: plt.Figure\n",
    "        fig, axs = plt.subplots(len(GRAPHS) // 2, 2, figsize=fig_size)\n",
    "\n",
    "        fig.suptitle(algo_name + \" scipy.sparse vs pycubool performance\")\n",
    "        fig.tight_layout()\n",
    "\n",
    "        ax: plt.Axes\n",
    "        for g_i, ax in enumerate(axs.flat):\n",
    "            graph_name = GRAPHS[g_i].name\n",
    "            graph_results = res[g_i]\n",
    "\n",
    "            ax.set_xlabel(graph_name, weight=\"bold\")\n",
    "            ax.xaxis.set_label_position(\"top\")\n",
    "\n",
    "            ax.set_xticks(label_locations, REGEXES.keys())\n",
    "            ax.tick_params(axis='x', which='both', bottom=False)\n",
    "            if g_i % len(axs[0]) == 0:\n",
    "                ax.set_ylabel(\"Time, s\")\n",
    "\n",
    "            scipy_means = [rs[0][algo_i][0] for rs in graph_results]\n",
    "            scipy_stdevs = [rs[0][algo_i][1] for rs in graph_results]\n",
    "            ax.bar(\n",
    "                label_locations - bar_width / 2,\n",
    "                scipy_means,\n",
    "                bar_width,\n",
    "                yerr=scipy_stdevs,\n",
    "                color=\"tab:blue\",\n",
    "                label=\"scipy.sparse\",\n",
    "                capsize=cap_size,\n",
    "            )\n",
    "\n",
    "            pycubool_means = [rs[1][algo_i][0] for rs in graph_results]\n",
    "            pycubool_stdevs = [rs[1][algo_i][1] for rs in graph_results]\n",
    "            ax.bar(\n",
    "                label_locations + bar_width / 2,\n",
    "                pycubool_means,\n",
    "                bar_width,\n",
    "                yerr=pycubool_stdevs,\n",
    "                color=\"tab:green\",\n",
    "                label=\"pycubool\",\n",
    "                capsize=cap_size,\n",
    "            )\n",
    "\n",
    "        handles, labels = axs[-1][-1].get_legend_handles_labels()\n",
    "        fig.legend(handles, labels, bbox_to_anchor=(1, 1), loc=\"upper left\")\n",
    "\n",
    "    plt.show()\n",
    "\n",
    "\n",
    "show_plots_1(fixed_starts_res)"
   ],
   "metadata": {
    "collapsed": false
   }
  },
  {
   "cell_type": "markdown",
   "source": [
    "### Результаты по вопросу 2 (о влиянии размера стартового множества на выгоду использования решений первой и третьей формулировок)"
   ],
   "metadata": {
    "collapsed": false
   }
  },
  {
   "cell_type": "code",
   "execution_count": 320,
   "outputs": [
    {
     "data": {
      "text/plain": "<Figure size 1200x800 with 16 Axes>",
      "image/png": "[encoded data removed]"
     },
     "metadata": {},
     "output_type": "display_data"
    }
   ],
   "source": [
    "import numpy as np\n",
    "\n",
    "\n",
    "def show_plots_2(res: list[list[dict[int, tuple[tuple[float, float], tuple[float, float]]]]]):\n",
    "    fig: plt.Figure\n",
    "    fig, axs = plt.subplots(len(GRAPHS), len(REGEXES), figsize=(3 * len(REGEXES), 2 * len(GRAPHS)))\n",
    "\n",
    "    fig.suptitle(\"Start set size influence on algorithm 1 vs algorithm 3\")\n",
    "    fig.tight_layout()\n",
    "\n",
    "    bar_width = 0.2\n",
    "    cap_size = 4\n",
    "\n",
    "    for g_i, axs_row in enumerate(axs):\n",
    "        graph_name = GRAPHS[g_i].name\n",
    "        graph_results = res[g_i]\n",
    "\n",
    "        ax: plt.Axes\n",
    "        for r_i, ax in enumerate(axs_row):\n",
    "            regex_name = list(REGEXES.keys())[r_i]\n",
    "            regex_results = graph_results[r_i]\n",
    "\n",
    "            if g_i == 0:\n",
    "                ax.set_xlabel(regex_name, weight=\"bold\")\n",
    "                ax.xaxis.set_label_position(\"top\")\n",
    "\n",
    "            if r_i == 0:\n",
    "                ax.set_ylabel(\"Time, s\")\n",
    "\n",
    "            if r_i == len(REGEXES) - 1:\n",
    "                ax.set_ylabel(graph_name, weight=\"bold\")\n",
    "                ax.yaxis.set_label_position(\"right\")\n",
    "\n",
    "            label_locations = np.arange(len(regex_results))\n",
    "            ax.set_xticks(label_locations, regex_results.keys())\n",
    "\n",
    "            algo1_results = [rs[0] for rs in regex_results.values()]\n",
    "            algo1_means, algo1_stdevs = zip(*algo1_results)\n",
    "            ax.bar(\n",
    "                label_locations - bar_width / 2,\n",
    "                algo1_means,\n",
    "                bar_width,\n",
    "                yerr=algo1_stdevs,\n",
    "                color=\"tab:cyan\",\n",
    "                label=ALGO_NAMES[0],\n",
    "                capsize=cap_size,\n",
    "            )\n",
    "\n",
    "            algo3_results = [rs[1] for rs in regex_results.values()]\n",
    "            algo3_means, algo3_stdevs = zip(*algo3_results)\n",
    "            ax.bar(\n",
    "                label_locations + bar_width / 2,\n",
    "                algo3_means,\n",
    "                bar_width,\n",
    "                yerr=algo3_stdevs,\n",
    "                color=\"tab:orange\",\n",
    "                label=ALGO_NAMES[2],\n",
    "                capsize=cap_size,\n",
    "            )\n",
    "\n",
    "            ax.tick_params(axis='x', which='both', bottom=False)\n",
    "\n",
    "    handles, labels = axs[-1][-1].get_legend_handles_labels()\n",
    "    fig.legend(handles, labels, bbox_to_anchor=(1, 1), loc=\"upper left\")\n",
    "\n",
    "    plt.show()\n",
    "\n",
    "\n",
    "show_plots_2(varied_starts_res)"
   ],
   "metadata": {
    "collapsed": false
   }
  },
  {
   "cell_type": "markdown",
   "source": [
    "### Результаты по вопросу 3 (о сравнении быстродействия решений второй и третьей формулировок)"
   ],
   "metadata": {
    "collapsed": false
   }
  },
  {
   "cell_type": "code",
   "execution_count": 321,
   "outputs": [
    {
     "data": {
      "text/plain": "<Figure size 1000x400 with 4 Axes>",
      "image/png": "[encoded data removed]"
     },
     "metadata": {},
     "output_type": "display_data"
    }
   ],
   "source": [
    "def show_plots_3(\n",
    "    res: list[list[tuple[tuple[tuple[float, float], tuple[float, float], tuple[float, float]], tuple[\n",
    "        tuple[float, float], tuple[float, float], tuple[float, float]]]]]\n",
    "):\n",
    "    fig_size = (2.5 * len(REGEXES), len(GRAPHS))\n",
    "    label_locations = np.arange(len(REGEXES))\n",
    "    bar_width = 0.2\n",
    "    cap_size = 4\n",
    "\n",
    "    fig: plt.Figure\n",
    "    fig, axs = plt.subplots(len(GRAPHS) // 2, 2, figsize=fig_size)\n",
    "\n",
    "    fig.suptitle(\"BFS-based algorithms comparison\")\n",
    "    fig.tight_layout()\n",
    "\n",
    "    ax: plt.Axes\n",
    "    for g_i, ax in enumerate(axs.flat):\n",
    "        graph_name = GRAPHS[g_i].name\n",
    "        graph_results = res[g_i]\n",
    "\n",
    "        ax.set_xlabel(graph_name, weight=\"bold\")\n",
    "        ax.xaxis.set_label_position(\"top\")\n",
    "\n",
    "        ax.set_xticks(label_locations, REGEXES.keys())\n",
    "        ax.tick_params(axis='x', which='both', bottom=False)\n",
    "        if g_i % len(axs[0]) == 0:\n",
    "            ax.set_ylabel(\"Time, s\")\n",
    "\n",
    "        pycubool_algo2_means = [rs[1][1][0] for rs in graph_results]\n",
    "        pycubool_algo2_stdevs = [rs[1][1][1] for rs in graph_results]\n",
    "        ax.bar(\n",
    "            label_locations - bar_width / 2,\n",
    "            pycubool_algo2_means,\n",
    "            bar_width,\n",
    "            yerr=pycubool_algo2_stdevs,\n",
    "            color=\"tab:purple\",\n",
    "            label=ALGO_NAMES[1],\n",
    "            capsize=cap_size,\n",
    "        )\n",
    "\n",
    "        pycubool_algo3_means = [rs[1][2][0] for rs in graph_results]\n",
    "        pycubool_algo3_stdevs = [rs[1][2][1] for rs in graph_results]\n",
    "        ax.bar(\n",
    "            label_locations + bar_width / 2,\n",
    "            pycubool_algo3_means,\n",
    "            bar_width,\n",
    "            yerr=pycubool_algo3_stdevs,\n",
    "            color=\"tab:orange\",\n",
    "            label=ALGO_NAMES[2],\n",
    "            capsize=cap_size,\n",
    "        )\n",
    "\n",
    "    handles, labels = axs[-1][-1].get_legend_handles_labels()\n",
    "    fig.legend(handles, labels, bbox_to_anchor=(1, 1), loc=\"upper left\")\n",
    "\n",
    "    plt.show()\n",
    "\n",
    "\n",
    "show_plots_3(fixed_starts_res)"
   ],
   "metadata": {
    "collapsed": false
   }
  },
  {
   "cell_type": "markdown",
   "source": [
    "## Заключение\n",
    "\n",
    "TODO"
   ],
   "metadata": {
    "collapsed": false
   }
  }
 ],
 "metadata": {
  "kernelspec": {
   "display_name": "Python 3",
   "language": "python",
   "name": "python3"
  },
  "language_info": {
   "codemirror_mode": {
    "name": "ipython",
    "version": 2
   },
   "file_extension": ".py",
   "mimetype": "text/x-python",
   "name": "python",
   "nbconvert_exporter": "python",
   "pygments_lexer": "ipython2",
   "version": "2.7.6"
  }
 },
 "nbformat": 4,
 "nbformat_minor": 0
}
