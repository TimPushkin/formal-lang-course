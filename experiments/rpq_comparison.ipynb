{
 "cells": [
  {
   "cell_type": "markdown",
   "source": [
    "# Задача 5 (бонусная): экспериментальное исследование алгоритмов для регулярных запросов"
   ],
   "metadata": {
    "collapsed": false
   }
  },
  {
   "cell_type": "markdown",
   "source": [
    "## Подготовка окружения\n",
    "\n",
    "Для исполнения кода, приведённого в данном исследовании, необходима система с ядром Linux, подготовленная при помощи выполнения команд, приведённых далее."
   ],
   "metadata": {
    "collapsed": false
   }
  },
  {
   "cell_type": "code",
   "execution_count": 107,
   "outputs": [
    {
     "name": "stdout",
     "output_type": "stream",
     "text": [
      "Requirement already satisfied: antlr4-python3-runtime in /home/eyjafl/.venv/formlang/lib/python3.10/site-packages (from -r ../requirements.txt (line 1)) (4.11.1)\r\n",
      "Requirement already satisfied: black in /home/eyjafl/.venv/formlang/lib/python3.10/site-packages (from -r ../requirements.txt (line 2)) (22.10.0)\r\n",
      "Requirement already satisfied: cfpq-data in /home/eyjafl/.venv/formlang/lib/python3.10/site-packages (from -r ../requirements.txt (line 3)) (4.0.0)\r\n",
      "Requirement already satisfied: pre-commit in /home/eyjafl/.venv/formlang/lib/python3.10/site-packages (from -r ../requirements.txt (line 4)) (2.20.0)\r\n",
      "Requirement already satisfied: pydot in /home/eyjafl/.venv/formlang/lib/python3.10/site-packages (from -r ../requirements.txt (line 5)) (1.4.2)\r\n",
      "Requirement already satisfied: pytest in /home/eyjafl/.venv/formlang/lib/python3.10/site-packages (from -r ../requirements.txt (line 6)) (7.1.3)\r\n",
      "Requirement already satisfied: scipy in /home/eyjafl/.venv/formlang/lib/python3.10/site-packages (from -r ../requirements.txt (line 7)) (1.9.1)\r\n",
      "Requirement already satisfied: tomli>=1.1.0 in /home/eyjafl/.venv/formlang/lib/python3.10/site-packages (from black->-r ../requirements.txt (line 2)) (2.0.1)\r\n",
      "Requirement already satisfied: platformdirs>=2 in /home/eyjafl/.venv/formlang/lib/python3.10/site-packages (from black->-r ../requirements.txt (line 2)) (2.5.2)\r\n",
      "Requirement already satisfied: pathspec>=0.9.0 in /home/eyjafl/.venv/formlang/lib/python3.10/site-packages (from black->-r ../requirements.txt (line 2)) (0.10.1)\r\n",
      "Requirement already satisfied: mypy-extensions>=0.4.3 in /home/eyjafl/.venv/formlang/lib/python3.10/site-packages (from black->-r ../requirements.txt (line 2)) (0.4.3)\r\n",
      "Requirement already satisfied: click>=8.0.0 in /home/eyjafl/.venv/formlang/lib/python3.10/site-packages (from black->-r ../requirements.txt (line 2)) (8.1.3)\r\n",
      "Requirement already satisfied: pyformlang==0.1.26 in /home/eyjafl/.venv/formlang/lib/python3.10/site-packages (from cfpq-data->-r ../requirements.txt (line 3)) (0.1.26)\r\n",
      "Requirement already satisfied: networkx==2.6.2 in /home/eyjafl/.venv/formlang/lib/python3.10/site-packages (from cfpq-data->-r ../requirements.txt (line 3)) (2.6.2)\r\n",
      "Requirement already satisfied: rdflib==6.0.0 in /home/eyjafl/.venv/formlang/lib/python3.10/site-packages (from cfpq-data->-r ../requirements.txt (line 3)) (6.0.0)\r\n",
      "Requirement already satisfied: pandas==1.3.4 in /home/eyjafl/.venv/formlang/lib/python3.10/site-packages (from cfpq-data->-r ../requirements.txt (line 3)) (1.3.4)\r\n",
      "Requirement already satisfied: requests==2.26.0 in /home/eyjafl/.venv/formlang/lib/python3.10/site-packages (from cfpq-data->-r ../requirements.txt (line 3)) (2.26.0)\r\n",
      "Requirement already satisfied: pytz>=2017.3 in /home/eyjafl/.venv/formlang/lib/python3.10/site-packages (from pandas==1.3.4->cfpq-data->-r ../requirements.txt (line 3)) (2022.4)\r\n",
      "Requirement already satisfied: numpy>=1.21.0 in /home/eyjafl/.venv/formlang/lib/python3.10/site-packages (from pandas==1.3.4->cfpq-data->-r ../requirements.txt (line 3)) (1.23.3)\r\n",
      "Requirement already satisfied: python-dateutil>=2.7.3 in /home/eyjafl/.venv/formlang/lib/python3.10/site-packages (from pandas==1.3.4->cfpq-data->-r ../requirements.txt (line 3)) (2.8.2)\r\n",
      "Requirement already satisfied: pyparsing in /home/eyjafl/.venv/formlang/lib/python3.10/site-packages (from rdflib==6.0.0->cfpq-data->-r ../requirements.txt (line 3)) (3.0.9)\r\n",
      "Requirement already satisfied: setuptools in /home/eyjafl/.venv/formlang/lib/python3.10/site-packages (from rdflib==6.0.0->cfpq-data->-r ../requirements.txt (line 3)) (59.6.0)\r\n",
      "Requirement already satisfied: isodate in /home/eyjafl/.venv/formlang/lib/python3.10/site-packages (from rdflib==6.0.0->cfpq-data->-r ../requirements.txt (line 3)) (0.6.1)\r\n",
      "Requirement already satisfied: charset-normalizer~=2.0.0 in /home/eyjafl/.venv/formlang/lib/python3.10/site-packages (from requests==2.26.0->cfpq-data->-r ../requirements.txt (line 3)) (2.0.12)\r\n",
      "Requirement already satisfied: urllib3<1.27,>=1.21.1 in /home/eyjafl/.venv/formlang/lib/python3.10/site-packages (from requests==2.26.0->cfpq-data->-r ../requirements.txt (line 3)) (1.26.12)\r\n",
      "Requirement already satisfied: certifi>=2017.4.17 in /home/eyjafl/.venv/formlang/lib/python3.10/site-packages (from requests==2.26.0->cfpq-data->-r ../requirements.txt (line 3)) (2022.9.24)\r\n",
      "Requirement already satisfied: idna<4,>=2.5 in /home/eyjafl/.venv/formlang/lib/python3.10/site-packages (from requests==2.26.0->cfpq-data->-r ../requirements.txt (line 3)) (3.4)\r\n",
      "Requirement already satisfied: identify>=1.0.0 in /home/eyjafl/.venv/formlang/lib/python3.10/site-packages (from pre-commit->-r ../requirements.txt (line 4)) (2.5.6)\r\n",
      "Requirement already satisfied: cfgv>=2.0.0 in /home/eyjafl/.venv/formlang/lib/python3.10/site-packages (from pre-commit->-r ../requirements.txt (line 4)) (3.3.1)\r\n",
      "Requirement already satisfied: toml in /home/eyjafl/.venv/formlang/lib/python3.10/site-packages (from pre-commit->-r ../requirements.txt (line 4)) (0.10.2)\r\n",
      "Requirement already satisfied: pyyaml>=5.1 in /home/eyjafl/.venv/formlang/lib/python3.10/site-packages (from pre-commit->-r ../requirements.txt (line 4)) (6.0)\r\n",
      "Requirement already satisfied: nodeenv>=0.11.1 in /home/eyjafl/.venv/formlang/lib/python3.10/site-packages (from pre-commit->-r ../requirements.txt (line 4)) (1.7.0)\r\n",
      "Requirement already satisfied: virtualenv>=20.0.8 in /home/eyjafl/.venv/formlang/lib/python3.10/site-packages (from pre-commit->-r ../requirements.txt (line 4)) (20.16.5)\r\n",
      "Requirement already satisfied: attrs>=19.2.0 in /home/eyjafl/.venv/formlang/lib/python3.10/site-packages (from pytest->-r ../requirements.txt (line 6)) (22.1.0)\r\n",
      "Requirement already satisfied: py>=1.8.2 in /home/eyjafl/.venv/formlang/lib/python3.10/site-packages (from pytest->-r ../requirements.txt (line 6)) (1.11.0)\r\n",
      "Requirement already satisfied: packaging in /home/eyjafl/.venv/formlang/lib/python3.10/site-packages (from pytest->-r ../requirements.txt (line 6)) (21.3)\r\n",
      "Requirement already satisfied: iniconfig in /home/eyjafl/.venv/formlang/lib/python3.10/site-packages (from pytest->-r ../requirements.txt (line 6)) (1.1.1)\r\n",
      "Requirement already satisfied: pluggy<2.0,>=0.12 in /home/eyjafl/.venv/formlang/lib/python3.10/site-packages (from pytest->-r ../requirements.txt (line 6)) (1.0.0)\r\n",
      "Requirement already satisfied: distlib<1,>=0.3.5 in /home/eyjafl/.venv/formlang/lib/python3.10/site-packages (from virtualenv>=20.0.8->pre-commit->-r ../requirements.txt (line 4)) (0.3.6)\r\n",
      "Requirement already satisfied: filelock<4,>=3.4.1 in /home/eyjafl/.venv/formlang/lib/python3.10/site-packages (from virtualenv>=20.0.8->pre-commit->-r ../requirements.txt (line 4)) (3.8.0)\r\n",
      "Requirement already satisfied: six>=1.5 in /home/eyjafl/.venv/formlang/lib/python3.10/site-packages (from python-dateutil>=2.7.3->pandas==1.3.4->cfpq-data->-r ../requirements.txt (line 3)) (1.16.0)\r\n",
      "Requirement already satisfied: pycubool in /home/eyjafl/.venv/formlang/lib/python3.10/site-packages (1.2.0)\r\n",
      "Requirement already satisfied: matplotlib in /home/eyjafl/.venv/formlang/lib/python3.10/site-packages (3.6.1)\r\n",
      "Requirement already satisfied: numpy>=1.19 in /home/eyjafl/.venv/formlang/lib/python3.10/site-packages (from matplotlib) (1.23.3)\r\n",
      "Requirement already satisfied: kiwisolver>=1.0.1 in /home/eyjafl/.venv/formlang/lib/python3.10/site-packages (from matplotlib) (1.4.4)\r\n",
      "Requirement already satisfied: pyparsing>=2.2.1 in /home/eyjafl/.venv/formlang/lib/python3.10/site-packages (from matplotlib) (3.0.9)\r\n",
      "Requirement already satisfied: python-dateutil>=2.7 in /home/eyjafl/.venv/formlang/lib/python3.10/site-packages (from matplotlib) (2.8.2)\r\n",
      "Requirement already satisfied: pillow>=6.2.0 in /home/eyjafl/.venv/formlang/lib/python3.10/site-packages (from matplotlib) (9.2.0)\r\n",
      "Requirement already satisfied: packaging>=20.0 in /home/eyjafl/.venv/formlang/lib/python3.10/site-packages (from matplotlib) (21.3)\r\n",
      "Requirement already satisfied: fonttools>=4.22.0 in /home/eyjafl/.venv/formlang/lib/python3.10/site-packages (from matplotlib) (4.37.4)\r\n",
      "Requirement already satisfied: contourpy>=1.0.1 in /home/eyjafl/.venv/formlang/lib/python3.10/site-packages (from matplotlib) (1.0.5)\r\n",
      "Requirement already satisfied: cycler>=0.10 in /home/eyjafl/.venv/formlang/lib/python3.10/site-packages (from matplotlib) (0.11.0)\r\n",
      "Requirement already satisfied: six>=1.5 in /home/eyjafl/.venv/formlang/lib/python3.10/site-packages (from python-dateutil>=2.7->matplotlib) (1.16.0)\r\n"
     ]
    }
   ],
   "source": [
    "# @formatter:off\n",
    "!pip install -r ../requirements.txt\n",
    "!pip install pycubool matplotlib\n",
    "# @formatter:on"
   ],
   "metadata": {
    "collapsed": false
   }
  },
  {
   "cell_type": "markdown",
   "source": [
    "## Введение\n",
    "\n",
    "В данном работе рассматривается задача достижимости в графе с регулярными ограничениями и исследуется производительность её решений матричными подходами на языке Python при помощи библиотек, осуществляющих матричные операции на CPU и GPU."
   ],
   "metadata": {
    "collapsed": false
   }
  },
  {
   "cell_type": "markdown",
   "source": [
    "### О задаче достижимости\n",
    "\n",
    "Пусть дан конечный ориентированный помеченный граф $G = (V, E, L)$, в котором каждому пути $\\pi \\in E^*$, состоящему из рёбер с метками $l_1, ..., l_n \\in L$, сопоставляется слово по правилу $\\omega(\\pi) = l_1 * ... * l_n$, где $*$ --- конкатенация.\n",
    "\n",
    "Пусть также дано регулярное выражение $R$ для языка над алфавитом $L$.\n",
    "\n",
    "В данных условиях мы будем рассматривать три варианта задачи о достижимости в графе $G$ с регулярными ограничениями, заданным $R$.\n",
    "\n",
    "#### Постановка 1. Достижимость между всеми парами вершин.\n",
    "\n",
    "Данная постановка задачи является наиболее общей.\n",
    "\n",
    "В ней задача заключается в нахождении таких пар вершин $G$, что между ними существует путь, которому сопоставляется слово из языка, задаваемого $R$. То есть задача заключается в нахождении множества $\\{(v_i, v_j) \\in V^2: \\exists \\pi \\in E^*: start(\\pi) = v_i, final(\\pi) = v_j, \\omega(\\pi) \\in language(R)\\}$.\n",
    "\n",
    "#### Постановка 2. Достижимость для всего множества заданных вершин.\n",
    "\n",
    "В данной постановке задачи из множества $V$ всех вершин графа дополнительно выделяются подмножества стартовых и финальных вершин: $V_S \\subseteq V$ и $V_F \\subseteq V$ соответственно. Задача заключается в нахождении всех таких финальных вершин, таких, что до них существуют пути из стартовых, которым сопоставляются слова из языка, задаваемого $R$. То есть задача заключается в нахождении множества $\\{v_i \\in V_F: \\exists \\pi \\in E^*: start(\\pi) \\in V_S, final(\\pi) = v_j, \\omega(\\pi) \\in language(R)\\}$.\n",
    "\n",
    "#### Постановка 3. Достижимость для каждой вершины из заданного множества стартовых вершин.\n",
    "\n",
    "Данная постановка является комбинацией предыдущих двух. Здесь также выделяются множества стартовых и финальных вершин $V_S и $V_F, в которых найденные пути должны начинаться и оканчиваться соответственно, однако, аналогично постановке 1, требуется найти множество пар вершин-начал и вершин-концов данных путей. То есть задача заключается в нахождении множества $\\{(v_i, v_j) \\in V_S \\times V_F: \\exists \\pi \\in E^*: start(\\pi) = v_i, final(\\pi) = v_j, \\omega(\\pi) \\in language(R)\\}$."
   ],
   "metadata": {
    "collapsed": false
   }
  },
  {
   "cell_type": "markdown",
   "source": [
    "### Исследуемые решения\n",
    "\n",
    "В данной работе для решения поставленных выше задач используются методы, кратко описываемые следующим образом:\n",
    "\n",
    "1. **Достижимость между всеми парами вершин**. Через тензорное произведение строится пересечение конечных автоматов, соответствующих графу и регулярному выражению, для которого затем считается транзитивное замыкание через матричное возведение в степень.\n",
    "2. **Достижимость для всего множества заданных вершин**. Алгоритм решения основывается на синхронном обходе в ширину конечных автоматов, соответствующих регулярному выражению и графу. Обход проводится через умножение фронта, представленного как матрица условно разделенная на соответствующие две части, на матрицу смежности, построенную как прямая сумма матриц смежности обоих автоматов. Матрица фронта в левой части представляет из себя единичную матрицу, а в правой --- строки-фронты-обхода, возможные для соответствующей вершины в левой части. После каждого умножения матрица фронта трансформируется для поддержки данного инварианта.\n",
    "3. **Достижимость для каждой вершины из заданного множества стартовых вершин**. Принцип решения схож с предыдущим пунктом, однако фронт разделяется для каждой стартовой вершины и представляется как единая матрица, что позволяет хранить информацию о стартовой вершине для каждой достигнутой финальной.\n",
    "\n",
    "На практике матрицы смежности, используемые в представленных алгоритмах являются сильно разреженными, поэтому при их реализации становится выгодно представлять такие матрицы специальным образом, избегая хранения \"пустых\" ячеек. Каждый из описанных алгоритмов был реализован на языке Python при помощи двух библиотек, содержащих таких типы матриц:\n",
    "\n",
    "1. [**scipy.sparse**](https://docs.scipy.org/doc/scipy/reference/sparse.html) --- модуль SciPy, предоставляющий несколько видов двухмерных разреженных массивов с интерфейсом взаимодействия, приближенным к таковому в NumPy. Все операции, проводимые с массивами, происходят на CPU.\n",
    "2. [**pycubool**](https://github.com/JetBrains-Research/cuBool) --- обертка для C-библиотеки, позволяющая проводить операции линейной алгебры над разреженными матрицами на GPU марки NVIDIA при помощи технологии CUDA.\n",
    "\n",
    "Оба способа реализации максимально идентичны (на сколько это позволяют интерфейсы представленных библиотек)."
   ],
   "metadata": {
    "collapsed": false
   },
   "outputs": []
  },
  {
   "cell_type": "markdown",
   "source": [
    "#### Реализация на scipy.sparse\n",
    "\n",
    "Реализация алгоритмов, основанная на `scipy.sparse`, расположена в модуле [`project.rpq`](../project/rpq.py) данного репозитория."
   ],
   "metadata": {
    "collapsed": false
   }
  },
  {
   "cell_type": "code",
   "execution_count": 108,
   "outputs": [],
   "source": [
    "from project.rpq import BfsMode\n",
    "from project.rpq import rpq_by_bfs\n",
    "from project.rpq import rpq_by_tensor"
   ],
   "metadata": {
    "collapsed": false
   }
  },
  {
   "cell_type": "markdown",
   "source": [
    "#### Реализация на pycubool\n",
    "\n",
    "Реализация алгоритмов, основанная на `pycubool`, представленная ниже:"
   ],
   "metadata": {
    "collapsed": false
   }
  },
  {
   "cell_type": "code",
   "execution_count": 109,
   "outputs": [],
   "source": [
    "from itertools import product\n",
    "from typing import Any\n",
    "from typing import NamedTuple\n",
    "\n",
    "import pycubool as cb\n",
    "from pyformlang.finite_automaton import EpsilonNFA\n",
    "\n",
    "\n",
    "class BoolDecompositionCuda:\n",
    "    class StateInfo(NamedTuple):\n",
    "        data: Any\n",
    "        is_start: bool\n",
    "        is_final: bool\n",
    "\n",
    "    def __init__(\n",
    "        self,\n",
    "        states: list[StateInfo] | None = None,\n",
    "        adjs: dict[Any, cb.Matrix] | None = None,\n",
    "    ):\n",
    "        self.states: list[BoolDecompositionCuda.StateInfo] = (\n",
    "            states if states is not None else []\n",
    "        )\n",
    "        self.adjs: dict[Any, cb.Matrix] = adjs if adjs is not None else {}\n",
    "\n",
    "    @classmethod\n",
    "    def from_nfa(\n",
    "        cls, nfa: EpsilonNFA, sort_states: bool = False\n",
    "    ) -> \"BoolDecompositionCuda\":\n",
    "        # Construct states, removing duplicates\n",
    "        states = list(\n",
    "            set(\n",
    "                cls.StateInfo(\n",
    "                    data=st.value,\n",
    "                    is_start=st in nfa.start_states,\n",
    "                    is_final=st in nfa.final_states,\n",
    "                )\n",
    "                for st in nfa.states\n",
    "            )\n",
    "        )\n",
    "        if sort_states:\n",
    "            states = sorted(states, key=lambda st: st.data)\n",
    "\n",
    "        # Construct adjacency matrices\n",
    "        adjs = {}\n",
    "        transitions = nfa.to_dict()\n",
    "        n = len(states)\n",
    "        for n_from in transitions:\n",
    "            for symbol, ns_to in transitions[n_from].items():\n",
    "                adj = adjs.setdefault(symbol.value, cb.Matrix.empty((n, n)))\n",
    "                beg_index = next(i for i, s in enumerate(states) if s.data == n_from)\n",
    "                for n_to in ns_to if isinstance(ns_to, set) else {ns_to}:\n",
    "                    end_index = next(i for i, s in enumerate(states) if s.data == n_to)\n",
    "                    adj[beg_index, end_index] = True\n",
    "\n",
    "        return cls(states, adjs)\n",
    "\n",
    "    def intersect(self, other: \"BoolDecompositionCuda\") -> \"BoolDecompositionCuda\":\n",
    "        # Set of states of the intersection is the product of the given sets of states\n",
    "        # State is \"start\" if both of its element states are \"start\"\n",
    "        # State is \"final\" if both of its element states are \"final\"\n",
    "        states = [\n",
    "            self.StateInfo(\n",
    "                data=(st1.data, st2.data),\n",
    "                is_start=st1.is_start and st2.is_start,\n",
    "                is_final=st1.is_final and st2.is_final,\n",
    "            )\n",
    "            for st1, st2 in product(self.states, other.states)\n",
    "        ]\n",
    "\n",
    "        # Set of symbols of the intersection is the union of the given sets of symbols\n",
    "        # Adjacency matrix for a symbol is a kronecker product of the given matrices of\n",
    "        # this symbol\n",
    "        adjs = {}\n",
    "        n = len(states)\n",
    "        for symbol in set(self.adjs.keys()).union(set(other.adjs.keys())):\n",
    "            if symbol in self.adjs and symbol in other.adjs:\n",
    "                adjs[symbol] = self.adjs[symbol].kronecker(other.adjs[symbol])\n",
    "            else:\n",
    "                adjs[symbol] = cb.Matrix.empty((n, n))\n",
    "\n",
    "        return BoolDecompositionCuda(states, adjs)\n",
    "\n",
    "    def transitive_closure_any_symbol(self) -> tuple[list[int], list[int]]:\n",
    "        # Gather all matrices to get all existing paths\n",
    "        n = len(self.states)\n",
    "        adj_all = cb.Matrix.empty((n, n))\n",
    "        for adj in self.adjs.values():\n",
    "            adj_all = adj_all.ewiseadd(adj)\n",
    "\n",
    "        # Transitive closure by repeated-squaring-like approach\n",
    "        while True:\n",
    "            # nvals gives the number of paths\n",
    "            prev_path_num = adj_all.nvals\n",
    "            # Multiplication gives new paths, while sum retains the old ones\n",
    "            adj_all.mxm(adj_all, out=adj_all, accumulate=True)\n",
    "            # If no new paths appear, all paths have been discovered\n",
    "            if prev_path_num == adj_all.nvals:\n",
    "                break\n",
    "\n",
    "        # Convert to a more user-friendly representation\n",
    "        return adj_all.to_lists()\n",
    "\n",
    "    def _direct_sum(self, other: \"BoolDecompositionCuda\") -> \"BoolDecompositionCuda\":\n",
    "        states = self.states + other.states\n",
    "\n",
    "        adjs = {}\n",
    "        for symbol in set(self.adjs.keys()).intersection(set(other.adjs.keys())):\n",
    "            dsum = cb.Matrix.empty((len(states), len(states)))\n",
    "            for i, j in self.adjs[symbol]:\n",
    "                dsum[i, j] = True\n",
    "            for i, j in other.adjs[symbol]:\n",
    "                dsum[len(self.states) + i, len(self.states) + j] = True\n",
    "            adjs[symbol] = dsum\n",
    "\n",
    "        return BoolDecompositionCuda(states, adjs)\n",
    "\n",
    "    def constrained_bfs(\n",
    "        self, constraint: \"BoolDecompositionCuda\", separated: bool = False\n",
    "    ) -> set[int] | set[tuple[int, int]]:\n",
    "        # Save states number because will use them heavily for matrix construction\n",
    "        n = len(constraint.states)\n",
    "        m = len(self.states)\n",
    "\n",
    "        direct_sum = constraint._direct_sum(self)\n",
    "\n",
    "        # Create initial front from starts of constraint (left) and self (right)\n",
    "        start_states_indices = [i for i, st in enumerate(self.states) if st.is_start]\n",
    "        init_front = (\n",
    "            _init_bfs_front(self.states, constraint.states)\n",
    "            if not separated\n",
    "            else _init_separated_bfs_front(\n",
    "                self.states, constraint.states, start_states_indices\n",
    "            )\n",
    "        )\n",
    "\n",
    "        # Create visited, fill with zeroes instead of init_front to get rid of initial\n",
    "        # positions in the result\n",
    "        visited = cb.Matrix.empty(init_front.shape)\n",
    "\n",
    "        # Perform matrix-multiplication-based-BFS until visited stops changing\n",
    "        while True:\n",
    "            old_visited_nvals = visited.nvals\n",
    "\n",
    "            # Perform a BFS step for each matrix in direct sum\n",
    "            for _, adj in direct_sum.adjs.items():\n",
    "                # Compute new front for the symbol\n",
    "                front_part = (\n",
    "                    visited.mxm(adj) if init_front is None else init_front.mxm(adj)\n",
    "                )\n",
    "                # Transform the resulting front so that:\n",
    "                # 1. It only contains rows with non-zeros in both parts.\n",
    "                # 2. Its left part contains non-zeroes only on its main diagonal.\n",
    "                visited = visited.ewiseadd(_transform_front_part(front_part, n))\n",
    "\n",
    "            # Can use visited instead now\n",
    "            init_front = None\n",
    "\n",
    "            # If no new non-zero elements have appeared, we've visited all we can\n",
    "            if visited.nvals == old_visited_nvals:\n",
    "                break\n",
    "\n",
    "        # If visited a final self-state in final constraint-state, we found a result\n",
    "        results = set()\n",
    "        for i, j in visited.to_list():\n",
    "            # Check that the element is from the self part (which is the main BFS part)\n",
    "            # and the final state requirements are satisfied\n",
    "            if j >= n and constraint.states[i % n].is_final:  # % is for separated BFS\n",
    "                self_st_index = j - n\n",
    "                if self.states[self_st_index].is_final:\n",
    "                    results.add(\n",
    "                        self_st_index\n",
    "                        if not separated\n",
    "                        else (start_states_indices[i // n], self_st_index)\n",
    "                    )\n",
    "        return results\n",
    "\n",
    "\n",
    "def _init_bfs_front(\n",
    "    self_states: list[BoolDecompositionCuda.StateInfo],\n",
    "    constr_states: list[BoolDecompositionCuda.StateInfo],\n",
    "    self_start_indices: list[int] | None = None,\n",
    ") -> cb.Matrix:\n",
    "    front = cb.Matrix.empty((len(constr_states), len(constr_states) + len(self_states)))\n",
    "\n",
    "    if self_start_indices is None:\n",
    "        self_start_indices = [j for j, st in enumerate(self_states) if st.is_start]\n",
    "\n",
    "    for i, st in enumerate(constr_states):\n",
    "        if st.is_start:\n",
    "            front[i, i] = True  # Mark diagonal element as start\n",
    "            for j in self_start_indices:\n",
    "                front[i, len(constr_states) + j] = True  # Fill start row\n",
    "\n",
    "    return front\n",
    "\n",
    "\n",
    "def _init_separated_bfs_front(\n",
    "    self_states: list[BoolDecompositionCuda.StateInfo],\n",
    "    constr_states: list[BoolDecompositionCuda.StateInfo],\n",
    "    start_states_indices: list[int],\n",
    ") -> cb.Matrix:\n",
    "    fronts = [\n",
    "        _init_bfs_front(\n",
    "            self_states,\n",
    "            constr_states,\n",
    "            self_start_indices=[st_i],\n",
    "        )\n",
    "        for st_i in start_states_indices\n",
    "    ]\n",
    "\n",
    "    if len(fronts) == 0:\n",
    "        return cb.Matrix.empty(\n",
    "            (len(constr_states), len(constr_states) + len(self_states))\n",
    "        )\n",
    "\n",
    "    # Build the united front as a vertical stack of the separated fronts\n",
    "    result = cb.Matrix.empty(\n",
    "        (len(fronts) * len(constr_states), len(constr_states) + len(self_states))\n",
    "    )\n",
    "    vstack_helper = cb.Matrix.empty((len(fronts), 1))\n",
    "    for i, front in enumerate(fronts):\n",
    "        vstack_helper.build(rows={i}, cols={0})\n",
    "        result = result.ewiseadd(vstack_helper.kronecker(front))\n",
    "    return result\n",
    "\n",
    "\n",
    "def _transform_front_part(front_part: cb.Matrix, constr_states_num: int) -> cb.Matrix:\n",
    "    transformed_front_part = cb.Matrix.empty(front_part.shape)\n",
    "    # Perform the transformation by rows\n",
    "    for i, j in front_part.to_list():\n",
    "        # If the element is from the constraint part\n",
    "        if j < constr_states_num:\n",
    "            non_zero_row_right = front_part[i: i + 1, constr_states_num:]\n",
    "            # If the right part contains non-zero elements\n",
    "            if non_zero_row_right.nvals > 0:\n",
    "                # Account for separated front\n",
    "                row_shift = i // constr_states_num * constr_states_num\n",
    "                # Mark the row in the left part\n",
    "                transformed_front_part[row_shift + j, j] = True\n",
    "                # Update right part of the row\n",
    "                for _, r_j in non_zero_row_right:\n",
    "                    transformed_front_part[\n",
    "                        row_shift + j, constr_states_num + r_j\n",
    "                    ] = True\n",
    "    return transformed_front_part"
   ],
   "metadata": {
    "collapsed": false
   }
  },
  {
   "cell_type": "code",
   "execution_count": 110,
   "outputs": [],
   "source": [
    "import networkx as nx\n",
    "import pyformlang.regular_expression as re\n",
    "from typing import TypeVar\n",
    "\n",
    "from project.automata_utils import graph_to_nfa\n",
    "from project.automata_utils import regex_to_min_dfa\n",
    "\n",
    "_NodeType = TypeVar(\"_NodeType\")\n",
    "\n",
    "\n",
    "def rpq_by_tensor_cuda(\n",
    "    graph: nx.Graph,\n",
    "    query: str | re.Regex,\n",
    "    starts: set[_NodeType] | None = None,\n",
    "    finals: set[_NodeType] | None = None,\n",
    ") -> set[tuple[_NodeType, _NodeType]]:\n",
    "    # Create boolean decompositions for the graph and the query\n",
    "    graph_decomp = BoolDecompositionCuda.from_nfa(graph_to_nfa(graph, starts, finals))\n",
    "    query_decomp = BoolDecompositionCuda.from_nfa(regex_to_min_dfa(query))\n",
    "\n",
    "    # Intersection of decompositions gives intersection of languages\n",
    "    intersection = graph_decomp.intersect(query_decomp)\n",
    "    # Transitive closure helps determine reachability\n",
    "    transitive_closure_indices = intersection.transitive_closure_any_symbol()\n",
    "\n",
    "    # Two nodes satisfy the query if one is the beginning of a path (i.e. a word) and\n",
    "    # the other is its end\n",
    "    results = set()\n",
    "    for n_from_i, n_to_i in zip(*transitive_closure_indices):\n",
    "        n_from = intersection.states[n_from_i]\n",
    "        n_to = intersection.states[n_to_i]\n",
    "        if n_from.is_start and n_to.is_final:\n",
    "            beg_graph_node = n_from.data[0]\n",
    "            end_graph_node = n_to.data[0]\n",
    "            results.add((beg_graph_node, end_graph_node))\n",
    "    return results\n",
    "\n",
    "\n",
    "def rpq_by_bfs_cuda(\n",
    "    graph: nx.Graph,\n",
    "    query: str | re.Regex,\n",
    "    starts: set[_NodeType] | None = None,\n",
    "    finals: set[_NodeType] | None = None,\n",
    "    mode: BfsMode = BfsMode.FIND_COMMON_REACHABLE_SET,\n",
    ") -> set[_NodeType] | set[tuple[_NodeType, _NodeType]]:\n",
    "    graph_decomp = BoolDecompositionCuda.from_nfa(graph_to_nfa(graph, starts, finals))\n",
    "    query_decomp = BoolDecompositionCuda.from_nfa(regex_to_min_dfa(query))\n",
    "\n",
    "    result_indices = graph_decomp.constrained_bfs(\n",
    "        query_decomp, separated=mode == BfsMode.FIND_REACHABLE_FOR_EACH_START\n",
    "    )\n",
    "\n",
    "    match mode:\n",
    "        case BfsMode.FIND_COMMON_REACHABLE_SET:\n",
    "            return {graph_decomp.states[i].data for i in result_indices}\n",
    "        case BfsMode.FIND_REACHABLE_FOR_EACH_START:\n",
    "            return {\n",
    "                (graph_decomp.states[i].data, graph_decomp.states[j].data)\n",
    "                for i, j in result_indices\n",
    "            }\n",
    "\n"
   ],
   "metadata": {
    "collapsed": false
   }
  },
  {
   "cell_type": "markdown",
   "source": [
    "## Цель работы\n",
    "\n",
    "Целью данной работы является анализ производительности представленных решений задачи достижимости в графе с регулярными ограничениями в трёх её постановках, описанных выше, а именно, ответ на следующие три вопроса:\n",
    "\n",
    "1. При каких условиях использование `pycubool` даёт выигрыш в производительности по сравнению с `scipy.sparse`? Для каждой из трёх постановок задачи.\n",
    "2. При использовании `pycubool`, начиная с какого размера стартового множества выгоднее решать задачу для всех пар и выбирать нужные?\n",
    "3. При использовании `pycubool`, насколько решение задачи во второй её постановке быстрее решения в третьей при одинаковых начальных условиях?"
   ],
   "metadata": {
    "collapsed": false
   }
  },
  {
   "cell_type": "markdown",
   "source": [
    "## Условия эксперимента\n",
    "\n",
    "В данной секции описывается каким образом проводился эксперимент, соответствующий цели данной работы."
   ],
   "metadata": {
    "collapsed": false
   }
  },
  {
   "cell_type": "markdown",
   "source": [
    "### Характеристики оборудование\n",
    "\n",
    "Оборудование, на котором проводились замеры, обладает следующими характеристиками:"
   ],
   "metadata": {
    "collapsed": false
   }
  },
  {
   "cell_type": "code",
   "execution_count": 111,
   "outputs": [
    {
     "name": "stdout",
     "output_type": "stream",
     "text": [
      "----- OS  -----\r\n",
      "Operating System: Ubuntu 22.04.1 LTS\r\n",
      "          Kernel: Linux 5.15.0-50-generic\r\n",
      "----- CPU -----\r\n",
      "Architecture:                    x86_64\r\n",
      "Model name:                      AMD Ryzen 5 5600X 6-Core Processor\r\n",
      "Thread(s) per core:              2\r\n",
      "Core(s) per socket:              6\r\n",
      "Socket(s):                       1\r\n",
      "CPU max MHz:                     4650.2920\r\n",
      "CPU min MHz:                     2200.0000\r\n",
      "L1d cache:                       192 KiB (6 instances)\r\n",
      "L1i cache:                       192 KiB (6 instances)\r\n",
      "L2 cache:                        3 MiB (6 instances)\r\n",
      "L3 cache:                        32 MiB (1 instance)\r\n",
      "----- GPU -----\r\n",
      "GPU 0: NVIDIA GeForce RTX 2060 (UUID: GPU-8294f82e-bdf0-92ae-58e4-939c50d2a707)\r\n",
      "| NVIDIA-SMI 515.65.01    Driver Version: 515.65.01    CUDA Version: 11.7     |\r\n",
      "----- RAM -----\r\n",
      "               total        used        free      shared  buff/cache   available\r\n",
      "Mem:           15920        7718        7469          14         732        7906\r\n",
      "Swap:              0           0           0\r\n"
     ]
    }
   ],
   "source": [
    "# @formatter:off\n",
    "\n",
    "! echo '----- OS  -----'\n",
    "! hostnamectl | grep -E 'Operating System|Kernel'\n",
    "\n",
    "! echo '----- CPU -----'\n",
    "! lscpu | grep -E 'Architecture|Model name|Thread\\(s\\)|Core\\(s\\)|Socket\\(s\\)|MHz|cache'\n",
    "\n",
    "! echo '----- GPU -----'\n",
    "! nvidia-smi -L\n",
    "! nvidia-smi | grep CUDA\n",
    "\n",
    "! echo '----- RAM -----'\n",
    "! free -m\n",
    "\n",
    "# @formatter:on"
   ],
   "metadata": {
    "collapsed": false
   }
  },
  {
   "cell_type": "markdown",
   "source": [
    "### Описание использованного набора данных\n",
    "\n",
    "Для проведения экспериментов необходимо было выбрать графы для поиска путей и регулярные выражения для задания ограничений."
   ],
   "metadata": {
    "collapsed": false
   }
  },
  {
   "cell_type": "markdown",
   "source": [
    "#### Выбор графов\n",
    "\n",
    "Эксперимент проводился на следующих десяти графах из [датасета `CFPQ_Data`](https://jetbrains-research.github.io/CFPQ_Data/dataset/index.html):\n",
    "\n",
    "- `skos`, `atom`, `bzip`, `pr`, `ls`, `pathways`, `enzyme`, `apache` --- как репрезентативные по количеству вершин и рёбер относительно всего датасета\n",
    "- `go_hierarchy`, `geospecies` --- как имеющие сравнительно высокое отношение числа рёбер к числу вершин\n",
    "\n",
    "Графы с числом вершин или рёбер, приближающимся к трём миллионам и выше, решено было не рассматривать, так как время их обработки оказалось достаточно велико."
   ],
   "metadata": {
    "collapsed": false
   }
  },
  {
   "cell_type": "code",
   "execution_count": 112,
   "outputs": [
    {
     "name": "stderr",
     "output_type": "stream",
     "text": [
      "[2022-10-12 10:31:41]>INFO>Found graph with name='skos'\n",
      "[2022-10-12 10:31:42]>INFO>Load archive graph_archive=PosixPath('/home/eyjafl/.venv/formlang/lib/python3.10/site-packages/cfpq_data/data/skos.tar.gz')\n",
      "[2022-10-12 10:31:42]>INFO>Unzip graph name='skos' to file graph=PosixPath('/home/eyjafl/.venv/formlang/lib/python3.10/site-packages/cfpq_data/data/skos/skos.csv')\n",
      "[2022-10-12 10:31:42]>INFO>Remove archive graph_archive=PosixPath('/home/eyjafl/.venv/formlang/lib/python3.10/site-packages/cfpq_data/data/skos.tar.gz')\n",
      "[2022-10-12 10:31:42]>INFO>Load graph=<networkx.classes.multidigraph.MultiDiGraph object at 0x7f14379edd20> from path=PosixPath('/home/eyjafl/.venv/formlang/lib/python3.10/site-packages/cfpq_data/data/skos/skos.csv')\n",
      "[2022-10-12 10:31:42]>INFO>Found graph with name='atom'\n",
      "[2022-10-12 10:31:42]>INFO>Load archive graph_archive=PosixPath('/home/eyjafl/.venv/formlang/lib/python3.10/site-packages/cfpq_data/data/atom.tar.gz')\n",
      "[2022-10-12 10:31:42]>INFO>Unzip graph name='atom' to file graph=PosixPath('/home/eyjafl/.venv/formlang/lib/python3.10/site-packages/cfpq_data/data/atom/atom.csv')\n",
      "[2022-10-12 10:31:42]>INFO>Remove archive graph_archive=PosixPath('/home/eyjafl/.venv/formlang/lib/python3.10/site-packages/cfpq_data/data/atom.tar.gz')\n",
      "[2022-10-12 10:31:42]>INFO>Load graph=<networkx.classes.multidigraph.MultiDiGraph object at 0x7f14395abd00> from path=PosixPath('/home/eyjafl/.venv/formlang/lib/python3.10/site-packages/cfpq_data/data/atom/atom.csv')\n",
      "[2022-10-12 10:31:42]>INFO>Found graph with name='bzip'\n",
      "[2022-10-12 10:31:42]>INFO>Load archive graph_archive=PosixPath('/home/eyjafl/.venv/formlang/lib/python3.10/site-packages/cfpq_data/data/bzip.tar.gz')\n",
      "[2022-10-12 10:31:42]>INFO>Unzip graph name='bzip' to file graph=PosixPath('/home/eyjafl/.venv/formlang/lib/python3.10/site-packages/cfpq_data/data/bzip/bzip.csv')\n",
      "[2022-10-12 10:31:42]>INFO>Remove archive graph_archive=PosixPath('/home/eyjafl/.venv/formlang/lib/python3.10/site-packages/cfpq_data/data/bzip.tar.gz')\n",
      "[2022-10-12 10:31:42]>INFO>Load graph=<networkx.classes.multidigraph.MultiDiGraph object at 0x7f14379edf00> from path=PosixPath('/home/eyjafl/.venv/formlang/lib/python3.10/site-packages/cfpq_data/data/bzip/bzip.csv')\n",
      "[2022-10-12 10:31:42]>INFO>Found graph with name='pr'\n",
      "[2022-10-12 10:31:42]>INFO>Load archive graph_archive=PosixPath('/home/eyjafl/.venv/formlang/lib/python3.10/site-packages/cfpq_data/data/pr.tar.gz')\n",
      "[2022-10-12 10:31:42]>INFO>Unzip graph name='pr' to file graph=PosixPath('/home/eyjafl/.venv/formlang/lib/python3.10/site-packages/cfpq_data/data/pr/pr.csv')\n",
      "[2022-10-12 10:31:42]>INFO>Remove archive graph_archive=PosixPath('/home/eyjafl/.venv/formlang/lib/python3.10/site-packages/cfpq_data/data/pr.tar.gz')\n",
      "[2022-10-12 10:31:42]>INFO>Load graph=<networkx.classes.multidigraph.MultiDiGraph object at 0x7f14379ecbe0> from path=PosixPath('/home/eyjafl/.venv/formlang/lib/python3.10/site-packages/cfpq_data/data/pr/pr.csv')\n",
      "[2022-10-12 10:31:42]>INFO>Found graph with name='funding'\n",
      "[2022-10-12 10:31:43]>INFO>Load archive graph_archive=PosixPath('/home/eyjafl/.venv/formlang/lib/python3.10/site-packages/cfpq_data/data/funding.tar.gz')\n",
      "[2022-10-12 10:31:43]>INFO>Unzip graph name='funding' to file graph=PosixPath('/home/eyjafl/.venv/formlang/lib/python3.10/site-packages/cfpq_data/data/funding/funding.csv')\n",
      "[2022-10-12 10:31:43]>INFO>Remove archive graph_archive=PosixPath('/home/eyjafl/.venv/formlang/lib/python3.10/site-packages/cfpq_data/data/funding.tar.gz')\n",
      "[2022-10-12 10:31:43]>INFO>Load graph=<networkx.classes.multidigraph.MultiDiGraph object at 0x7f14379ed4b0> from path=PosixPath('/home/eyjafl/.venv/formlang/lib/python3.10/site-packages/cfpq_data/data/funding/funding.csv')\n",
      "[2022-10-12 10:31:43]>INFO>Found graph with name='ls'\n",
      "[2022-10-12 10:31:44]>INFO>Load archive graph_archive=PosixPath('/home/eyjafl/.venv/formlang/lib/python3.10/site-packages/cfpq_data/data/ls.tar.gz')\n",
      "[2022-10-12 10:31:44]>INFO>Unzip graph name='ls' to file graph=PosixPath('/home/eyjafl/.venv/formlang/lib/python3.10/site-packages/cfpq_data/data/ls/ls.csv')\n",
      "[2022-10-12 10:31:44]>INFO>Remove archive graph_archive=PosixPath('/home/eyjafl/.venv/formlang/lib/python3.10/site-packages/cfpq_data/data/ls.tar.gz')\n",
      "[2022-10-12 10:31:44]>INFO>Load graph=<networkx.classes.multidigraph.MultiDiGraph object at 0x7f14379ed690> from path=PosixPath('/home/eyjafl/.venv/formlang/lib/python3.10/site-packages/cfpq_data/data/ls/ls.csv')\n",
      "[2022-10-12 10:31:44]>INFO>Found graph with name='pizza'\n",
      "[2022-10-12 10:31:44]>INFO>Load archive graph_archive=PosixPath('/home/eyjafl/.venv/formlang/lib/python3.10/site-packages/cfpq_data/data/pizza.tar.gz')\n",
      "[2022-10-12 10:31:44]>INFO>Unzip graph name='pizza' to file graph=PosixPath('/home/eyjafl/.venv/formlang/lib/python3.10/site-packages/cfpq_data/data/pizza/pizza.csv')\n",
      "[2022-10-12 10:31:44]>INFO>Remove archive graph_archive=PosixPath('/home/eyjafl/.venv/formlang/lib/python3.10/site-packages/cfpq_data/data/pizza.tar.gz')\n",
      "[2022-10-12 10:31:44]>INFO>Load graph=<networkx.classes.multidigraph.MultiDiGraph object at 0x7f14379efee0> from path=PosixPath('/home/eyjafl/.venv/formlang/lib/python3.10/site-packages/cfpq_data/data/pizza/pizza.csv')\n",
      "[2022-10-12 10:31:44]>INFO>Found graph with name='gzip'\n",
      "[2022-10-12 10:31:44]>INFO>Load archive graph_archive=PosixPath('/home/eyjafl/.venv/formlang/lib/python3.10/site-packages/cfpq_data/data/gzip.tar.gz')\n",
      "[2022-10-12 10:31:44]>INFO>Unzip graph name='gzip' to file graph=PosixPath('/home/eyjafl/.venv/formlang/lib/python3.10/site-packages/cfpq_data/data/gzip/gzip.csv')\n",
      "[2022-10-12 10:31:44]>INFO>Remove archive graph_archive=PosixPath('/home/eyjafl/.venv/formlang/lib/python3.10/site-packages/cfpq_data/data/gzip.tar.gz')\n",
      "[2022-10-12 10:31:44]>INFO>Load graph=<networkx.classes.multidigraph.MultiDiGraph object at 0x7f14379ec3d0> from path=PosixPath('/home/eyjafl/.venv/formlang/lib/python3.10/site-packages/cfpq_data/data/gzip/gzip.csv')\n",
      "[2022-10-12 10:31:44]>INFO>Found graph with name='pathways'\n",
      "[2022-10-12 10:31:44]>INFO>Load archive graph_archive=PosixPath('/home/eyjafl/.venv/formlang/lib/python3.10/site-packages/cfpq_data/data/pathways.tar.gz')\n",
      "[2022-10-12 10:31:44]>INFO>Unzip graph name='pathways' to file graph=PosixPath('/home/eyjafl/.venv/formlang/lib/python3.10/site-packages/cfpq_data/data/pathways/pathways.csv')\n",
      "[2022-10-12 10:31:44]>INFO>Remove archive graph_archive=PosixPath('/home/eyjafl/.venv/formlang/lib/python3.10/site-packages/cfpq_data/data/pathways.tar.gz')\n",
      "[2022-10-12 10:31:44]>INFO>Load graph=<networkx.classes.multidigraph.MultiDiGraph object at 0x7f14379ecf40> from path=PosixPath('/home/eyjafl/.venv/formlang/lib/python3.10/site-packages/cfpq_data/data/pathways/pathways.csv')\n",
      "[2022-10-12 10:31:44]>INFO>Found graph with name='enzyme'\n",
      "[2022-10-12 10:31:45]>INFO>Load archive graph_archive=PosixPath('/home/eyjafl/.venv/formlang/lib/python3.10/site-packages/cfpq_data/data/enzyme.tar.gz')\n",
      "[2022-10-12 10:31:45]>INFO>Unzip graph name='enzyme' to file graph=PosixPath('/home/eyjafl/.venv/formlang/lib/python3.10/site-packages/cfpq_data/data/enzyme/enzyme.csv')\n",
      "[2022-10-12 10:31:45]>INFO>Remove archive graph_archive=PosixPath('/home/eyjafl/.venv/formlang/lib/python3.10/site-packages/cfpq_data/data/enzyme.tar.gz')\n",
      "[2022-10-12 10:31:45]>INFO>Load graph=<networkx.classes.multidigraph.MultiDiGraph object at 0x7f14379ee590> from path=PosixPath('/home/eyjafl/.venv/formlang/lib/python3.10/site-packages/cfpq_data/data/enzyme/enzyme.csv')\n"
     ]
    }
   ],
   "source": [
    "from project.graph_utils import load_graph_from_cfpq_data\n",
    "\n",
    "GRAPHS: list[nx.Graph] = []\n",
    "\n",
    "\n",
    "def init_graphs():\n",
    "    for name in [\n",
    "        \"skos\",\n",
    "        \"atom\",\n",
    "        \"bzip\",\n",
    "        \"pr\",\n",
    "        \"funding\",\n",
    "        \"ls\",\n",
    "        \"pizza\",\n",
    "        \"gzip\",\n",
    "        \"pathways\",\n",
    "        \"enzyme\",\n",
    "    ]:\n",
    "        graph = load_graph_from_cfpq_data(name)\n",
    "        graph.name = name\n",
    "        GRAPHS.append(graph)\n",
    "\n",
    "\n",
    "init_graphs()"
   ],
   "metadata": {
    "collapsed": false
   }
  },
  {
   "cell_type": "markdown",
   "source": [
    "Ниже приведена статистика по выбранным графам."
   ],
   "metadata": {
    "collapsed": false
   }
  },
  {
   "cell_type": "code",
   "execution_count": 113,
   "outputs": [
    {
     "data": {
      "text/plain": "       Name  Nodes  Edges  Edges per node  \\\n0      skos    144    252        1.750000   \n1      atom    291    425        1.460481   \n2      bzip    632    556        0.879747   \n3        pr    815    692        0.849080   \n4   funding    778   1086        1.395887   \n5        ls   1687   1453        0.861292   \n6     pizza    671   1980        2.950820   \n7      gzip   2687   2293        0.853368   \n8  pathways   6238  12363        1.981885   \n9    enzyme  48815  86543        1.772877   \n\n                                       Labels (most common -> least common)  \n0            [(type, 70), (label, 32), (isDefinedBy, 32), (definition, 32)]  \n1             [(type, 138), (label, 129), (subClassOf, 122), (comment, 11)]  \n2                                                      [(d, 297), (a, 259)]  \n3                                                      [(d, 359), (a, 333)]  \n4             [(type, 304), (label, 231), (comment, 229), (subClassOf, 90)]  \n5                                                      [(d, 750), (a, 703)]  \n6  [(disjointWith, 398), (type, 365), (subClassOf, 259), (onProperty, 188)]  \n7                                                    [(d, 1218), (a, 1075)]  \n8       [(type, 3118), (subClassOf, 3117), (label, 3117), (narrower, 3010)]  \n9  [(type, 14989), (comment, 11954), (altLabel, 10088), (subClassOf, 8163)]  ",
      "text/html": "<div>\n<style scoped>\n    .dataframe tbody tr th:only-of-type {\n        vertical-align: middle;\n    }\n\n    .dataframe tbody tr th {\n        vertical-align: top;\n    }\n\n    .dataframe thead th {\n        text-align: right;\n    }\n</style>\n<table border=\"1\" class=\"dataframe\">\n  <thead>\n    <tr style=\"text-align: right;\">\n      <th></th>\n      <th>Name</th>\n      <th>Nodes</th>\n      <th>Edges</th>\n      <th>Edges per node</th>\n      <th>Labels (most common -&gt; least common)</th>\n    </tr>\n  </thead>\n  <tbody>\n    <tr>\n      <th>0</th>\n      <td>skos</td>\n      <td>144</td>\n      <td>252</td>\n      <td>1.750000</td>\n      <td>[(type, 70), (label, 32), (isDefinedBy, 32), (definition, 32)]</td>\n    </tr>\n    <tr>\n      <th>1</th>\n      <td>atom</td>\n      <td>291</td>\n      <td>425</td>\n      <td>1.460481</td>\n      <td>[(type, 138), (label, 129), (subClassOf, 122), (comment, 11)]</td>\n    </tr>\n    <tr>\n      <th>2</th>\n      <td>bzip</td>\n      <td>632</td>\n      <td>556</td>\n      <td>0.879747</td>\n      <td>[(d, 297), (a, 259)]</td>\n    </tr>\n    <tr>\n      <th>3</th>\n      <td>pr</td>\n      <td>815</td>\n      <td>692</td>\n      <td>0.849080</td>\n      <td>[(d, 359), (a, 333)]</td>\n    </tr>\n    <tr>\n      <th>4</th>\n      <td>funding</td>\n      <td>778</td>\n      <td>1086</td>\n      <td>1.395887</td>\n      <td>[(type, 304), (label, 231), (comment, 229), (subClassOf, 90)]</td>\n    </tr>\n    <tr>\n      <th>5</th>\n      <td>ls</td>\n      <td>1687</td>\n      <td>1453</td>\n      <td>0.861292</td>\n      <td>[(d, 750), (a, 703)]</td>\n    </tr>\n    <tr>\n      <th>6</th>\n      <td>pizza</td>\n      <td>671</td>\n      <td>1980</td>\n      <td>2.950820</td>\n      <td>[(disjointWith, 398), (type, 365), (subClassOf, 259), (onProperty, 188)]</td>\n    </tr>\n    <tr>\n      <th>7</th>\n      <td>gzip</td>\n      <td>2687</td>\n      <td>2293</td>\n      <td>0.853368</td>\n      <td>[(d, 1218), (a, 1075)]</td>\n    </tr>\n    <tr>\n      <th>8</th>\n      <td>pathways</td>\n      <td>6238</td>\n      <td>12363</td>\n      <td>1.981885</td>\n      <td>[(type, 3118), (subClassOf, 3117), (label, 3117), (narrower, 3010)]</td>\n    </tr>\n    <tr>\n      <th>9</th>\n      <td>enzyme</td>\n      <td>48815</td>\n      <td>86543</td>\n      <td>1.772877</td>\n      <td>[(type, 14989), (comment, 11954), (altLabel, 10088), (subClassOf, 8163)]</td>\n    </tr>\n  </tbody>\n</table>\n</div>"
     },
     "execution_count": 113,
     "metadata": {},
     "output_type": "execute_result"
    }
   ],
   "source": [
    "import pandas as pd\n",
    "from collections import Counter\n",
    "from project.graph_utils import get_graph_info\n",
    "\n",
    "\n",
    "def get_most_common(source: list[str], n: int) -> list[tuple[str, int]]:\n",
    "    return sorted(Counter(source).most_common(n), key=lambda x: (x[1], x[0]), reverse=True)\n",
    "\n",
    "\n",
    "def graph_stats() -> pd.DataFrame:\n",
    "    stats = []\n",
    "\n",
    "    for graph in GRAPHS:\n",
    "        info = get_graph_info(graph)\n",
    "        stats.append([\n",
    "            graph.name,\n",
    "            info.nodes_num,\n",
    "            info.edges_num,\n",
    "            info.edges_num / info.nodes_num,\n",
    "            get_most_common(info.labels, 4),\n",
    "        ])\n",
    "\n",
    "    return pd.DataFrame(\n",
    "        sorted(stats, key=lambda st: st[2]),\n",
    "        columns=[\"Name\", \"Nodes\", \"Edges\", \"Edges per node\", \"Labels (most common -> least common)\"],\n",
    "    )\n",
    "\n",
    "\n",
    "pd.set_option(\"display.max_colwidth\", None)\n",
    "graph_stats()"
   ],
   "metadata": {
    "collapsed": false
   }
  },
  {
   "cell_type": "markdown",
   "source": [
    "#### Выбор регулярных выражений\n",
    "\n",
    "Для каждого графа создавалось по четыре регулярных выражения следующих видов:\n",
    "\n",
    "1. $R_1 = l_1 \\ | \\ l_2$ --- одно из наиболее простых выражений.\n",
    "2. $R_2 = (l_1 \\ | \\ l_2) \\ (l_3 \\ | \\ l_4)$ --- более сложное выражение.\n",
    "3. $R_3 = l_1 \\ l_2 \\ l_3 \\ l_4$ --- выражение со сравнительно большим числом состояний и малым числом переходов.\n",
    "4. $R_4 = (l_1 \\ | \\ l_2 \\ | \\ l_3 \\ | \\ l_4)^* \\ l_3 \\ l_4$ --- выражение со сравнительно большим числом переходов и малым числом состояний.\n",
    "\n",
    "В качестве меток $l_1, l_2, l_3, l_4$ выбирались четыре наиболее часто встречающиеся в конкретном графе метки в порядке убывания количества рёбер с ними (а если некоторые метки появляются на одинаковом количестве рёбер, то они сортируются в обратном алфавитном порядке). Если в графе менее четырёх меток, то существующие метки брались повторно в том же порядке необходимое количество раз. То есть, если граф обладает метками `ab` и `ac` на трёх рёбрах и `b` --- на одном, то $l_1 =$`ac`, $l_2 =$`ab`, $l_3 =$`b`, $l_4 =$`ac`.\n",
    "\n",
    "Далее представлен код для генерации описанных регулярных выражений."
   ],
   "metadata": {
    "collapsed": false
   }
  },
  {
   "cell_type": "code",
   "execution_count": 114,
   "outputs": [],
   "source": [
    "import pyformlang.finite_automaton as fa\n",
    "\n",
    "REGEX_LABELS_NUM = 4\n",
    "\n",
    "\n",
    "def label_to_regexp(l: str) -> re.Regex:\n",
    "    re0 = re.Regex(\"\")\n",
    "    re0.head = fa.Symbol(l)\n",
    "    return re0\n",
    "\n",
    "\n",
    "def r1(l1: str, l2: str, _l3: str, _l4: str) -> re.Regex:\n",
    "    del _l3, _l4\n",
    "    re1 = label_to_regexp(l1)\n",
    "    re2 = label_to_regexp(l2)\n",
    "    return re1.union(re2)\n",
    "\n",
    "\n",
    "def r2(l1: str, l2: str, l3: str, l4: str) -> re.Regex:\n",
    "    re1 = label_to_regexp(l1)\n",
    "    re2 = label_to_regexp(l2)\n",
    "    re12 = re1.union(re2)\n",
    "\n",
    "    re3 = label_to_regexp(l3)\n",
    "    re4 = label_to_regexp(l4)\n",
    "    re34 = re3.union(re4)\n",
    "\n",
    "    return re12.concatenate(re34)\n",
    "\n",
    "\n",
    "def r3(l1: str, l2: str, l3: str, l4: str) -> re.Regex:\n",
    "    re1 = label_to_regexp(l1)\n",
    "    re2 = label_to_regexp(l2)\n",
    "    re3 = label_to_regexp(l3)\n",
    "    re4 = label_to_regexp(l4)\n",
    "    return re1.concatenate(re2).concatenate(re3).concatenate(re4)\n",
    "\n",
    "\n",
    "def r4(l1: str, l2: str, l3: str, l4: str) -> re.Regex:\n",
    "    re1 = label_to_regexp(l1)\n",
    "    re2 = label_to_regexp(l2)\n",
    "    re3 = label_to_regexp(l3)\n",
    "    re4 = label_to_regexp(l4)\n",
    "    re1234 = re1.union(re2).union(re3).union(re4)\n",
    "    re1234 = re1234.kleene_star()\n",
    "\n",
    "    return re1234.concatenate(re3).concatenate(re4)\n",
    "\n",
    "\n",
    "REGEXES = {\n",
    "    \"l1 | l2\": r1,\n",
    "    \"(l1 | l2) (l3 | l4)\": r2,\n",
    "    \"l1 l2 l3 l4\": r3,\n",
    "    \"(l1 | l2 | l3 | l4)* l3 l4\": r4\n",
    "}\n",
    "\n",
    "\n",
    "def create_regexes_for_graph(graph: nx.Graph) -> list[re.Regex]:\n",
    "    info = get_graph_info(graph)\n",
    "    labels = get_most_common(info.labels, REGEX_LABELS_NUM)\n",
    "    while len(labels) < REGEX_LABELS_NUM:\n",
    "        labels += labels\n",
    "    labels = labels[:REGEX_LABELS_NUM]\n",
    "\n",
    "    return [r(*labels) for r in REGEXES.values()]"
   ],
   "metadata": {
    "collapsed": false
   }
  },
  {
   "cell_type": "markdown",
   "source": [
    "Также ниже приведены характеристики данных регулярных выражений как конечных автоматов, к которым они будут сводиться в исследуемых алгоритмах."
   ],
   "metadata": {
    "collapsed": false
   }
  },
  {
   "cell_type": "code",
   "execution_count": 115,
   "outputs": [
    {
     "data": {
      "text/plain": "                        Regex  Symbols  States  Transitions  \\\n0                     l1 | l2        2       2            2   \n1         (l1 | l2) (l3 | l4)        4       3            4   \n2                 l1 l2 l3 l4        4       5            4   \n3  (l1 | l2 | l3 | l4)* l3 l4        4       3           12   \n\n   Transitions per state  \n0               1.000000  \n1               1.333333  \n2               0.800000  \n3               4.000000  ",
      "text/html": "<div>\n<style scoped>\n    .dataframe tbody tr th:only-of-type {\n        vertical-align: middle;\n    }\n\n    .dataframe tbody tr th {\n        vertical-align: top;\n    }\n\n    .dataframe thead th {\n        text-align: right;\n    }\n</style>\n<table border=\"1\" class=\"dataframe\">\n  <thead>\n    <tr style=\"text-align: right;\">\n      <th></th>\n      <th>Regex</th>\n      <th>Symbols</th>\n      <th>States</th>\n      <th>Transitions</th>\n      <th>Transitions per state</th>\n    </tr>\n  </thead>\n  <tbody>\n    <tr>\n      <th>0</th>\n      <td>l1 | l2</td>\n      <td>2</td>\n      <td>2</td>\n      <td>2</td>\n      <td>1.000000</td>\n    </tr>\n    <tr>\n      <th>1</th>\n      <td>(l1 | l2) (l3 | l4)</td>\n      <td>4</td>\n      <td>3</td>\n      <td>4</td>\n      <td>1.333333</td>\n    </tr>\n    <tr>\n      <th>2</th>\n      <td>l1 l2 l3 l4</td>\n      <td>4</td>\n      <td>5</td>\n      <td>4</td>\n      <td>0.800000</td>\n    </tr>\n    <tr>\n      <th>3</th>\n      <td>(l1 | l2 | l3 | l4)* l3 l4</td>\n      <td>4</td>\n      <td>3</td>\n      <td>12</td>\n      <td>4.000000</td>\n    </tr>\n  </tbody>\n</table>\n</div>"
     },
     "execution_count": 115,
     "metadata": {},
     "output_type": "execute_result"
    }
   ],
   "source": [
    "def regex_stats() -> pd.DataFrame:\n",
    "    stats = []\n",
    "\n",
    "    for s, r in [(s, r(\"a\", \"b\", \"c\", \"d\")) for s, r in REGEXES.items()]:\n",
    "        dfa = regex_to_min_dfa(r)\n",
    "        stats.append([\n",
    "            s,\n",
    "            len(dfa.symbols),\n",
    "            len(dfa.states),\n",
    "            dfa.get_number_transitions(),\n",
    "            dfa.get_number_transitions() / len(dfa.states),\n",
    "        ])\n",
    "\n",
    "    return pd.DataFrame(stats, columns=[\"Regex\", \"Symbols\", \"States\", \"Transitions\", \"Transitions per state\"])\n",
    "\n",
    "\n",
    "regex_stats()"
   ],
   "metadata": {
    "collapsed": false
   }
  },
  {
   "cell_type": "markdown",
   "source": [
    "#### Выбор множеств стартовых и финальных вершин\n",
    "\n",
    "Стоит отметить, что множество стартовых вершин может заметно и нетривиально повлиять на быстродействие алгоритмов, решающих задачу в постановках 2 и 3, так как если из выбранных вершин достижима малая область графа, то обход завершится быстрее. Для алгоритма в постановке задачи под номером 3 число стартовых вершин также определяет размер матрицы-фронта. Для обеспечения воспроизводимости результатов эксперимента множества стартовых вершин генерировалось при помощи функций [`generate_multiple_source`](https://jetbrains-research.github.io/CFPQ_Data/reference/graphs/generated/cfpq_data.graphs.utils.multiple_source_utils.html#cfpq_data.graphs.utils.multiple_source_utils.generate_multiple_source) и [`generate_multiple_source_percent`](https://jetbrains-research.github.io/CFPQ_Data/reference/graphs/generated/cfpq_data.graphs.utils.multiple_source_utils.html#cfpq_data.graphs.utils.multiple_source_utils.generate_multiple_source_percent) из библиотеки `CFPQ_Data` со значением параметра `seed`, равным `42`. Так как для вопроса 2 из цели данной работы требуется изучить влияние размера множества стартовых вершин, то значение параметра `set_size` определяется конкретным экспериментом.\n",
    "\n",
    "Напротив, множество финальных вершин влияет на быстродействие всех трёх алгоритмов тривиально и лишь своим размером: во всех случаях на завершающем этапе достигнутые вершины проверяются на принадлежность к множеству финальных вершин, что происходит через поиск по множеству. Поэтому для простоты в качестве множества финальных вершин выбиралось всё множество вершин графа."
   ],
   "metadata": {
    "collapsed": false
   }
  },
  {
   "cell_type": "code",
   "execution_count": 116,
   "outputs": [],
   "source": [
    "# Seed to generate the set of start nodes\n",
    "START_SET_SEED = 42"
   ],
   "metadata": {
    "collapsed": false
   }
  },
  {
   "cell_type": "markdown",
   "source": [
    "### Проводимые замеры\n",
    "\n",
    "Для ответа на каждый из поставленных вопросов нужно провести соответствующие замеры.\n",
    "\n",
    "#### Замеры для вопроса 1 (о выгоде от использования `pycubool`)\n",
    "\n",
    "Для выяснения того, при каких условиях использование `pycubool` даёт выигрыш в производительности против использования `scipy.sparse`, нужно выявить основные характеристики матриц, которые влияют на скорость выполнения данными библиотеками матричных операций.\n",
    "\n",
    "Естественно предположить, что это размер и степень разреженности (мера того, насколько матрица заполнена непустыми элементами): чем больше каждая из этих величин, тем больше нетривиальных операций нужно провести. Среди параметров графа и регулярного выражения на эти величины влияют, соответственно, число вершин (или же состояний конечного автомата, в случае регулярного выражения) и отношение числа рёбер (или же переходов) к числу вершин (или же состояний).\n",
    "\n",
    "Таким образом, для каждого из трёх алгоритмов следует для реализаций на `scipy.sparse` и `pycubool` замерить скорость их работы на всевозможных комбинациях выбранных графов и регулярных выражений с фиксированными стартовыми множествами и проследить зависимость разницы данных скоростей от указанных параметров.\n",
    "\n",
    "#### Замеры для вопроса 2 (о влиянии размера стартового множества на выгоду использования решений первой и третьей формулировок)\n",
    "\n",
    "Чтобы понять, при каких размерах множества стартовых вершинах, используя `pycubool`, эффективнее решать задачу в её первой постановке (то есть искать достижимые вершины среди всех пар вершин, а затем отбирать нужные), а при каких --- в третьей (то есть искать достижимые вершины лишь от стартовых вершин), требуется замерить скорость работы данных решений, реализованных на `pycubool`, при разных размерах стартового множества вершин.\n",
    "\n",
    "Таким образом, следует замерить скорость работы реализаций решения первой и третьей постановок задачи на `pycubool` на всевозможных комбинациях выбранных графов и регулярных выражений с различными размерами стартового множества и проследить, какая из реализаций будет показывать лучший результат в зависимости от взятых размеров.\n",
    "\n",
    "#### Замеры для вопроса 3 (о сравнении быстродействия решений второй и третьей формулировок)\n",
    "\n",
    "Чтобы выяснить, насколько решение задачи на `pycubool` в её второй формулировке (поиск для всего стартового множества вместе) быстрее решения в третьей (поиск для каждой стартовой вершины отдельно) при равных начальных условиях нужно замерить время их работы на одинаковых графах и регулярных запросах с равными стартовыми множествами.\n",
    "\n",
    "Таким образом, следует замерить скорость работы реализаций решения второй и третьей постановок задачи на `pycubool` на всевозможных комбинациях выбранных графов и регулярных выражений с некоторыми фиксированным стартовыми множествами и сравнить результаты.\n",
    "\n",
    "#### Итог по необходимым замерам\n",
    "\n",
    "Итого, для ответа на все три вопроса достаточно провести следующие замеры времени выполнения:\n",
    "\n",
    "- на всевозможных комбинациях выбранных графов и регулярных выражений с фиксированными стартовыми множествами --- для всех реализаций;\n",
    "- на всевозможных комбинациях выбранных графов, регулярных выражений и размеров стартовых множеств --- для реализаций первой и третьей формулировок задачи на `pycubool`.\n",
    "\n",
    "Для небольших графов (с числом вершин не более 10000) время работы замеряется пять раз подряд для получения среднего значения и стандартного отклонения. Для больших графов (с числом вершин более 10000) замеры проводятся по одному разу, так как время, затрачиваемое на выполнение алгоритмов на таких графах существенно превышает получаемые погрешности. Время замеряется при помощи модуля [`timeit`](https://docs.python.org/3/library/timeit.html)."
   ],
   "metadata": {
    "collapsed": false
   }
  },
  {
   "cell_type": "code",
   "execution_count": 117,
   "outputs": [],
   "source": [
    "# Percent of nodes to take as start in the fixed-start experiment\n",
    "FIXED_START_SIZE = 50\n",
    "# Sizes of start sets in varied-start experiment\n",
    "VARIED_START_SIZES = [50, 100, 200, 400, 800, 1500, 3000, 6000, 10000]\n",
    "# Number of consecutive times each measurement is run for small graphs\n",
    "RUN_TIMES_SMALL = 5\n",
    "# Number of consecutive times each measurement is run for huge graphs\n",
    "RUN_TIMES_HUGE = 1\n",
    "\n",
    "\n",
    "# Determines which graphs are considered small\n",
    "def is_small(graph: nx.Graph) -> bool:\n",
    "    return graph.number_of_edges() <= 10000"
   ],
   "metadata": {
    "collapsed": false
   }
  },
  {
   "cell_type": "markdown",
   "source": [
    "Ниже представлен код для проведения описанных замеров."
   ],
   "metadata": {
    "collapsed": false
   }
  },
  {
   "cell_type": "code",
   "execution_count": 118,
   "outputs": [
    {
     "name": "stderr",
     "output_type": "stream",
     "text": [
      "[2022-10-12 10:31:45]>INFO>Generate set of source vertices of 50 nodes for graph=<networkx.classes.multidigraph.MultiDiGraph object at 0x7f14379edd20> for multiple-source evaluation\n"
     ]
    },
    {
     "name": "stdout",
     "output_type": "stream",
     "text": [
      "########## Graph skos (1 / 10, run times = 5) ##########\n",
      "========== Regex #1 ==========\n",
      "by_tensor (0.014972562399998423, 0.004765909359586005)\n",
      "by_bfs_all (0.01130077820016595, 9.78897951922371e-05)\n",
      "by_bfs_each (0.026348340600088706, 0.0002958505523572621)\n",
      "by_tensor_cuda (0.008163136000257509, 0.00010699599853147703)\n",
      "by_bfs_all_cuda (0.007894651800052088, 7.508099790222317e-05)\n",
      "by_bfs_each_cuda (0.026781841399861152, 0.003770869742658866)\n",
      "========== Regex #2 ==========\n",
      "by_tensor (0.013214736599911703, 0.00017415656083704154)\n",
      "by_bfs_all (0.01154623279999214, 4.9182234985349624e-05)\n",
      "by_bfs_each (0.02656910040004732, 0.00030119672923772516)\n",
      "by_tensor_cuda (0.008428205799646094, 7.08594594838355e-05)\n",
      "by_bfs_all_cuda (0.008034014199984086, 3.172289211247255e-05)\n",
      "by_bfs_each_cuda (0.025169092200303566, 0.0007971925499149784)\n",
      "========== Regex #3 ==========\n",
      "by_tensor (0.013262169400150015, 0.00014599623050018067)\n",
      "by_bfs_all (0.011426847800066753, 4.641760238234392e-05)\n",
      "by_bfs_each (0.026677228799962906, 0.00028297403861992515)\n",
      "by_tensor_cuda (0.008492969600047218, 9.555035412247043e-05)\n",
      "by_bfs_all_cuda (0.007992393399945286, 2.27954316616951e-05)\n",
      "by_bfs_each_cuda (0.024329141799898934, 8.241247250979515e-05)\n",
      "========== Regex #4 ==========\n",
      "by_tensor (0.013959659400097735, 0.00010325578143617254)\n",
      "by_bfs_all (0.012302147800073725, 4.4977105764572786e-05)\n",
      "by_bfs_each (0.027369749999888882, 0.000314735041081135)\n",
      "by_tensor_cuda (0.009150501000112854, 8.114019789006927e-05)\n",
      "by_bfs_all_cuda (0.008782691000124031, 1.8699998025774252e-05)\n",
      "by_bfs_each_cuda "
     ]
    },
    {
     "name": "stderr",
     "output_type": "stream",
     "text": [
      "[2022-10-12 10:31:47]>INFO>Generate set of source vertices of 50 nodes for graph=<networkx.classes.multidigraph.MultiDiGraph object at 0x7f14395abd00> for multiple-source evaluation\n"
     ]
    },
    {
     "name": "stdout",
     "output_type": "stream",
     "text": [
      "(0.025863951200153678, 0.0008376230491187759)\n",
      "########## Graph atom (2 / 10, run times = 5) ##########\n",
      "========== Regex #1 ==========\n",
      "by_tensor (0.029267133800021838, 0.0018417817327810286)\n",
      "by_bfs_all (0.027812038599950028, 0.0019397127875403722)\n",
      "by_bfs_each (0.04239768980005465, 0.0004619944065371219)\n",
      "by_tensor_cuda (0.023219143000096663, 0.0011669798157614287)\n",
      "by_bfs_all_cuda (0.02222218499991868, 0.0004124354634257992)\n",
      "by_bfs_each_cuda (0.0426395060001596, 0.00864516684629376)\n",
      "========== Regex #2 ==========\n",
      "by_tensor (0.028353036599946792, 0.00027688771643494167)\n",
      "by_bfs_all (0.026826543600327567, 0.00015081824484474495)\n",
      "by_bfs_each (0.04249992340010067, 0.0002231980455927104)\n",
      "by_tensor_cuda (0.022742284599917183, 4.954802345235434e-05)\n",
      "by_bfs_all_cuda (0.022312946599959103, 0.00011354294847918989)\n",
      "by_bfs_each_cuda (0.039280458399844065, 0.0008659741260555877)\n",
      "========== Regex #3 ==========\n",
      "by_tensor (0.028422193000005792, 0.000431087802877981)\n",
      "by_bfs_all (0.026519784799893385, 3.709640851319628e-05)\n",
      "by_bfs_each (0.053912531799869615, 0.010410687489448815)\n",
      "by_tensor_cuda (0.02689052499972604, 0.0020125088829313505)\n",
      "by_bfs_all_cuda (0.030763895199925173, 0.009313265742340739)\n",
      "by_bfs_each_cuda (0.03960227180014044, 0.0011033376098357238)\n",
      "========== Regex #4 ==========\n",
      "by_tensor (0.02948574660003942, 0.00041372828656216525)\n",
      "by_bfs_all (0.027871025599779387, 8.266811560120973e-05)\n",
      "by_bfs_each (0.050191266000001636, 0.01400044356009255)\n",
      "by_tensor_cuda (0.023901681800089135, 0.0001543835657164324)\n",
      "by_bfs_all_cuda "
     ]
    },
    {
     "name": "stderr",
     "output_type": "stream",
     "text": [
      "[2022-10-12 10:31:51]>INFO>Generate set of source vertices of 50 nodes for graph=<networkx.classes.multidigraph.MultiDiGraph object at 0x7f14379edf00> for multiple-source evaluation\n"
     ]
    },
    {
     "name": "stdout",
     "output_type": "stream",
     "text": [
      "(0.0281457381999644, 0.008514182061062504)\n",
      "by_bfs_each_cuda (0.040142235200255526, 0.0010467036290585912)\n",
      "########## Graph bzip (3 / 10, run times = 5) ##########\n",
      "========== Regex #1 ==========\n",
      "by_tensor (0.05416949919981562, 0.0005094143713212667)\n",
      "by_bfs_all (0.06497672080004122, 0.017147867929714067)\n",
      "by_bfs_each (0.07029662820004887, 0.00024239603012936529)\n",
      "by_tensor_cuda (0.05340719500018167, 0.009273961399372647)\n",
      "by_bfs_all_cuda (0.04887900720004836, 0.0006543867269234636)\n",
      "by_bfs_each_cuda (0.06571747320012947, 0.0008539539506096966)\n",
      "========== Regex #2 ==========\n",
      "by_tensor (0.06065753920011048, 0.013968741767018112)\n",
      "by_bfs_all (0.05386847839981783, 0.0005771947671655065)\n",
      "by_bfs_each (0.07062608920005005, 0.00033240191648285035)\n",
      "by_tensor_cuda (0.05430539780008985, 0.009347537900416496)\n",
      "by_bfs_all_cuda (0.04923726440028986, 0.0008784661349208464)\n",
      "by_bfs_each_cuda (0.06583947959989019, 0.0014604558737958742)\n",
      "========== Regex #3 ==========\n",
      "by_tensor (0.05843882379995193, 0.008683648252106874)\n",
      "by_bfs_all (0.053283572800319236, 0.0006469568056796357)\n",
      "by_bfs_each (0.07037338099999033, 0.0005640217987481589)\n",
      "by_tensor_cuda (0.05465240259982238, 0.010898411175468165)\n",
      "by_bfs_all_cuda (0.04890453399984836, 0.0008021762425871106)\n",
      "by_bfs_each_cuda (0.06575803239993547, 0.0010455214940193259)\n",
      "========== Regex #4 ==========\n",
      "by_tensor (0.06043177919982554, 0.012337579183392062)\n",
      "by_bfs_all (0.05337583760010602, 0.0003135493651136143)\n",
      "by_bfs_each (0.07076544039973669, 0.00045382714009658176)\n",
      "by_tensor_cuda (0.06312279159992613, 0.01875102736980992)\n",
      "by_bfs_all_cuda (0.049730003199692875, 0.0002558695205930582)\n",
      "by_bfs_each_cuda "
     ]
    },
    {
     "name": "stderr",
     "output_type": "stream",
     "text": [
      "[2022-10-12 10:31:58]>INFO>Generate set of source vertices of 50 nodes for graph=<networkx.classes.multidigraph.MultiDiGraph object at 0x7f14379ecbe0> for multiple-source evaluation\n"
     ]
    },
    {
     "name": "stdout",
     "output_type": "stream",
     "text": [
      "(0.06640590240003803, 0.0008539452441439407)\n",
      "########## Graph pr (4 / 10, run times = 5) ##########\n",
      "========== Regex #1 ==========\n",
      "by_tensor (0.0839430635998724, 0.0003315480048256898)\n",
      "by_bfs_all (0.09718012859993905, 0.014415932751891394)\n",
      "by_bfs_each (0.11948560700002417, 0.024897803232109907)\n",
      "by_tensor_cuda (0.08751738119972288, 0.009226462947977587)\n",
      "by_bfs_all_cuda (0.09364635780002573, 0.023056744207714436)\n",
      "by_bfs_each_cuda (0.10217109479999635, 0.015352301725262424)\n",
      "========== Regex #2 ==========\n",
      "by_tensor (0.09815570599985221, 0.026924433969786964)\n",
      "by_bfs_all (0.0823956353997346, 0.00032888398078140295)\n",
      "by_bfs_each (0.10023207220019685, 0.0004188062612383547)\n",
      "by_tensor_cuda (0.07812000480007555, 0.0005742107521656268)\n",
      "by_bfs_all_cuda (0.07717341600018698, 0.0005040501574704004)\n",
      "by_bfs_each_cuda (0.09467292200024531, 0.0015266448305262486)\n",
      "========== Regex #3 ==========\n",
      "by_tensor (0.08442089339987432, 0.0011968257806620362)\n",
      "by_bfs_all (0.08273073439995642, 0.00039586107183279206)\n",
      "by_bfs_each (0.10023700899982942, 0.0003825721316545154)\n",
      "by_tensor_cuda (0.07851165119973302, 0.0004147930165224421)\n",
      "by_bfs_all_cuda (0.07725193339992983, 0.00041620650561876183)\n",
      "by_bfs_each_cuda (0.093914119800138, 0.0008200851154825885)\n",
      "========== Regex #4 ==========\n",
      "by_tensor (0.08416427680003835, 0.0008644788174854765)\n",
      "by_bfs_all (0.08302608140002121, 0.0011852880553587433)\n",
      "by_bfs_each (0.10067111740008841, 0.00027787605526116065)\n",
      "by_tensor_cuda (0.07842564339989622, 0.0013396767858464996)\n",
      "by_bfs_all_cuda (0.07736699959987163, 0.0019601928899864235)\n",
      "by_bfs_each_cuda "
     ]
    },
    {
     "name": "stderr",
     "output_type": "stream",
     "text": [
      "[2022-10-12 10:32:09]>INFO>Generate set of source vertices of 50 nodes for graph=<networkx.classes.multidigraph.MultiDiGraph object at 0x7f14379ed4b0> for multiple-source evaluation\n"
     ]
    },
    {
     "name": "stdout",
     "output_type": "stream",
     "text": [
      "(0.09354919399993378, 0.0009618865829659263)\n",
      "########## Graph funding (5 / 10, run times = 5) ##########\n",
      "========== Regex #1 ==========\n",
      "by_tensor (0.13054849020008988, 0.006796752783634672)\n",
      "by_bfs_all (0.1248282572001699, 0.00036259464499435284)\n",
      "by_bfs_each (0.1422524515999612, 0.0002462554815355364)\n",
      "by_tensor_cuda (0.11724542399988422, 0.0007595383758979073)\n",
      "by_bfs_all_cuda (0.11602754479972646, 0.0006066108977071245)\n",
      "by_bfs_each_cuda (0.13201501960011228, 0.0008367352141444784)\n",
      "========== Regex #2 ==========\n",
      "by_tensor (0.1311537359997601, 0.008347328424401156)\n",
      "by_bfs_all (0.12496185019990662, 0.00046424706979159225)\n",
      "by_bfs_each (0.14220283840004413, 0.00036186531973348655)\n",
      "by_tensor_cuda (0.11732600440009264, 0.0002261091549504043)\n",
      "by_bfs_all_cuda (0.11606882880005287, 0.00043882955109984334)\n",
      "by_bfs_each_cuda (0.132869342199956, 0.0012264335856425894)\n",
      "========== Regex #3 ==========\n",
      "by_tensor (0.1282876559997021, 0.000605077003672963)\n",
      "by_bfs_all (0.12483431220007332, 0.0002859988429307718)\n",
      "by_bfs_each (0.14247192420007196, 0.0006773276459940455)\n",
      "by_tensor_cuda (0.11802512240028591, 0.0005493425814839686)\n",
      "by_bfs_all_cuda (0.11612610819956899, 0.00039051796831509955)\n",
      "by_bfs_each_cuda (0.13224345040016489, 0.0012844354774415377)\n",
      "========== Regex #4 ==========\n",
      "by_tensor (0.12728426500016213, 0.0003143211299666127)\n",
      "by_bfs_all (0.12510175959996558, 0.00040251077246311053)\n",
      "by_bfs_each (0.14300485140029195, 0.0004313314251405638)\n",
      "by_tensor_cuda (0.11812093140015349, 0.0009039581524328604)\n",
      "by_bfs_all_cuda (0.1167767595999976, 0.00046972109357051585)\n",
      "by_bfs_each_cuda "
     ]
    },
    {
     "name": "stderr",
     "output_type": "stream",
     "text": [
      "[2022-10-12 10:32:24]>INFO>Generate set of source vertices of 50 nodes for graph=<networkx.classes.multidigraph.MultiDiGraph object at 0x7f14379ed690> for multiple-source evaluation\n"
     ]
    },
    {
     "name": "stdout",
     "output_type": "stream",
     "text": [
      "(0.1329734393997569, 0.0008520159130215401)\n",
      "########## Graph ls (6 / 10, run times = 5) ##########\n",
      "========== Regex #1 ==========\n",
      "by_tensor (0.31772106639964476, 0.002379380538718004)\n",
      "by_bfs_all (0.312505265999971, 0.002549650277784356)\n",
      "by_bfs_each (0.3358271217999572, 0.002856833408312134)\n",
      "by_tensor_cuda (0.3027127974000905, 0.00435838731754139)\n",
      "by_bfs_all_cuda (0.3027609739998297, 0.0018846944219577978)\n",
      "by_bfs_each_cuda (0.3184755715996289, 0.0036877823395955437)\n",
      "========== Regex #2 ==========\n",
      "by_tensor (0.31704152140009684, 0.0020381996325379973)\n",
      "by_bfs_all (0.3150025068001924, 0.0023780028959146434)\n",
      "by_bfs_each (0.3337908511999558, 0.0035226716639072107)\n",
      "by_tensor_cuda (0.29832755239986, 0.002802116117004992)\n",
      "by_bfs_all_cuda (0.3001942753997355, 0.004777897233084355)\n",
      "by_bfs_each_cuda (0.31424241679997067, 0.003995607864057068)\n",
      "========== Regex #3 ==========\n",
      "by_tensor (0.31614642000004095, 0.002603575399229578)\n",
      "by_bfs_all (0.31298004260024753, 0.0029571496902667705)\n",
      "by_bfs_each (0.33570266679998895, 0.0017411518019479363)\n",
      "by_tensor_cuda (0.3046495665998009, 0.00748845824397277)\n",
      "by_bfs_all_cuda (0.30210943459987905, 0.0029954038154631816)\n",
      "by_bfs_each_cuda (0.31732999680007196, 0.0024139281401093907)\n",
      "========== Regex #4 ==========\n",
      "by_tensor (0.31977879920013946, 0.007326646292827272)\n",
      "by_bfs_all (0.3131645577997915, 0.0025009117924475878)\n",
      "by_bfs_each (0.33340037699999814, 0.0021121577115411267)\n",
      "by_tensor_cuda (0.3009106903999054, 0.0028710714908417104)\n",
      "by_bfs_all_cuda (0.29853490860004966, 0.004859062242844584)\n",
      "by_bfs_each_cuda "
     ]
    },
    {
     "name": "stderr",
     "output_type": "stream",
     "text": [
      "[2022-10-12 10:33:02]>INFO>Generate set of source vertices of 50 nodes for graph=<networkx.classes.multidigraph.MultiDiGraph object at 0x7f14379efee0> for multiple-source evaluation\n"
     ]
    },
    {
     "name": "stdout",
     "output_type": "stream",
     "text": [
      "(0.3160646540001835, 0.003878881043909966)\n",
      "########## Graph pizza (7 / 10, run times = 5) ##########\n",
      "========== Regex #1 ==========\n",
      "by_tensor (0.16982833380006923, 0.0011420850177909928)\n",
      "by_bfs_all (0.16718980979985645, 0.0007971690707071027)\n",
      "by_bfs_each (0.18374277020011504, 0.00038367039689236155)\n",
      "by_tensor_cuda (0.15462744159995054, 0.0012899593930789555)\n",
      "by_bfs_all_cuda (0.15311674060030783, 0.000595702807372521)\n",
      "by_bfs_each_cuda (0.1698664406001626, 0.0013239480617309694)\n",
      "========== Regex #2 ==========\n",
      "by_tensor (0.16888487359974533, 0.0004882997302571629)\n",
      "by_bfs_all (0.1681128769996576, 0.0011915112931003993)\n",
      "by_bfs_each (0.1850446398000713, 0.00042378950167440324)\n",
      "by_tensor_cuda (0.15449561399982487, 0.0010104582038175098)\n",
      "by_bfs_all_cuda (0.1532915778001552, 0.0012480403797690285)\n",
      "by_bfs_each_cuda (0.17033500059988, 0.002316452134166971)\n",
      "========== Regex #3 ==========\n",
      "by_tensor (0.16918856220017914, 0.000636940665609962)\n",
      "by_bfs_all (0.16745929819990124, 0.0008803631219165591)\n",
      "by_bfs_each (0.18505903059995035, 0.001888212290319431)\n",
      "by_tensor_cuda (0.15435687839999446, 0.0010947896541632692)\n",
      "by_bfs_all_cuda (0.15296754500013776, 0.0012626475808378754)\n",
      "by_bfs_each_cuda (0.1707005729997036, 0.0012631969334483699)\n",
      "========== Regex #4 ==========\n",
      "by_tensor (0.17008785600010015, 0.0003635421133761309)\n",
      "by_bfs_all (0.16847282880007697, 0.0007420074758227434)\n",
      "by_bfs_each (0.18468079760004913, 0.000310901397837322)\n",
      "by_tensor_cuda (0.1547516368000288, 0.0005989850368377572)\n",
      "by_bfs_all_cuda (0.15405047020012716, 0.0008020319972675023)\n",
      "by_bfs_each_cuda "
     ]
    },
    {
     "name": "stderr",
     "output_type": "stream",
     "text": [
      "[2022-10-12 10:33:22]>INFO>Generate set of source vertices of 50 nodes for graph=<networkx.classes.multidigraph.MultiDiGraph object at 0x7f14379ec3d0> for multiple-source evaluation\n"
     ]
    },
    {
     "name": "stdout",
     "output_type": "stream",
     "text": [
      "(0.17026421739992656, 0.0013863940344221199)\n",
      "########## Graph gzip (8 / 10, run times = 5) ##########\n",
      "========== Regex #1 ==========\n",
      "by_tensor (0.778438714799995, 0.0027855323182885247)\n",
      "by_bfs_all (0.7762078287996701, 0.0009866219573870874)\n",
      "by_bfs_each (0.7982249076001608, 0.005163930460212045)\n",
      "by_tensor_cuda (0.7635905804003414, 0.007534356056572761)\n",
      "by_bfs_all_cuda (0.7717800795997392, 0.010607934648811332)\n",
      "by_bfs_each_cuda (0.7851330867999422, 0.015517599110188017)\n",
      "========== Regex #2 ==========\n",
      "by_tensor (0.7773148331996709, 0.0057926973154278985)\n",
      "by_bfs_all (0.774094778000108, 0.0011278428825335445)\n",
      "by_bfs_each (0.8004007841998828, 0.004916593205789175)\n",
      "by_tensor_cuda (0.7640492943999562, 0.009823882773225691)\n",
      "by_bfs_all_cuda (0.7670939533998535, 0.008397112439368668)\n",
      "by_bfs_each_cuda (0.7797743146002176, 0.014556198336044582)\n",
      "========== Regex #3 ==========\n",
      "by_tensor (0.7810677778001264, 0.0020696007468727867)\n",
      "by_bfs_all (0.7747078079995845, 0.002815390202840194)\n",
      "by_bfs_each (0.8024820399999953, 0.00259645462707225)\n",
      "by_tensor_cuda (0.7678885563995209, 0.012356658600243393)\n",
      "by_bfs_all_cuda (0.756492853400232, 0.0071521241221204545)\n",
      "by_bfs_each_cuda (0.7804811339998196, 0.017402439097333074)\n",
      "========== Regex #4 ==========\n",
      "by_tensor (0.7769090733996563, 0.00043762420679808865)\n",
      "by_bfs_all (0.7763001419998545, 0.0011751650547079428)\n",
      "by_bfs_each (0.8007507530001021, 0.0014876846907254586)\n",
      "by_tensor_cuda (0.7676749125999777, 0.009696540022010038)\n",
      "by_bfs_all_cuda (0.7608739975999924, 0.01045672292194418)\n",
      "by_bfs_each_cuda "
     ]
    },
    {
     "name": "stderr",
     "output_type": "stream",
     "text": [
      "[2022-10-12 10:34:55]>INFO>Generate set of source vertices of 50 nodes for graph=<networkx.classes.multidigraph.MultiDiGraph object at 0x7f14379ecf40> for multiple-source evaluation\n"
     ]
    },
    {
     "name": "stdout",
     "output_type": "stream",
     "text": [
      "(0.7852044110000861, 0.014952104584932463)\n",
      "########## Graph pathways (9 / 10, run times = 1) ##########\n",
      "========== Regex #1 ==========\n",
      "by_tensor (8.125346149000507, 0.0)\n",
      "by_bfs_all (8.151516724999965, 0.0)\n",
      "by_bfs_each (8.456024809000155, 0.0)\n",
      "by_tensor_cuda (8.294274380000388, 0.0)\n",
      "by_bfs_all_cuda (8.283845332000055, 0.0)\n",
      "by_bfs_each_cuda (8.391206311999667, 0.0)\n",
      "========== Regex #2 ==========\n",
      "by_tensor (8.23902805599937, 0.0)\n",
      "by_bfs_all (8.165855426000235, 0.0)\n",
      "by_bfs_each (8.200430398000208, 0.0)\n",
      "by_tensor_cuda (8.281474267999329, 0.0)\n",
      "by_bfs_all_cuda (8.265628985000149, 0.0)\n",
      "by_bfs_each_cuda (8.296986755000034, 0.0)\n",
      "========== Regex #3 ==========\n",
      "by_tensor (8.171110967999994, 0.0)\n",
      "by_bfs_all (8.16756676499972, 0.0)\n",
      "by_bfs_each (8.19555243800005, 0.0)\n",
      "by_tensor_cuda (8.269725836999896, 0.0)\n",
      "by_bfs_all_cuda (8.293295252999997, 0.0)\n",
      "by_bfs_each_cuda (8.337939838000239, 0.0)\n",
      "========== Regex #4 ==========\n",
      "by_tensor (8.30016272300054, 0.0)\n",
      "by_bfs_all (8.157689341999685, 0.0)\n",
      "by_bfs_each (8.196656583999356, 0.0)\n",
      "by_tensor_cuda (8.27695993099951, 0.0)\n",
      "by_bfs_all_cuda (8.282520743000532, 0.0)\n",
      "by_bfs_each_cuda "
     ]
    },
    {
     "name": "stderr",
     "output_type": "stream",
     "text": [
      "[2022-10-12 10:38:14]>INFO>Generate set of source vertices of 50 nodes for graph=<networkx.classes.multidigraph.MultiDiGraph object at 0x7f14379ee590> for multiple-source evaluation\n"
     ]
    },
    {
     "name": "stdout",
     "output_type": "stream",
     "text": [
      "(8.33697896600006, 0.0)\n",
      "########## Graph enzyme (10 / 10, run times = 1) ##########\n",
      "========== Regex #1 ==========\n",
      "by_tensor (471.5008851040002, 0.0)\n",
      "by_bfs_all (472.95104639300007, 0.0)\n",
      "by_bfs_each (470.7501250509995, 0.0)\n",
      "by_tensor_cuda (471.3658312460002, 0.0)\n",
      "by_bfs_all_cuda (472.8072313930006, 0.0)\n",
      "by_bfs_each_cuda (473.0320364899999, 0.0)\n",
      "========== Regex #2 ==========\n",
      "by_tensor (470.61746631799906, 0.0)\n",
      "by_bfs_all (471.9646487930004, 0.0)\n",
      "by_bfs_each (470.82469654300075, 0.0)\n",
      "by_tensor_cuda (472.1595959289989, 0.0)\n",
      "by_bfs_all_cuda (472.29608783299955, 0.0)\n",
      "by_bfs_each_cuda (472.6357196080007, 0.0)\n",
      "========== Regex #3 ==========\n",
      "by_tensor (471.2364861750011, 0.0)\n",
      "by_bfs_all (471.11400071000025, 0.0)\n",
      "by_bfs_each (472.60730711700126, 0.0)\n",
      "by_tensor_cuda (472.5846848750007, 0.0)\n",
      "by_bfs_all_cuda (474.1276831260002, 0.0)\n",
      "by_bfs_each_cuda (474.0028570150007, 0.0)\n",
      "========== Regex #4 ==========\n",
      "by_tensor (472.1844501430005, 0.0)\n",
      "by_bfs_all (471.94391251600064, 0.0)\n",
      "by_bfs_each (473.291921086, 0.0)\n",
      "by_tensor_cuda (474.7171235679998, 0.0)\n",
      "by_bfs_all_cuda (472.9762870900013, 0.0)\n",
      "by_bfs_each_cuda "
     ]
    },
    {
     "name": "stderr",
     "output_type": "stream",
     "text": [
      "[2022-10-12 13:47:12]>INFO>Generate set of source vertices of 50 nodes for graph=<networkx.classes.multidigraph.MultiDiGraph object at 0x7f14379edd20> for multiple-source evaluation\n",
      "[2022-10-12 13:47:12]>INFO>Generate set of source vertices of 100 nodes for graph=<networkx.classes.multidigraph.MultiDiGraph object at 0x7f14379edd20> for multiple-source evaluation\n"
     ]
    },
    {
     "name": "stdout",
     "output_type": "stream",
     "text": [
      "(474.2681489639981, 0.0)\n",
      "########## Graph skos (1 / 10, run times = 5) ##########\n",
      "========== Regex #1 ==========\n",
      "********** Start size #50 **********\n",
      "by_tensor_cuda (0.008415357199555728, 0.0001887189687251095)\n",
      "by_bfs_each_cuda (0.02394546060022549, 0.00021910844387909988)\n",
      "********** Start size #100 **********\n",
      "by_tensor_cuda (0.008129669199115596, 0.00012736491772879737)\n",
      "by_bfs_each_cuda "
     ]
    },
    {
     "name": "stderr",
     "output_type": "stream",
     "text": [
      "[2022-10-12 13:47:12]>INFO>Generate set of source vertices of 50 nodes for graph=<networkx.classes.multidigraph.MultiDiGraph object at 0x7f14379edd20> for multiple-source evaluation\n",
      "[2022-10-12 13:47:12]>INFO>Generate set of source vertices of 100 nodes for graph=<networkx.classes.multidigraph.MultiDiGraph object at 0x7f14379edd20> for multiple-source evaluation\n"
     ]
    },
    {
     "name": "stdout",
     "output_type": "stream",
     "text": [
      "(0.04337930180045078, 0.005545048700148461)\n",
      "========== Regex #2 ==========\n",
      "********** Start size #50 **********\n",
      "by_tensor_cuda (0.008518959600041853, 0.00010274947301650888)\n",
      "by_bfs_each_cuda (0.024257936200592668, 0.00013917322351920955)\n",
      "********** Start size #100 **********\n",
      "by_tensor_cuda (0.008345662801002619, 0.00010787149429360158)\n",
      "by_bfs_each_cuda "
     ]
    },
    {
     "name": "stderr",
     "output_type": "stream",
     "text": [
      "[2022-10-12 13:47:13]>INFO>Generate set of source vertices of 50 nodes for graph=<networkx.classes.multidigraph.MultiDiGraph object at 0x7f14379edd20> for multiple-source evaluation\n",
      "[2022-10-12 13:47:13]>INFO>Generate set of source vertices of 100 nodes for graph=<networkx.classes.multidigraph.MultiDiGraph object at 0x7f14379edd20> for multiple-source evaluation\n"
     ]
    },
    {
     "name": "stdout",
     "output_type": "stream",
     "text": [
      "(0.04295605539955431, 0.005051249857475586)\n",
      "========== Regex #3 ==========\n",
      "********** Start size #50 **********\n",
      "by_tensor_cuda (0.008578053800738417, 0.0001271457453945282)\n",
      "by_bfs_each_cuda (0.02427204320047167, 0.00014836358764018533)\n",
      "********** Start size #100 **********\n",
      "by_tensor_cuda (0.008412133200181415, 0.000136347639253524)\n",
      "by_bfs_each_cuda "
     ]
    },
    {
     "name": "stderr",
     "output_type": "stream",
     "text": [
      "[2022-10-12 13:47:13]>INFO>Generate set of source vertices of 50 nodes for graph=<networkx.classes.multidigraph.MultiDiGraph object at 0x7f14379edd20> for multiple-source evaluation\n",
      "[2022-10-12 13:47:13]>INFO>Generate set of source vertices of 100 nodes for graph=<networkx.classes.multidigraph.MultiDiGraph object at 0x7f14379edd20> for multiple-source evaluation\n"
     ]
    },
    {
     "name": "stdout",
     "output_type": "stream",
     "text": [
      "(0.04293810179879074, 0.004617962844880849)\n",
      "========== Regex #4 ==========\n",
      "********** Start size #50 **********\n",
      "by_tensor_cuda (0.009183322599710664, 9.870624746421344e-05)\n",
      "by_bfs_each_cuda (0.025001278200215894, 0.00017550017022030284)\n",
      "********** Start size #100 **********\n",
      "by_tensor_cuda (0.008986111999547575, 0.00012614481654758412)\n",
      "by_bfs_each_cuda "
     ]
    },
    {
     "name": "stderr",
     "output_type": "stream",
     "text": [
      "[2022-10-12 13:47:13]>INFO>Generate set of source vertices of 50 nodes for graph=<networkx.classes.multidigraph.MultiDiGraph object at 0x7f14395abd00> for multiple-source evaluation\n"
     ]
    },
    {
     "name": "stdout",
     "output_type": "stream",
     "text": [
      "(0.043296298800123624, 0.004800512766202746)\n",
      "########## Graph atom (2 / 10, run times = 5) ##########\n",
      "========== Regex #1 ==========\n",
      "********** Start size #50 **********\n",
      "by_tensor_cuda (0.0226577872002963, 0.0004470610034918153)\n",
      "by_bfs_each_cuda "
     ]
    },
    {
     "name": "stderr",
     "output_type": "stream",
     "text": [
      "[2022-10-12 13:47:14]>INFO>Generate set of source vertices of 100 nodes for graph=<networkx.classes.multidigraph.MultiDiGraph object at 0x7f14395abd00> for multiple-source evaluation\n"
     ]
    },
    {
     "name": "stdout",
     "output_type": "stream",
     "text": [
      "(0.03834492059977492, 0.0007537313856292821)\n",
      "********** Start size #100 **********\n",
      "by_tensor_cuda (0.022665891798533268, 0.0001355761856142606)\n",
      "by_bfs_each_cuda "
     ]
    },
    {
     "name": "stderr",
     "output_type": "stream",
     "text": [
      "[2022-10-12 13:47:14]>INFO>Generate set of source vertices of 200 nodes for graph=<networkx.classes.multidigraph.MultiDiGraph object at 0x7f14395abd00> for multiple-source evaluation\n"
     ]
    },
    {
     "name": "stdout",
     "output_type": "stream",
     "text": [
      "(0.05512284380019992, 0.0003465570367557685)\n",
      "********** Start size #200 **********\n",
      "by_tensor_cuda (0.021392050000577, 0.00014337554275358435)\n",
      "by_bfs_each_cuda "
     ]
    },
    {
     "name": "stderr",
     "output_type": "stream",
     "text": [
      "[2022-10-12 13:47:15]>INFO>Generate set of source vertices of 50 nodes for graph=<networkx.classes.multidigraph.MultiDiGraph object at 0x7f14395abd00> for multiple-source evaluation\n"
     ]
    },
    {
     "name": "stdout",
     "output_type": "stream",
     "text": [
      "(0.08991065100053675, 0.004942811075543258)\n",
      "========== Regex #2 ==========\n",
      "********** Start size #50 **********\n",
      "by_tensor_cuda (0.022933863000071143, 0.00010041486318304208)\n",
      "by_bfs_each_cuda "
     ]
    },
    {
     "name": "stderr",
     "output_type": "stream",
     "text": [
      "[2022-10-12 13:47:15]>INFO>Generate set of source vertices of 100 nodes for graph=<networkx.classes.multidigraph.MultiDiGraph object at 0x7f14395abd00> for multiple-source evaluation\n"
     ]
    },
    {
     "name": "stdout",
     "output_type": "stream",
     "text": [
      "(0.04043047480008681, 0.004047957277385522)\n",
      "********** Start size #100 **********\n",
      "by_tensor_cuda (0.022906547599995976, 0.00014542032461471518)\n",
      "by_bfs_each_cuda "
     ]
    },
    {
     "name": "stderr",
     "output_type": "stream",
     "text": [
      "[2022-10-12 13:47:15]>INFO>Generate set of source vertices of 200 nodes for graph=<networkx.classes.multidigraph.MultiDiGraph object at 0x7f14395abd00> for multiple-source evaluation\n"
     ]
    },
    {
     "name": "stdout",
     "output_type": "stream",
     "text": [
      "(0.055136026599211616, 0.00025868868147138575)\n",
      "********** Start size #200 **********\n",
      "by_tensor_cuda (0.021728597799665295, 0.00014357368155995862)\n",
      "by_bfs_each_cuda "
     ]
    },
    {
     "name": "stderr",
     "output_type": "stream",
     "text": [
      "[2022-10-12 13:47:16]>INFO>Generate set of source vertices of 50 nodes for graph=<networkx.classes.multidigraph.MultiDiGraph object at 0x7f14395abd00> for multiple-source evaluation\n"
     ]
    },
    {
     "name": "stdout",
     "output_type": "stream",
     "text": [
      "(0.08965631099999882, 0.004697637234205642)\n",
      "========== Regex #3 ==========\n",
      "********** Start size #50 **********\n",
      "by_tensor_cuda (0.02296053500031121, 0.00011801197678106602)\n",
      "by_bfs_each_cuda "
     ]
    },
    {
     "name": "stderr",
     "output_type": "stream",
     "text": [
      "[2022-10-12 13:47:16]>INFO>Generate set of source vertices of 100 nodes for graph=<networkx.classes.multidigraph.MultiDiGraph object at 0x7f14395abd00> for multiple-source evaluation\n"
     ]
    },
    {
     "name": "stdout",
     "output_type": "stream",
     "text": [
      "(0.040596421601367186, 0.0046684356032109025)\n",
      "********** Start size #100 **********\n",
      "by_tensor_cuda (0.02311314639955526, 0.00016989217537472117)\n",
      "by_bfs_each_cuda "
     ]
    },
    {
     "name": "stderr",
     "output_type": "stream",
     "text": [
      "[2022-10-12 13:47:17]>INFO>Generate set of source vertices of 200 nodes for graph=<networkx.classes.multidigraph.MultiDiGraph object at 0x7f14395abd00> for multiple-source evaluation\n"
     ]
    },
    {
     "name": "stdout",
     "output_type": "stream",
     "text": [
      "(0.05516193660005229, 0.00026245259772304986)\n",
      "********** Start size #200 **********\n",
      "by_tensor_cuda (0.021877819600194925, 0.00014769684706757876)\n",
      "by_bfs_each_cuda "
     ]
    },
    {
     "name": "stderr",
     "output_type": "stream",
     "text": [
      "[2022-10-12 13:47:17]>INFO>Generate set of source vertices of 50 nodes for graph=<networkx.classes.multidigraph.MultiDiGraph object at 0x7f14395abd00> for multiple-source evaluation\n"
     ]
    },
    {
     "name": "stdout",
     "output_type": "stream",
     "text": [
      "(0.08987592340054107, 0.004746576886530927)\n",
      "========== Regex #4 ==========\n",
      "********** Start size #50 **********\n",
      "by_tensor_cuda (0.02350677020076546, 0.00011321784814558608)\n",
      "by_bfs_each_cuda "
     ]
    },
    {
     "name": "stderr",
     "output_type": "stream",
     "text": [
      "[2022-10-12 13:47:18]>INFO>Generate set of source vertices of 100 nodes for graph=<networkx.classes.multidigraph.MultiDiGraph object at 0x7f14395abd00> for multiple-source evaluation\n"
     ]
    },
    {
     "name": "stdout",
     "output_type": "stream",
     "text": [
      "(0.04061761079938151, 0.00275824389401717)\n",
      "********** Start size #100 **********\n",
      "by_tensor_cuda (0.023680305600282735, 0.000146432826401993)\n",
      "by_bfs_each_cuda "
     ]
    },
    {
     "name": "stderr",
     "output_type": "stream",
     "text": [
      "[2022-10-12 13:47:18]>INFO>Generate set of source vertices of 200 nodes for graph=<networkx.classes.multidigraph.MultiDiGraph object at 0x7f14395abd00> for multiple-source evaluation\n"
     ]
    },
    {
     "name": "stdout",
     "output_type": "stream",
     "text": [
      "(0.05791348540005856, 0.004824576041203584)\n",
      "********** Start size #200 **********\n",
      "by_tensor_cuda (0.022382871599984356, 0.0001559971744642338)\n",
      "by_bfs_each_cuda "
     ]
    },
    {
     "name": "stderr",
     "output_type": "stream",
     "text": [
      "[2022-10-12 13:47:19]>INFO>Generate set of source vertices of 50 nodes for graph=<networkx.classes.multidigraph.MultiDiGraph object at 0x7f14379edf00> for multiple-source evaluation\n"
     ]
    },
    {
     "name": "stdout",
     "output_type": "stream",
     "text": [
      "(0.09054364479961804, 0.004452060802678431)\n",
      "########## Graph bzip (3 / 10, run times = 5) ##########\n",
      "========== Regex #1 ==========\n",
      "********** Start size #50 **********\n",
      "by_tensor_cuda (0.049262431399984055, 0.0006562979021407962)\n",
      "by_bfs_each_cuda "
     ]
    },
    {
     "name": "stderr",
     "output_type": "stream",
     "text": [
      "[2022-10-12 13:47:19]>INFO>Generate set of source vertices of 100 nodes for graph=<networkx.classes.multidigraph.MultiDiGraph object at 0x7f14379edf00> for multiple-source evaluation\n"
     ]
    },
    {
     "name": "stdout",
     "output_type": "stream",
     "text": [
      "(0.06457088000097429, 0.0009795323138948597)\n",
      "********** Start size #100 **********\n",
      "by_tensor_cuda (0.04917674960161093, 0.0007597671760806757)\n",
      "by_bfs_each_cuda "
     ]
    },
    {
     "name": "stderr",
     "output_type": "stream",
     "text": [
      "[2022-10-12 13:47:20]>INFO>Generate set of source vertices of 200 nodes for graph=<networkx.classes.multidigraph.MultiDiGraph object at 0x7f14379edf00> for multiple-source evaluation\n"
     ]
    },
    {
     "name": "stdout",
     "output_type": "stream",
     "text": [
      "(0.08341419620046508, 0.004430441910771702)\n",
      "********** Start size #200 **********\n",
      "by_tensor_cuda (0.04924087579929619, 0.00036399558079743184)\n",
      "by_bfs_each_cuda "
     ]
    },
    {
     "name": "stderr",
     "output_type": "stream",
     "text": [
      "[2022-10-12 13:47:21]>INFO>Generate set of source vertices of 400 nodes for graph=<networkx.classes.multidigraph.MultiDiGraph object at 0x7f14379edf00> for multiple-source evaluation\n"
     ]
    },
    {
     "name": "stdout",
     "output_type": "stream",
     "text": [
      "(0.11724931880016812, 0.004118331742848229)\n",
      "********** Start size #400 **********\n",
      "by_tensor_cuda (0.04936033959966153, 0.0004573991385018162)\n",
      "by_bfs_each_cuda "
     ]
    },
    {
     "name": "stderr",
     "output_type": "stream",
     "text": [
      "[2022-10-12 13:47:22]>INFO>Generate set of source vertices of 50 nodes for graph=<networkx.classes.multidigraph.MultiDiGraph object at 0x7f14379edf00> for multiple-source evaluation\n"
     ]
    },
    {
     "name": "stdout",
     "output_type": "stream",
     "text": [
      "(0.18751750179872034, 0.001159009821240717)\n",
      "========== Regex #2 ==========\n",
      "********** Start size #50 **********\n",
      "by_tensor_cuda (0.04977266780042555, 0.0006602031821142125)\n",
      "by_bfs_each_cuda "
     ]
    },
    {
     "name": "stderr",
     "output_type": "stream",
     "text": [
      "[2022-10-12 13:47:22]>INFO>Generate set of source vertices of 100 nodes for graph=<networkx.classes.multidigraph.MultiDiGraph object at 0x7f14379edf00> for multiple-source evaluation\n"
     ]
    },
    {
     "name": "stdout",
     "output_type": "stream",
     "text": [
      "(0.0653140619993792, 0.0003682041152819519)\n",
      "********** Start size #100 **********\n",
      "by_tensor_cuda (0.05021676300020772, 0.0007340791592266478)\n",
      "by_bfs_each_cuda "
     ]
    },
    {
     "name": "stderr",
     "output_type": "stream",
     "text": [
      "[2022-10-12 13:47:23]>INFO>Generate set of source vertices of 200 nodes for graph=<networkx.classes.multidigraph.MultiDiGraph object at 0x7f14379edf00> for multiple-source evaluation\n"
     ]
    },
    {
     "name": "stdout",
     "output_type": "stream",
     "text": [
      "(0.0833265389999724, 0.004518372513842765)\n",
      "********** Start size #200 **********\n",
      "by_tensor_cuda (0.04963372940037516, 0.0003583353171908979)\n",
      "by_bfs_each_cuda "
     ]
    },
    {
     "name": "stderr",
     "output_type": "stream",
     "text": [
      "[2022-10-12 13:47:24]>INFO>Generate set of source vertices of 400 nodes for graph=<networkx.classes.multidigraph.MultiDiGraph object at 0x7f14379edf00> for multiple-source evaluation\n"
     ]
    },
    {
     "name": "stdout",
     "output_type": "stream",
     "text": [
      "(0.11535201899969252, 0.0009429441895483845)\n",
      "********** Start size #400 **********\n",
      "by_tensor_cuda (0.04927310400089482, 0.00037251988584326065)\n",
      "by_bfs_each_cuda "
     ]
    },
    {
     "name": "stderr",
     "output_type": "stream",
     "text": [
      "[2022-10-12 13:47:25]>INFO>Generate set of source vertices of 50 nodes for graph=<networkx.classes.multidigraph.MultiDiGraph object at 0x7f14379edf00> for multiple-source evaluation\n"
     ]
    },
    {
     "name": "stdout",
     "output_type": "stream",
     "text": [
      "(0.187636457599001, 0.0011082765935682916)\n",
      "========== Regex #3 ==========\n",
      "********** Start size #50 **********\n",
      "by_tensor_cuda (0.05031395140031236, 0.0008462681946292961)\n",
      "by_bfs_each_cuda "
     ]
    },
    {
     "name": "stderr",
     "output_type": "stream",
     "text": [
      "[2022-10-12 13:47:26]>INFO>Generate set of source vertices of 100 nodes for graph=<networkx.classes.multidigraph.MultiDiGraph object at 0x7f14379edf00> for multiple-source evaluation\n"
     ]
    },
    {
     "name": "stdout",
     "output_type": "stream",
     "text": [
      "(0.06488049819890876, 0.0006542987998943772)\n",
      "********** Start size #100 **********\n",
      "by_tensor_cuda (0.05055919900041772, 0.000767033993681573)\n",
      "by_bfs_each_cuda "
     ]
    },
    {
     "name": "stderr",
     "output_type": "stream",
     "text": [
      "[2022-10-12 13:47:26]>INFO>Generate set of source vertices of 200 nodes for graph=<networkx.classes.multidigraph.MultiDiGraph object at 0x7f14379edf00> for multiple-source evaluation\n"
     ]
    },
    {
     "name": "stdout",
     "output_type": "stream",
     "text": [
      "(0.0834665521993884, 0.004013099982812212)\n",
      "********** Start size #200 **********\n",
      "by_tensor_cuda (0.049951066000357966, 0.0005220224150958113)\n",
      "by_bfs_each_cuda "
     ]
    },
    {
     "name": "stderr",
     "output_type": "stream",
     "text": [
      "[2022-10-12 13:47:27]>INFO>Generate set of source vertices of 400 nodes for graph=<networkx.classes.multidigraph.MultiDiGraph object at 0x7f14379edf00> for multiple-source evaluation\n"
     ]
    },
    {
     "name": "stdout",
     "output_type": "stream",
     "text": [
      "(0.11651198999898042, 0.002813611578399485)\n",
      "********** Start size #400 **********\n",
      "by_tensor_cuda (0.05016852820044733, 0.0005600462137753141)\n",
      "by_bfs_each_cuda "
     ]
    },
    {
     "name": "stderr",
     "output_type": "stream",
     "text": [
      "[2022-10-12 13:47:28]>INFO>Generate set of source vertices of 50 nodes for graph=<networkx.classes.multidigraph.MultiDiGraph object at 0x7f14379edf00> for multiple-source evaluation\n"
     ]
    },
    {
     "name": "stdout",
     "output_type": "stream",
     "text": [
      "(0.1883135720003338, 0.0005301177693889982)\n",
      "========== Regex #4 ==========\n",
      "********** Start size #50 **********\n",
      "by_tensor_cuda (0.05076354439952411, 0.0008681914395080222)\n",
      "by_bfs_each_cuda "
     ]
    },
    {
     "name": "stderr",
     "output_type": "stream",
     "text": [
      "[2022-10-12 13:47:29]>INFO>Generate set of source vertices of 100 nodes for graph=<networkx.classes.multidigraph.MultiDiGraph object at 0x7f14379edf00> for multiple-source evaluation\n"
     ]
    },
    {
     "name": "stdout",
     "output_type": "stream",
     "text": [
      "(0.06507453480007826, 0.0005519728647306445)\n",
      "********** Start size #100 **********\n",
      "by_tensor_cuda (0.05018547099971329, 0.0008397411517148535)\n",
      "by_bfs_each_cuda "
     ]
    },
    {
     "name": "stderr",
     "output_type": "stream",
     "text": [
      "[2022-10-12 13:47:30]>INFO>Generate set of source vertices of 200 nodes for graph=<networkx.classes.multidigraph.MultiDiGraph object at 0x7f14379edf00> for multiple-source evaluation\n"
     ]
    },
    {
     "name": "stdout",
     "output_type": "stream",
     "text": [
      "(0.08362056459955056, 0.00430553338031779)\n",
      "********** Start size #200 **********\n",
      "by_tensor_cuda (0.05021694479873986, 0.00048031713058832945)\n",
      "by_bfs_each_cuda "
     ]
    },
    {
     "name": "stderr",
     "output_type": "stream",
     "text": [
      "[2022-10-12 13:47:30]>INFO>Generate set of source vertices of 400 nodes for graph=<networkx.classes.multidigraph.MultiDiGraph object at 0x7f14379edf00> for multiple-source evaluation\n"
     ]
    },
    {
     "name": "stdout",
     "output_type": "stream",
     "text": [
      "(0.11786589960029233, 0.0034316060403536165)\n",
      "********** Start size #400 **********\n",
      "by_tensor_cuda (0.04966217359979055, 0.0011784710887009669)\n",
      "by_bfs_each_cuda "
     ]
    },
    {
     "name": "stderr",
     "output_type": "stream",
     "text": [
      "[2022-10-12 13:47:32]>INFO>Generate set of source vertices of 50 nodes for graph=<networkx.classes.multidigraph.MultiDiGraph object at 0x7f14379ecbe0> for multiple-source evaluation\n"
     ]
    },
    {
     "name": "stdout",
     "output_type": "stream",
     "text": [
      "(0.1881541565999214, 0.0006784650928532441)\n",
      "########## Graph pr (4 / 10, run times = 5) ##########\n",
      "========== Regex #1 ==========\n",
      "********** Start size #50 **********\n",
      "by_tensor_cuda (0.07679505099949893, 0.0006855971038983128)\n",
      "by_bfs_each_cuda "
     ]
    },
    {
     "name": "stderr",
     "output_type": "stream",
     "text": [
      "[2022-10-12 13:47:32]>INFO>Generate set of source vertices of 100 nodes for graph=<networkx.classes.multidigraph.MultiDiGraph object at 0x7f14379ecbe0> for multiple-source evaluation\n"
     ]
    },
    {
     "name": "stdout",
     "output_type": "stream",
     "text": [
      "(0.09179296840011375, 0.0007624962408961847)\n",
      "********** Start size #100 **********\n",
      "by_tensor_cuda (0.07654852179985028, 0.0006566105816265176)\n",
      "by_bfs_each_cuda "
     ]
    },
    {
     "name": "stderr",
     "output_type": "stream",
     "text": [
      "[2022-10-12 13:47:33]>INFO>Generate set of source vertices of 200 nodes for graph=<networkx.classes.multidigraph.MultiDiGraph object at 0x7f14379ecbe0> for multiple-source evaluation\n"
     ]
    },
    {
     "name": "stdout",
     "output_type": "stream",
     "text": [
      "(0.10854355600022245, 0.000531621684491554)\n",
      "********** Start size #200 **********\n",
      "by_tensor_cuda (0.0764426009998715, 0.0008960540915881675)\n",
      "by_bfs_each_cuda "
     ]
    },
    {
     "name": "stderr",
     "output_type": "stream",
     "text": [
      "[2022-10-12 13:47:34]>INFO>Generate set of source vertices of 400 nodes for graph=<networkx.classes.multidigraph.MultiDiGraph object at 0x7f14379ecbe0> for multiple-source evaluation\n"
     ]
    },
    {
     "name": "stdout",
     "output_type": "stream",
     "text": [
      "(0.14368125520049943, 0.004531394671050785)\n",
      "********** Start size #400 **********\n",
      "by_tensor_cuda (0.07839087079919409, 0.0008219402565525504)\n",
      "by_bfs_each_cuda "
     ]
    },
    {
     "name": "stderr",
     "output_type": "stream",
     "text": [
      "[2022-10-12 13:47:36]>INFO>Generate set of source vertices of 800 nodes for graph=<networkx.classes.multidigraph.MultiDiGraph object at 0x7f14379ecbe0> for multiple-source evaluation\n"
     ]
    },
    {
     "name": "stdout",
     "output_type": "stream",
     "text": [
      "(0.2155700071991305, 0.0007554118443553301)\n",
      "********** Start size #800 **********\n",
      "by_tensor_cuda (0.07968164939884445, 0.0007316211731304743)\n",
      "by_bfs_each_cuda "
     ]
    },
    {
     "name": "stderr",
     "output_type": "stream",
     "text": [
      "[2022-10-12 13:47:38]>INFO>Generate set of source vertices of 50 nodes for graph=<networkx.classes.multidigraph.MultiDiGraph object at 0x7f14379ecbe0> for multiple-source evaluation\n"
     ]
    },
    {
     "name": "stdout",
     "output_type": "stream",
     "text": [
      "(0.3774763828005234, 0.005284173846647037)\n",
      "========== Regex #2 ==========\n",
      "********** Start size #50 **********\n",
      "by_tensor_cuda (0.07806875619789935, 0.0009203402822308927)\n",
      "by_bfs_each_cuda "
     ]
    },
    {
     "name": "stderr",
     "output_type": "stream",
     "text": [
      "[2022-10-12 13:47:39]>INFO>Generate set of source vertices of 100 nodes for graph=<networkx.classes.multidigraph.MultiDiGraph object at 0x7f14379ecbe0> for multiple-source evaluation\n"
     ]
    },
    {
     "name": "stdout",
     "output_type": "stream",
     "text": [
      "(0.09202827800036176, 0.0007207049676898513)\n",
      "********** Start size #100 **********\n",
      "by_tensor_cuda (0.07732148180002696, 0.0008954110433650819)\n",
      "by_bfs_each_cuda "
     ]
    },
    {
     "name": "stderr",
     "output_type": "stream",
     "text": [
      "[2022-10-12 13:47:40]>INFO>Generate set of source vertices of 200 nodes for graph=<networkx.classes.multidigraph.MultiDiGraph object at 0x7f14379ecbe0> for multiple-source evaluation\n"
     ]
    },
    {
     "name": "stdout",
     "output_type": "stream",
     "text": [
      "(0.10810095619963249, 0.0003513307685166908)\n",
      "********** Start size #200 **********\n",
      "by_tensor_cuda (0.07704865840059938, 0.0008069511552891329)\n",
      "by_bfs_each_cuda "
     ]
    },
    {
     "name": "stderr",
     "output_type": "stream",
     "text": [
      "[2022-10-12 13:47:41]>INFO>Generate set of source vertices of 400 nodes for graph=<networkx.classes.multidigraph.MultiDiGraph object at 0x7f14379ecbe0> for multiple-source evaluation\n"
     ]
    },
    {
     "name": "stdout",
     "output_type": "stream",
     "text": [
      "(0.14371194679988547, 0.0046020697892081765)\n",
      "********** Start size #400 **********\n",
      "by_tensor_cuda (0.07909143779979785, 0.0009061074598878192)\n",
      "by_bfs_each_cuda "
     ]
    },
    {
     "name": "stderr",
     "output_type": "stream",
     "text": [
      "[2022-10-12 13:47:43]>INFO>Generate set of source vertices of 800 nodes for graph=<networkx.classes.multidigraph.MultiDiGraph object at 0x7f14379ecbe0> for multiple-source evaluation\n"
     ]
    },
    {
     "name": "stdout",
     "output_type": "stream",
     "text": [
      "(0.2155076712006121, 0.0008942015283479603)\n",
      "********** Start size #800 **********\n",
      "by_tensor_cuda (0.07998805759998504, 0.0006894343019280409)\n",
      "by_bfs_each_cuda "
     ]
    },
    {
     "name": "stderr",
     "output_type": "stream",
     "text": [
      "[2022-10-12 13:47:45]>INFO>Generate set of source vertices of 50 nodes for graph=<networkx.classes.multidigraph.MultiDiGraph object at 0x7f14379ecbe0> for multiple-source evaluation\n"
     ]
    },
    {
     "name": "stdout",
     "output_type": "stream",
     "text": [
      "(0.3782897999997658, 0.005112166176988637)\n",
      "========== Regex #3 ==========\n",
      "********** Start size #50 **********\n",
      "by_tensor_cuda (0.07814209880016279, 0.0009043819238002698)\n",
      "by_bfs_each_cuda "
     ]
    },
    {
     "name": "stderr",
     "output_type": "stream",
     "text": [
      "[2022-10-12 13:47:46]>INFO>Generate set of source vertices of 100 nodes for graph=<networkx.classes.multidigraph.MultiDiGraph object at 0x7f14379ecbe0> for multiple-source evaluation\n"
     ]
    },
    {
     "name": "stdout",
     "output_type": "stream",
     "text": [
      "(0.09227229059906676, 0.0011820340573782263)\n",
      "********** Start size #100 **********\n",
      "by_tensor_cuda (0.07731308180082123, 0.0008932300341837566)\n",
      "by_bfs_each_cuda "
     ]
    },
    {
     "name": "stderr",
     "output_type": "stream",
     "text": [
      "[2022-10-12 13:47:47]>INFO>Generate set of source vertices of 200 nodes for graph=<networkx.classes.multidigraph.MultiDiGraph object at 0x7f14379ecbe0> for multiple-source evaluation\n"
     ]
    },
    {
     "name": "stdout",
     "output_type": "stream",
     "text": [
      "(0.10816540960004203, 0.0003073953060251078)\n",
      "********** Start size #200 **********\n",
      "by_tensor_cuda (0.0774374100001296, 0.0012307835392367933)\n",
      "by_bfs_each_cuda "
     ]
    },
    {
     "name": "stderr",
     "output_type": "stream",
     "text": [
      "[2022-10-12 13:47:48]>INFO>Generate set of source vertices of 400 nodes for graph=<networkx.classes.multidigraph.MultiDiGraph object at 0x7f14379ecbe0> for multiple-source evaluation\n"
     ]
    },
    {
     "name": "stdout",
     "output_type": "stream",
     "text": [
      "(0.1440720628001145, 0.004172881171719186)\n",
      "********** Start size #400 **********\n",
      "by_tensor_cuda (0.07946261379911448, 0.0008754421935133558)\n",
      "by_bfs_each_cuda "
     ]
    },
    {
     "name": "stderr",
     "output_type": "stream",
     "text": [
      "[2022-10-12 13:47:49]>INFO>Generate set of source vertices of 800 nodes for graph=<networkx.classes.multidigraph.MultiDiGraph object at 0x7f14379ecbe0> for multiple-source evaluation\n"
     ]
    },
    {
     "name": "stdout",
     "output_type": "stream",
     "text": [
      "(0.21681485459994293, 0.0008523621524128171)\n",
      "********** Start size #800 **********\n",
      "by_tensor_cuda (0.0804896863999602, 0.0007556616129066728)\n",
      "by_bfs_each_cuda "
     ]
    },
    {
     "name": "stderr",
     "output_type": "stream",
     "text": [
      "[2022-10-12 13:47:52]>INFO>Generate set of source vertices of 50 nodes for graph=<networkx.classes.multidigraph.MultiDiGraph object at 0x7f14379ecbe0> for multiple-source evaluation\n"
     ]
    },
    {
     "name": "stdout",
     "output_type": "stream",
     "text": [
      "(0.3793159421999007, 0.00477866121612876)\n",
      "========== Regex #4 ==========\n",
      "********** Start size #50 **********\n",
      "by_tensor_cuda (0.07801585380002507, 0.0009446063378140008)\n",
      "by_bfs_each_cuda "
     ]
    },
    {
     "name": "stderr",
     "output_type": "stream",
     "text": [
      "[2022-10-12 13:47:52]>INFO>Generate set of source vertices of 100 nodes for graph=<networkx.classes.multidigraph.MultiDiGraph object at 0x7f14379ecbe0> for multiple-source evaluation\n"
     ]
    },
    {
     "name": "stdout",
     "output_type": "stream",
     "text": [
      "(0.09259178700012853, 0.0004990868181427706)\n",
      "********** Start size #100 **********\n",
      "by_tensor_cuda (0.07710758120010723, 0.0009959327188006578)\n",
      "by_bfs_each_cuda "
     ]
    },
    {
     "name": "stderr",
     "output_type": "stream",
     "text": [
      "[2022-10-12 13:47:53]>INFO>Generate set of source vertices of 200 nodes for graph=<networkx.classes.multidigraph.MultiDiGraph object at 0x7f14379ecbe0> for multiple-source evaluation\n"
     ]
    },
    {
     "name": "stdout",
     "output_type": "stream",
     "text": [
      "(0.10841458639988559, 0.0007263430576378768)\n",
      "********** Start size #200 **********\n",
      "by_tensor_cuda (0.0779360186010308, 0.0008802237984028164)\n",
      "by_bfs_each_cuda "
     ]
    },
    {
     "name": "stderr",
     "output_type": "stream",
     "text": [
      "[2022-10-12 13:47:54]>INFO>Generate set of source vertices of 400 nodes for graph=<networkx.classes.multidigraph.MultiDiGraph object at 0x7f14379ecbe0> for multiple-source evaluation\n"
     ]
    },
    {
     "name": "stdout",
     "output_type": "stream",
     "text": [
      "(0.14414013999921735, 0.004281225375377749)\n",
      "********** Start size #400 **********\n",
      "by_tensor_cuda (0.07889567259990145, 0.00098917568878066)\n",
      "by_bfs_each_cuda "
     ]
    },
    {
     "name": "stderr",
     "output_type": "stream",
     "text": [
      "[2022-10-12 13:47:56]>INFO>Generate set of source vertices of 800 nodes for graph=<networkx.classes.multidigraph.MultiDiGraph object at 0x7f14379ecbe0> for multiple-source evaluation\n"
     ]
    },
    {
     "name": "stdout",
     "output_type": "stream",
     "text": [
      "(0.2164597932001925, 0.0015234028258965286)\n",
      "********** Start size #800 **********\n",
      "by_tensor_cuda (0.07999744940025266, 0.0012414794514060206)\n",
      "by_bfs_each_cuda "
     ]
    },
    {
     "name": "stderr",
     "output_type": "stream",
     "text": [
      "[2022-10-12 13:47:58]>INFO>Generate set of source vertices of 50 nodes for graph=<networkx.classes.multidigraph.MultiDiGraph object at 0x7f14379ed4b0> for multiple-source evaluation\n"
     ]
    },
    {
     "name": "stdout",
     "output_type": "stream",
     "text": [
      "(0.3789198516009492, 0.004930299980437016)\n",
      "########## Graph funding (5 / 10, run times = 5) ##########\n",
      "========== Regex #1 ==========\n",
      "********** Start size #50 **********\n",
      "by_tensor_cuda (0.11712269159979768, 0.0013301418804639179)\n",
      "by_bfs_each_cuda "
     ]
    },
    {
     "name": "stderr",
     "output_type": "stream",
     "text": [
      "[2022-10-12 13:47:59]>INFO>Generate set of source vertices of 100 nodes for graph=<networkx.classes.multidigraph.MultiDiGraph object at 0x7f14379ed4b0> for multiple-source evaluation\n"
     ]
    },
    {
     "name": "stdout",
     "output_type": "stream",
     "text": [
      "(0.13094259940116898, 0.0007885307205433003)\n",
      "********** Start size #100 **********\n",
      "by_tensor_cuda (0.11752801160037052, 0.000976725514755339)\n",
      "by_bfs_each_cuda "
     ]
    },
    {
     "name": "stderr",
     "output_type": "stream",
     "text": [
      "[2022-10-12 13:48:01]>INFO>Generate set of source vertices of 200 nodes for graph=<networkx.classes.multidigraph.MultiDiGraph object at 0x7f14379ed4b0> for multiple-source evaluation\n"
     ]
    },
    {
     "name": "stdout",
     "output_type": "stream",
     "text": [
      "(0.14848179040054674, 0.000769895266260886)\n",
      "********** Start size #200 **********\n",
      "by_tensor_cuda (0.12034746140052448, 0.0004670533695510197)\n",
      "by_bfs_each_cuda "
     ]
    },
    {
     "name": "stderr",
     "output_type": "stream",
     "text": [
      "[2022-10-12 13:48:02]>INFO>Generate set of source vertices of 400 nodes for graph=<networkx.classes.multidigraph.MultiDiGraph object at 0x7f14379ed4b0> for multiple-source evaluation\n"
     ]
    },
    {
     "name": "stdout",
     "output_type": "stream",
     "text": [
      "(0.18586770939873531, 0.0013680764661543245)\n",
      "********** Start size #400 **********\n",
      "by_tensor_cuda (0.11750209839956369, 0.001249906907406591)\n",
      "by_bfs_each_cuda "
     ]
    },
    {
     "name": "stderr",
     "output_type": "stream",
     "text": [
      "[2022-10-12 13:48:04]>INFO>Generate set of source vertices of 50 nodes for graph=<networkx.classes.multidigraph.MultiDiGraph object at 0x7f14379ed4b0> for multiple-source evaluation\n"
     ]
    },
    {
     "name": "stdout",
     "output_type": "stream",
     "text": [
      "(0.2568825090005703, 0.004779747961727899)\n",
      "========== Regex #2 ==========\n",
      "********** Start size #50 **********\n",
      "by_tensor_cuda (0.11686013899961836, 0.0014593748949585158)\n",
      "by_bfs_each_cuda "
     ]
    },
    {
     "name": "stderr",
     "output_type": "stream",
     "text": [
      "[2022-10-12 13:48:05]>INFO>Generate set of source vertices of 100 nodes for graph=<networkx.classes.multidigraph.MultiDiGraph object at 0x7f14379ed4b0> for multiple-source evaluation\n"
     ]
    },
    {
     "name": "stdout",
     "output_type": "stream",
     "text": [
      "(0.13124045119984656, 0.0004787265831467226)\n",
      "********** Start size #100 **********\n",
      "by_tensor_cuda (0.11798635980012477, 0.002155262045354764)\n",
      "by_bfs_each_cuda "
     ]
    },
    {
     "name": "stderr",
     "output_type": "stream",
     "text": [
      "[2022-10-12 13:48:07]>INFO>Generate set of source vertices of 200 nodes for graph=<networkx.classes.multidigraph.MultiDiGraph object at 0x7f14379ed4b0> for multiple-source evaluation\n"
     ]
    },
    {
     "name": "stdout",
     "output_type": "stream",
     "text": [
      "(0.14843595639904378, 0.0010350635040274508)\n",
      "********** Start size #200 **********\n",
      "by_tensor_cuda (0.12107615659988369, 0.0016796103541878258)\n",
      "by_bfs_each_cuda "
     ]
    },
    {
     "name": "stderr",
     "output_type": "stream",
     "text": [
      "[2022-10-12 13:48:08]>INFO>Generate set of source vertices of 400 nodes for graph=<networkx.classes.multidigraph.MultiDiGraph object at 0x7f14379ed4b0> for multiple-source evaluation\n"
     ]
    },
    {
     "name": "stdout",
     "output_type": "stream",
     "text": [
      "(0.18651311399953557, 0.0009321376421923175)\n",
      "********** Start size #400 **********\n",
      "by_tensor_cuda (0.12299214060039958, 0.005709737346495938)\n",
      "by_bfs_each_cuda "
     ]
    },
    {
     "name": "stderr",
     "output_type": "stream",
     "text": [
      "[2022-10-12 13:48:10]>INFO>Generate set of source vertices of 50 nodes for graph=<networkx.classes.multidigraph.MultiDiGraph object at 0x7f14379ed4b0> for multiple-source evaluation\n"
     ]
    },
    {
     "name": "stdout",
     "output_type": "stream",
     "text": [
      "(0.25706306679931, 0.004917619904083416)\n",
      "========== Regex #3 ==========\n",
      "********** Start size #50 **********\n",
      "by_tensor_cuda (0.11726689420029288, 0.0010937904644717927)\n",
      "by_bfs_each_cuda "
     ]
    },
    {
     "name": "stderr",
     "output_type": "stream",
     "text": [
      "[2022-10-12 13:48:11]>INFO>Generate set of source vertices of 100 nodes for graph=<networkx.classes.multidigraph.MultiDiGraph object at 0x7f14379ed4b0> for multiple-source evaluation\n"
     ]
    },
    {
     "name": "stdout",
     "output_type": "stream",
     "text": [
      "(0.13111371580016568, 0.0007062051999856277)\n",
      "********** Start size #100 **********\n",
      "by_tensor_cuda (0.11838031000079355, 0.0015062666630960711)\n",
      "by_bfs_each_cuda "
     ]
    },
    {
     "name": "stderr",
     "output_type": "stream",
     "text": [
      "[2022-10-12 13:48:13]>INFO>Generate set of source vertices of 200 nodes for graph=<networkx.classes.multidigraph.MultiDiGraph object at 0x7f14379ed4b0> for multiple-source evaluation\n"
     ]
    },
    {
     "name": "stdout",
     "output_type": "stream",
     "text": [
      "(0.1491388181988441, 0.0011269236778962415)\n",
      "********** Start size #200 **********\n",
      "by_tensor_cuda (0.12149471680022543, 0.001131743419050694)\n",
      "by_bfs_each_cuda "
     ]
    },
    {
     "name": "stderr",
     "output_type": "stream",
     "text": [
      "[2022-10-12 13:48:14]>INFO>Generate set of source vertices of 400 nodes for graph=<networkx.classes.multidigraph.MultiDiGraph object at 0x7f14379ed4b0> for multiple-source evaluation\n"
     ]
    },
    {
     "name": "stdout",
     "output_type": "stream",
     "text": [
      "(0.18640728460013634, 0.0009712861170705317)\n",
      "********** Start size #400 **********\n",
      "by_tensor_cuda (0.1184909770003287, 0.0008851007201102869)\n",
      "by_bfs_each_cuda "
     ]
    },
    {
     "name": "stderr",
     "output_type": "stream",
     "text": [
      "[2022-10-12 13:48:16]>INFO>Generate set of source vertices of 50 nodes for graph=<networkx.classes.multidigraph.MultiDiGraph object at 0x7f14379ed4b0> for multiple-source evaluation\n"
     ]
    },
    {
     "name": "stdout",
     "output_type": "stream",
     "text": [
      "(0.25672628820029786, 0.004957610065133701)\n",
      "========== Regex #4 ==========\n",
      "********** Start size #50 **********\n",
      "by_tensor_cuda (0.11725460999950883, 0.0009853604816528253)\n",
      "by_bfs_each_cuda "
     ]
    },
    {
     "name": "stderr",
     "output_type": "stream",
     "text": [
      "[2022-10-12 13:48:17]>INFO>Generate set of source vertices of 100 nodes for graph=<networkx.classes.multidigraph.MultiDiGraph object at 0x7f14379ed4b0> for multiple-source evaluation\n"
     ]
    },
    {
     "name": "stdout",
     "output_type": "stream",
     "text": [
      "(0.1324920014005329, 0.0009714376381203639)\n",
      "********** Start size #100 **********\n",
      "by_tensor_cuda (0.11839814299964928, 0.001160095485337759)\n",
      "by_bfs_each_cuda "
     ]
    },
    {
     "name": "stderr",
     "output_type": "stream",
     "text": [
      "[2022-10-12 13:48:19]>INFO>Generate set of source vertices of 200 nodes for graph=<networkx.classes.multidigraph.MultiDiGraph object at 0x7f14379ed4b0> for multiple-source evaluation\n"
     ]
    },
    {
     "name": "stdout",
     "output_type": "stream",
     "text": [
      "(0.1492318274002173, 0.0006129430978123628)\n",
      "********** Start size #200 **********\n",
      "by_tensor_cuda (0.12129088000001502, 0.0010223261633577978)\n",
      "by_bfs_each_cuda "
     ]
    },
    {
     "name": "stderr",
     "output_type": "stream",
     "text": [
      "[2022-10-12 13:48:20]>INFO>Generate set of source vertices of 400 nodes for graph=<networkx.classes.multidigraph.MultiDiGraph object at 0x7f14379ed4b0> for multiple-source evaluation\n"
     ]
    },
    {
     "name": "stdout",
     "output_type": "stream",
     "text": [
      "(0.18613066959951538, 0.0011921736284260318)\n",
      "********** Start size #400 **********\n",
      "by_tensor_cuda (0.11870289159996901, 0.0012412803041154546)\n",
      "by_bfs_each_cuda "
     ]
    },
    {
     "name": "stderr",
     "output_type": "stream",
     "text": [
      "[2022-10-12 13:48:22]>INFO>Generate set of source vertices of 50 nodes for graph=<networkx.classes.multidigraph.MultiDiGraph object at 0x7f14379ed690> for multiple-source evaluation\n"
     ]
    },
    {
     "name": "stdout",
     "output_type": "stream",
     "text": [
      "(0.2579196048005542, 0.004554292092347199)\n",
      "########## Graph ls (6 / 10, run times = 5) ##########\n",
      "========== Regex #1 ==========\n",
      "********** Start size #50 **********\n",
      "by_tensor_cuda (0.3047539587991196, 0.005874514023891239)\n",
      "by_bfs_each_cuda "
     ]
    },
    {
     "name": "stderr",
     "output_type": "stream",
     "text": [
      "[2022-10-12 13:48:25]>INFO>Generate set of source vertices of 100 nodes for graph=<networkx.classes.multidigraph.MultiDiGraph object at 0x7f14379ed690> for multiple-source evaluation\n"
     ]
    },
    {
     "name": "stdout",
     "output_type": "stream",
     "text": [
      "(0.31659687599967584, 0.003112831833919363)\n",
      "********** Start size #100 **********\n",
      "by_tensor_cuda (0.3056014124005742, 0.004608654379868143)\n",
      "by_bfs_each_cuda "
     ]
    },
    {
     "name": "stderr",
     "output_type": "stream",
     "text": [
      "[2022-10-12 13:48:28]>INFO>Generate set of source vertices of 200 nodes for graph=<networkx.classes.multidigraph.MultiDiGraph object at 0x7f14379ed690> for multiple-source evaluation\n"
     ]
    },
    {
     "name": "stdout",
     "output_type": "stream",
     "text": [
      "(0.332883854200918, 0.00263052194776271)\n",
      "********** Start size #200 **********\n",
      "by_tensor_cuda (0.3047621195997635, 0.006340251606578881)\n",
      "by_bfs_each_cuda "
     ]
    },
    {
     "name": "stderr",
     "output_type": "stream",
     "text": [
      "[2022-10-12 13:48:32]>INFO>Generate set of source vertices of 400 nodes for graph=<networkx.classes.multidigraph.MultiDiGraph object at 0x7f14379ed690> for multiple-source evaluation\n"
     ]
    },
    {
     "name": "stdout",
     "output_type": "stream",
     "text": [
      "(0.3668079917988507, 0.005219124242741209)\n",
      "********** Start size #400 **********\n",
      "by_tensor_cuda (0.30444038559944603, 0.004485492011877552)\n",
      "by_bfs_each_cuda "
     ]
    },
    {
     "name": "stderr",
     "output_type": "stream",
     "text": [
      "[2022-10-12 13:48:36]>INFO>Generate set of source vertices of 800 nodes for graph=<networkx.classes.multidigraph.MultiDiGraph object at 0x7f14379ed690> for multiple-source evaluation\n"
     ]
    },
    {
     "name": "stdout",
     "output_type": "stream",
     "text": [
      "(0.43914243019971766, 0.004296962140647055)\n",
      "********** Start size #800 **********\n",
      "by_tensor_cuda (0.2995480558005511, 0.005785222934980492)\n",
      "by_bfs_each_cuda "
     ]
    },
    {
     "name": "stderr",
     "output_type": "stream",
     "text": [
      "[2022-10-12 13:48:40]>INFO>Generate set of source vertices of 1500 nodes for graph=<networkx.classes.multidigraph.MultiDiGraph object at 0x7f14379ed690> for multiple-source evaluation\n"
     ]
    },
    {
     "name": "stdout",
     "output_type": "stream",
     "text": [
      "(0.5942376390004938, 0.004053306223666637)\n",
      "********** Start size #1500 **********\n",
      "by_tensor_cuda (0.30571254559836236, 0.004783433233226578)\n",
      "by_bfs_each_cuda "
     ]
    },
    {
     "name": "stderr",
     "output_type": "stream",
     "text": [
      "[2022-10-12 13:48:46]>INFO>Generate set of source vertices of 50 nodes for graph=<networkx.classes.multidigraph.MultiDiGraph object at 0x7f14379ed690> for multiple-source evaluation\n"
     ]
    },
    {
     "name": "stdout",
     "output_type": "stream",
     "text": [
      "(0.9242929351996281, 0.002525891385597383)\n",
      "========== Regex #2 ==========\n",
      "********** Start size #50 **********\n",
      "by_tensor_cuda (0.30496307499925024, 0.005799954628587934)\n",
      "by_bfs_each_cuda "
     ]
    },
    {
     "name": "stderr",
     "output_type": "stream",
     "text": [
      "[2022-10-12 13:48:49]>INFO>Generate set of source vertices of 100 nodes for graph=<networkx.classes.multidigraph.MultiDiGraph object at 0x7f14379ed690> for multiple-source evaluation\n"
     ]
    },
    {
     "name": "stdout",
     "output_type": "stream",
     "text": [
      "(0.3188118904006842, 0.003833634299709188)\n",
      "********** Start size #100 **********\n",
      "by_tensor_cuda (0.30351106699963565, 0.007410229927508127)\n",
      "by_bfs_each_cuda "
     ]
    },
    {
     "name": "stderr",
     "output_type": "stream",
     "text": [
      "[2022-10-12 13:48:52]>INFO>Generate set of source vertices of 200 nodes for graph=<networkx.classes.multidigraph.MultiDiGraph object at 0x7f14379ed690> for multiple-source evaluation\n"
     ]
    },
    {
     "name": "stdout",
     "output_type": "stream",
     "text": [
      "(0.33322627379966435, 0.005129776202602437)\n",
      "********** Start size #200 **********\n",
      "by_tensor_cuda (0.30352636259922294, 0.007154801048067815)\n",
      "by_bfs_each_cuda "
     ]
    },
    {
     "name": "stderr",
     "output_type": "stream",
     "text": [
      "[2022-10-12 13:48:56]>INFO>Generate set of source vertices of 400 nodes for graph=<networkx.classes.multidigraph.MultiDiGraph object at 0x7f14379ed690> for multiple-source evaluation\n"
     ]
    },
    {
     "name": "stdout",
     "output_type": "stream",
     "text": [
      "(0.36832338379972496, 0.00657332216776043)\n",
      "********** Start size #400 **********\n",
      "by_tensor_cuda (0.3022073023988924, 0.006642784742762827)\n",
      "by_bfs_each_cuda "
     ]
    },
    {
     "name": "stderr",
     "output_type": "stream",
     "text": [
      "[2022-10-12 13:49:00]>INFO>Generate set of source vertices of 800 nodes for graph=<networkx.classes.multidigraph.MultiDiGraph object at 0x7f14379ed690> for multiple-source evaluation\n"
     ]
    },
    {
     "name": "stdout",
     "output_type": "stream",
     "text": [
      "(0.44255112340179037, 0.0015777958523133027)\n",
      "********** Start size #800 **********\n",
      "by_tensor_cuda (0.30133566919976146, 0.005933927034179571)\n",
      "by_bfs_each_cuda "
     ]
    },
    {
     "name": "stderr",
     "output_type": "stream",
     "text": [
      "[2022-10-12 13:49:04]>INFO>Generate set of source vertices of 1500 nodes for graph=<networkx.classes.multidigraph.MultiDiGraph object at 0x7f14379ed690> for multiple-source evaluation\n"
     ]
    },
    {
     "name": "stdout",
     "output_type": "stream",
     "text": [
      "(0.595798046800337, 0.003844617953906068)\n",
      "********** Start size #1500 **********\n",
      "by_tensor_cuda (0.3083028897999611, 0.006766662348036098)\n",
      "by_bfs_each_cuda "
     ]
    },
    {
     "name": "stderr",
     "output_type": "stream",
     "text": [
      "[2022-10-12 13:49:10]>INFO>Generate set of source vertices of 50 nodes for graph=<networkx.classes.multidigraph.MultiDiGraph object at 0x7f14379ed690> for multiple-source evaluation\n"
     ]
    },
    {
     "name": "stdout",
     "output_type": "stream",
     "text": [
      "(0.9281670474003476, 0.0080427015216407)\n",
      "========== Regex #3 ==========\n",
      "********** Start size #50 **********\n",
      "by_tensor_cuda (0.3104513680009404, 0.011423094701193312)\n",
      "by_bfs_each_cuda "
     ]
    },
    {
     "name": "stderr",
     "output_type": "stream",
     "text": [
      "[2022-10-12 13:49:13]>INFO>Generate set of source vertices of 100 nodes for graph=<networkx.classes.multidigraph.MultiDiGraph object at 0x7f14379ed690> for multiple-source evaluation\n"
     ]
    },
    {
     "name": "stdout",
     "output_type": "stream",
     "text": [
      "(0.31751233100076204, 0.005105426512921296)\n",
      "********** Start size #100 **********\n",
      "by_tensor_cuda (0.30513581779887317, 0.007410186523624627)\n",
      "by_bfs_each_cuda "
     ]
    },
    {
     "name": "stderr",
     "output_type": "stream",
     "text": [
      "[2022-10-12 13:49:17]>INFO>Generate set of source vertices of 200 nodes for graph=<networkx.classes.multidigraph.MultiDiGraph object at 0x7f14379ed690> for multiple-source evaluation\n"
     ]
    },
    {
     "name": "stdout",
     "output_type": "stream",
     "text": [
      "(0.3326441393990535, 0.004185866202631905)\n",
      "********** Start size #200 **********\n",
      "by_tensor_cuda (0.3057097837991023, 0.007403740525967538)\n",
      "by_bfs_each_cuda "
     ]
    },
    {
     "name": "stderr",
     "output_type": "stream",
     "text": [
      "[2022-10-12 13:49:20]>INFO>Generate set of source vertices of 400 nodes for graph=<networkx.classes.multidigraph.MultiDiGraph object at 0x7f14379ed690> for multiple-source evaluation\n"
     ]
    },
    {
     "name": "stdout",
     "output_type": "stream",
     "text": [
      "(0.36956618199983493, 0.003658525075734502)\n",
      "********** Start size #400 **********\n",
      "by_tensor_cuda (0.3055966615997022, 0.005958990540607901)\n",
      "by_bfs_each_cuda "
     ]
    },
    {
     "name": "stderr",
     "output_type": "stream",
     "text": [
      "[2022-10-12 13:49:24]>INFO>Generate set of source vertices of 800 nodes for graph=<networkx.classes.multidigraph.MultiDiGraph object at 0x7f14379ed690> for multiple-source evaluation\n"
     ]
    },
    {
     "name": "stdout",
     "output_type": "stream",
     "text": [
      "(0.4395558254007483, 0.0016254138669408637)\n",
      "********** Start size #800 **********\n",
      "by_tensor_cuda (0.3029863544004911, 0.0072423541045265345)\n",
      "by_bfs_each_cuda "
     ]
    },
    {
     "name": "stderr",
     "output_type": "stream",
     "text": [
      "[2022-10-12 13:49:28]>INFO>Generate set of source vertices of 1500 nodes for graph=<networkx.classes.multidigraph.MultiDiGraph object at 0x7f14379ed690> for multiple-source evaluation\n"
     ]
    },
    {
     "name": "stdout",
     "output_type": "stream",
     "text": [
      "(0.59325811759918, 0.0041549287162814495)\n",
      "********** Start size #1500 **********\n",
      "by_tensor_cuda (0.307594030200562, 0.006999931364751313)\n",
      "by_bfs_each_cuda "
     ]
    },
    {
     "name": "stderr",
     "output_type": "stream",
     "text": [
      "[2022-10-12 13:49:34]>INFO>Generate set of source vertices of 50 nodes for graph=<networkx.classes.multidigraph.MultiDiGraph object at 0x7f14379ed690> for multiple-source evaluation\n"
     ]
    },
    {
     "name": "stdout",
     "output_type": "stream",
     "text": [
      "(0.925533350600017, 0.003968692481204013)\n",
      "========== Regex #4 ==========\n",
      "********** Start size #50 **********\n",
      "by_tensor_cuda (0.3055141436008853, 0.003581677193214788)\n",
      "by_bfs_each_cuda "
     ]
    },
    {
     "name": "stderr",
     "output_type": "stream",
     "text": [
      "[2022-10-12 13:49:37]>INFO>Generate set of source vertices of 100 nodes for graph=<networkx.classes.multidigraph.MultiDiGraph object at 0x7f14379ed690> for multiple-source evaluation\n"
     ]
    },
    {
     "name": "stdout",
     "output_type": "stream",
     "text": [
      "(0.3180030891999195, 0.002734032108407157)\n",
      "********** Start size #100 **********\n",
      "by_tensor_cuda (0.3028463609996834, 0.005271951079390783)\n",
      "by_bfs_each_cuda "
     ]
    },
    {
     "name": "stderr",
     "output_type": "stream",
     "text": [
      "[2022-10-12 13:49:41]>INFO>Generate set of source vertices of 200 nodes for graph=<networkx.classes.multidigraph.MultiDiGraph object at 0x7f14379ed690> for multiple-source evaluation\n"
     ]
    },
    {
     "name": "stdout",
     "output_type": "stream",
     "text": [
      "(0.3321110374010459, 0.004495010138329486)\n",
      "********** Start size #200 **********\n",
      "by_tensor_cuda (0.3072224592004204, 0.0062435687232524)\n",
      "by_bfs_each_cuda "
     ]
    },
    {
     "name": "stderr",
     "output_type": "stream",
     "text": [
      "[2022-10-12 13:49:44]>INFO>Generate set of source vertices of 400 nodes for graph=<networkx.classes.multidigraph.MultiDiGraph object at 0x7f14379ed690> for multiple-source evaluation\n"
     ]
    },
    {
     "name": "stdout",
     "output_type": "stream",
     "text": [
      "(0.3679791726004623, 0.002218318441431865)\n",
      "********** Start size #400 **********\n",
      "by_tensor_cuda (0.3040108074012096, 0.006775104612138283)\n",
      "by_bfs_each_cuda "
     ]
    },
    {
     "name": "stderr",
     "output_type": "stream",
     "text": [
      "[2022-10-12 13:49:48]>INFO>Generate set of source vertices of 800 nodes for graph=<networkx.classes.multidigraph.MultiDiGraph object at 0x7f14379ed690> for multiple-source evaluation\n"
     ]
    },
    {
     "name": "stdout",
     "output_type": "stream",
     "text": [
      "(0.43789579140066054, 0.0026435672118560937)\n",
      "********** Start size #800 **********\n",
      "by_tensor_cuda (0.3091690722008934, 0.011173571067475891)\n",
      "by_bfs_each_cuda "
     ]
    },
    {
     "name": "stderr",
     "output_type": "stream",
     "text": [
      "[2022-10-12 13:49:52]>INFO>Generate set of source vertices of 1500 nodes for graph=<networkx.classes.multidigraph.MultiDiGraph object at 0x7f14379ed690> for multiple-source evaluation\n"
     ]
    },
    {
     "name": "stdout",
     "output_type": "stream",
     "text": [
      "(0.5926874572003726, 0.004489482768545204)\n",
      "********** Start size #1500 **********\n",
      "by_tensor_cuda (0.30083936659939353, 0.007164276832799426)\n",
      "by_bfs_each_cuda "
     ]
    },
    {
     "name": "stderr",
     "output_type": "stream",
     "text": [
      "[2022-10-12 13:49:58]>INFO>Generate set of source vertices of 50 nodes for graph=<networkx.classes.multidigraph.MultiDiGraph object at 0x7f14379efee0> for multiple-source evaluation\n"
     ]
    },
    {
     "name": "stdout",
     "output_type": "stream",
     "text": [
      "(0.925025424001069, 0.006113942083537193)\n",
      "########## Graph pizza (7 / 10, run times = 5) ##########\n",
      "========== Regex #1 ==========\n",
      "********** Start size #50 **********\n",
      "by_tensor_cuda (0.1531440027996723, 0.002062673474072567)\n",
      "by_bfs_each_cuda "
     ]
    },
    {
     "name": "stderr",
     "output_type": "stream",
     "text": [
      "[2022-10-12 13:50:00]>INFO>Generate set of source vertices of 100 nodes for graph=<networkx.classes.multidigraph.MultiDiGraph object at 0x7f14379efee0> for multiple-source evaluation\n"
     ]
    },
    {
     "name": "stdout",
     "output_type": "stream",
     "text": [
      "(0.17755812520044856, 0.014561422098830164)\n",
      "********** Start size #100 **********\n",
      "by_tensor_cuda (0.15714627699999256, 0.005753024016340433)\n",
      "by_bfs_each_cuda "
     ]
    },
    {
     "name": "stderr",
     "output_type": "stream",
     "text": [
      "[2022-10-12 13:50:02]>INFO>Generate set of source vertices of 200 nodes for graph=<networkx.classes.multidigraph.MultiDiGraph object at 0x7f14379efee0> for multiple-source evaluation\n"
     ]
    },
    {
     "name": "stdout",
     "output_type": "stream",
     "text": [
      "(0.1860233994004375, 0.0014052414158835262)\n",
      "********** Start size #200 **********\n",
      "by_tensor_cuda (0.1536296203994425, 0.0015749313296230122)\n",
      "by_bfs_each_cuda "
     ]
    },
    {
     "name": "stderr",
     "output_type": "stream",
     "text": [
      "[2022-10-12 13:50:04]>INFO>Generate set of source vertices of 400 nodes for graph=<networkx.classes.multidigraph.MultiDiGraph object at 0x7f14379efee0> for multiple-source evaluation\n"
     ]
    },
    {
     "name": "stdout",
     "output_type": "stream",
     "text": [
      "(0.2195215558007476, 0.0008158519608791724)\n",
      "********** Start size #400 **********\n",
      "by_tensor_cuda (0.16559057800113805, 0.001224353925991679)\n",
      "by_bfs_each_cuda "
     ]
    },
    {
     "name": "stderr",
     "output_type": "stream",
     "text": [
      "[2022-10-12 13:50:06]>INFO>Generate set of source vertices of 50 nodes for graph=<networkx.classes.multidigraph.MultiDiGraph object at 0x7f14379efee0> for multiple-source evaluation\n"
     ]
    },
    {
     "name": "stdout",
     "output_type": "stream",
     "text": [
      "(0.3048492922003788, 0.004785963955089511)\n",
      "========== Regex #2 ==========\n",
      "********** Start size #50 **********\n",
      "by_tensor_cuda (0.1548299226000381, 0.0008831596428131446)\n",
      "by_bfs_each_cuda "
     ]
    },
    {
     "name": "stderr",
     "output_type": "stream",
     "text": [
      "[2022-10-12 13:50:08]>INFO>Generate set of source vertices of 100 nodes for graph=<networkx.classes.multidigraph.MultiDiGraph object at 0x7f14379efee0> for multiple-source evaluation\n"
     ]
    },
    {
     "name": "stdout",
     "output_type": "stream",
     "text": [
      "(0.16897808659923613, 0.0010509406350761197)\n",
      "********** Start size #100 **********\n",
      "by_tensor_cuda (0.15569909419937175, 0.0017502817088140491)\n",
      "by_bfs_each_cuda "
     ]
    },
    {
     "name": "stderr",
     "output_type": "stream",
     "text": [
      "[2022-10-12 13:50:09]>INFO>Generate set of source vertices of 200 nodes for graph=<networkx.classes.multidigraph.MultiDiGraph object at 0x7f14379efee0> for multiple-source evaluation\n"
     ]
    },
    {
     "name": "stdout",
     "output_type": "stream",
     "text": [
      "(0.18683757079925273, 0.001532777232481168)\n",
      "********** Start size #200 **********\n",
      "by_tensor_cuda (0.15590940839974793, 0.001233611723301761)\n",
      "by_bfs_each_cuda "
     ]
    },
    {
     "name": "stderr",
     "output_type": "stream",
     "text": [
      "[2022-10-12 13:50:11]>INFO>Generate set of source vertices of 400 nodes for graph=<networkx.classes.multidigraph.MultiDiGraph object at 0x7f14379efee0> for multiple-source evaluation\n"
     ]
    },
    {
     "name": "stdout",
     "output_type": "stream",
     "text": [
      "(0.21926493640057743, 0.0006172428855658382)\n",
      "********** Start size #400 **********\n",
      "by_tensor_cuda (0.1668483743997058, 0.0014588716252694047)\n",
      "by_bfs_each_cuda "
     ]
    },
    {
     "name": "stderr",
     "output_type": "stream",
     "text": [
      "[2022-10-12 13:50:14]>INFO>Generate set of source vertices of 50 nodes for graph=<networkx.classes.multidigraph.MultiDiGraph object at 0x7f14379efee0> for multiple-source evaluation\n"
     ]
    },
    {
     "name": "stdout",
     "output_type": "stream",
     "text": [
      "(0.3057022572007554, 0.004763941988569978)\n",
      "========== Regex #3 ==========\n",
      "********** Start size #50 **********\n",
      "by_tensor_cuda (0.15550941540132043, 0.0013457897829363932)\n",
      "by_bfs_each_cuda "
     ]
    },
    {
     "name": "stderr",
     "output_type": "stream",
     "text": [
      "[2022-10-12 13:50:15]>INFO>Generate set of source vertices of 100 nodes for graph=<networkx.classes.multidigraph.MultiDiGraph object at 0x7f14379efee0> for multiple-source evaluation\n"
     ]
    },
    {
     "name": "stdout",
     "output_type": "stream",
     "text": [
      "(0.16873902040097163, 0.0006479427798103932)\n",
      "********** Start size #100 **********\n",
      "by_tensor_cuda (0.15575009120002506, 0.0016949163423870964)\n",
      "by_bfs_each_cuda "
     ]
    },
    {
     "name": "stderr",
     "output_type": "stream",
     "text": [
      "[2022-10-12 13:50:17]>INFO>Generate set of source vertices of 200 nodes for graph=<networkx.classes.multidigraph.MultiDiGraph object at 0x7f14379efee0> for multiple-source evaluation\n"
     ]
    },
    {
     "name": "stdout",
     "output_type": "stream",
     "text": [
      "(0.18681827440013876, 0.001326434620078709)\n",
      "********** Start size #200 **********\n",
      "by_tensor_cuda (0.15537513899980696, 0.0009794646633823506)\n",
      "by_bfs_each_cuda "
     ]
    },
    {
     "name": "stderr",
     "output_type": "stream",
     "text": [
      "[2022-10-12 13:50:19]>INFO>Generate set of source vertices of 400 nodes for graph=<networkx.classes.multidigraph.MultiDiGraph object at 0x7f14379efee0> for multiple-source evaluation\n"
     ]
    },
    {
     "name": "stdout",
     "output_type": "stream",
     "text": [
      "(0.21986852680056473, 0.0008610388540825641)\n",
      "********** Start size #400 **********\n",
      "by_tensor_cuda (0.16732804819839658, 0.0018155066403267518)\n",
      "by_bfs_each_cuda "
     ]
    },
    {
     "name": "stderr",
     "output_type": "stream",
     "text": [
      "[2022-10-12 13:50:21]>INFO>Generate set of source vertices of 50 nodes for graph=<networkx.classes.multidigraph.MultiDiGraph object at 0x7f14379efee0> for multiple-source evaluation\n"
     ]
    },
    {
     "name": "stdout",
     "output_type": "stream",
     "text": [
      "(0.3056653148007172, 0.004058805632879546)\n",
      "========== Regex #4 ==========\n",
      "********** Start size #50 **********\n",
      "by_tensor_cuda (0.15554989080046652, 0.0011700049940403775)\n",
      "by_bfs_each_cuda "
     ]
    },
    {
     "name": "stderr",
     "output_type": "stream",
     "text": [
      "[2022-10-12 13:50:23]>INFO>Generate set of source vertices of 100 nodes for graph=<networkx.classes.multidigraph.MultiDiGraph object at 0x7f14379efee0> for multiple-source evaluation\n"
     ]
    },
    {
     "name": "stdout",
     "output_type": "stream",
     "text": [
      "(0.1700885805992584, 0.001180280670117877)\n",
      "********** Start size #100 **********\n",
      "by_tensor_cuda (0.15658177759905811, 0.0019873892939346197)\n",
      "by_bfs_each_cuda "
     ]
    },
    {
     "name": "stderr",
     "output_type": "stream",
     "text": [
      "[2022-10-12 13:50:24]>INFO>Generate set of source vertices of 200 nodes for graph=<networkx.classes.multidigraph.MultiDiGraph object at 0x7f14379efee0> for multiple-source evaluation\n"
     ]
    },
    {
     "name": "stdout",
     "output_type": "stream",
     "text": [
      "(0.18680783299860196, 0.0008449320879869635)\n",
      "********** Start size #200 **********\n",
      "by_tensor_cuda (0.15564739739929792, 0.001682412331288744)\n",
      "by_bfs_each_cuda "
     ]
    },
    {
     "name": "stderr",
     "output_type": "stream",
     "text": [
      "[2022-10-12 13:50:26]>INFO>Generate set of source vertices of 400 nodes for graph=<networkx.classes.multidigraph.MultiDiGraph object at 0x7f14379efee0> for multiple-source evaluation\n"
     ]
    },
    {
     "name": "stdout",
     "output_type": "stream",
     "text": [
      "(0.21963216700096383, 0.00076602185200522)\n",
      "********** Start size #400 **********\n",
      "by_tensor_cuda (0.168031920400972, 0.00246380769302708)\n",
      "by_bfs_each_cuda "
     ]
    },
    {
     "name": "stderr",
     "output_type": "stream",
     "text": [
      "[2022-10-12 13:50:29]>INFO>Generate set of source vertices of 50 nodes for graph=<networkx.classes.multidigraph.MultiDiGraph object at 0x7f14379ec3d0> for multiple-source evaluation\n"
     ]
    },
    {
     "name": "stdout",
     "output_type": "stream",
     "text": [
      "(0.30728173259922187, 0.00459321334994257)\n",
      "########## Graph gzip (8 / 10, run times = 5) ##########\n",
      "========== Regex #1 ==========\n",
      "********** Start size #50 **********\n",
      "by_tensor_cuda (0.7657348959990486, 0.011441511947540168)\n",
      "by_bfs_each_cuda "
     ]
    },
    {
     "name": "stderr",
     "output_type": "stream",
     "text": [
      "[2022-10-12 13:50:36]>INFO>Generate set of source vertices of 100 nodes for graph=<networkx.classes.multidigraph.MultiDiGraph object at 0x7f14379ec3d0> for multiple-source evaluation\n"
     ]
    },
    {
     "name": "stdout",
     "output_type": "stream",
     "text": [
      "(0.7809205935998762, 0.007373015755350765)\n",
      "********** Start size #100 **********\n",
      "by_tensor_cuda (0.7702746228009346, 0.005727926320021167)\n",
      "by_bfs_each_cuda "
     ]
    },
    {
     "name": "stderr",
     "output_type": "stream",
     "text": [
      "[2022-10-12 13:50:44]>INFO>Generate set of source vertices of 200 nodes for graph=<networkx.classes.multidigraph.MultiDiGraph object at 0x7f14379ec3d0> for multiple-source evaluation\n"
     ]
    },
    {
     "name": "stdout",
     "output_type": "stream",
     "text": [
      "(0.7975199350003095, 0.00918894112829678)\n",
      "********** Start size #200 **********\n",
      "by_tensor_cuda (0.7722089904011227, 0.007744808387422842)\n",
      "by_bfs_each_cuda "
     ]
    },
    {
     "name": "stderr",
     "output_type": "stream",
     "text": [
      "[2022-10-12 13:50:52]>INFO>Generate set of source vertices of 400 nodes for graph=<networkx.classes.multidigraph.MultiDiGraph object at 0x7f14379ec3d0> for multiple-source evaluation\n"
     ]
    },
    {
     "name": "stdout",
     "output_type": "stream",
     "text": [
      "(0.8347618806008541, 0.009679604213589476)\n",
      "********** Start size #400 **********\n",
      "by_tensor_cuda (0.7597729622000771, 0.013657587146883206)\n",
      "by_bfs_each_cuda "
     ]
    },
    {
     "name": "stderr",
     "output_type": "stream",
     "text": [
      "[2022-10-12 13:51:01]>INFO>Generate set of source vertices of 800 nodes for graph=<networkx.classes.multidigraph.MultiDiGraph object at 0x7f14379ec3d0> for multiple-source evaluation\n"
     ]
    },
    {
     "name": "stdout",
     "output_type": "stream",
     "text": [
      "(0.8932835697996779, 0.00820937741814507)\n",
      "********** Start size #800 **********\n",
      "by_tensor_cuda (0.7583111026011465, 0.008367844298324073)\n",
      "by_bfs_each_cuda "
     ]
    },
    {
     "name": "stderr",
     "output_type": "stream",
     "text": [
      "[2022-10-12 13:51:10]>INFO>Generate set of source vertices of 1500 nodes for graph=<networkx.classes.multidigraph.MultiDiGraph object at 0x7f14379ec3d0> for multiple-source evaluation\n"
     ]
    },
    {
     "name": "stdout",
     "output_type": "stream",
     "text": [
      "(1.0548265253994031, 0.005372878786166604)\n",
      "********** Start size #1500 **********\n",
      "by_tensor_cuda (0.7557796997993137, 0.016999870819304902)\n",
      "by_bfs_each_cuda "
     ]
    },
    {
     "name": "stderr",
     "output_type": "stream",
     "text": [
      "[2022-10-12 13:51:20]>INFO>Generate set of source vertices of 50 nodes for graph=<networkx.classes.multidigraph.MultiDiGraph object at 0x7f14379ec3d0> for multiple-source evaluation\n"
     ]
    },
    {
     "name": "stdout",
     "output_type": "stream",
     "text": [
      "(1.3855462150007951, 0.010056168896052728)\n",
      "========== Regex #2 ==========\n",
      "********** Start size #50 **********\n",
      "by_tensor_cuda (0.7675335703999735, 0.00991955067410786)\n",
      "by_bfs_each_cuda "
     ]
    },
    {
     "name": "stderr",
     "output_type": "stream",
     "text": [
      "[2022-10-12 13:51:28]>INFO>Generate set of source vertices of 100 nodes for graph=<networkx.classes.multidigraph.MultiDiGraph object at 0x7f14379ec3d0> for multiple-source evaluation\n"
     ]
    },
    {
     "name": "stdout",
     "output_type": "stream",
     "text": [
      "(0.7804535197996302, 0.004815586803789487)\n",
      "********** Start size #100 **********\n",
      "by_tensor_cuda (0.7658184854008141, 0.01059589440136892)\n",
      "by_bfs_each_cuda "
     ]
    },
    {
     "name": "stderr",
     "output_type": "stream",
     "text": [
      "[2022-10-12 13:51:36]>INFO>Generate set of source vertices of 200 nodes for graph=<networkx.classes.multidigraph.MultiDiGraph object at 0x7f14379ec3d0> for multiple-source evaluation\n"
     ]
    },
    {
     "name": "stdout",
     "output_type": "stream",
     "text": [
      "(0.7960496968007647, 0.008981107860777693)\n",
      "********** Start size #200 **********\n",
      "by_tensor_cuda (0.7730584765988169, 0.008989636339862415)\n",
      "by_bfs_each_cuda "
     ]
    },
    {
     "name": "stderr",
     "output_type": "stream",
     "text": [
      "[2022-10-12 13:51:44]>INFO>Generate set of source vertices of 400 nodes for graph=<networkx.classes.multidigraph.MultiDiGraph object at 0x7f14379ec3d0> for multiple-source evaluation\n"
     ]
    },
    {
     "name": "stdout",
     "output_type": "stream",
     "text": [
      "(0.8329970283994044, 0.010682623335236997)\n",
      "********** Start size #400 **********\n",
      "by_tensor_cuda (0.7569254773996363, 0.008107246812654526)\n",
      "by_bfs_each_cuda "
     ]
    },
    {
     "name": "stderr",
     "output_type": "stream",
     "text": [
      "[2022-10-12 13:51:52]>INFO>Generate set of source vertices of 800 nodes for graph=<networkx.classes.multidigraph.MultiDiGraph object at 0x7f14379ec3d0> for multiple-source evaluation\n"
     ]
    },
    {
     "name": "stdout",
     "output_type": "stream",
     "text": [
      "(0.8924190422010725, 0.00762284407259716)\n",
      "********** Start size #800 **********\n",
      "by_tensor_cuda (0.7601057150000997, 0.011627881551113368)\n",
      "by_bfs_each_cuda "
     ]
    },
    {
     "name": "stderr",
     "output_type": "stream",
     "text": [
      "[2022-10-12 13:52:01]>INFO>Generate set of source vertices of 1500 nodes for graph=<networkx.classes.multidigraph.MultiDiGraph object at 0x7f14379ec3d0> for multiple-source evaluation\n"
     ]
    },
    {
     "name": "stdout",
     "output_type": "stream",
     "text": [
      "(1.0594174041994848, 0.005628860577486265)\n",
      "********** Start size #1500 **********\n",
      "by_tensor_cuda (0.7622076586005277, 0.010931498322854208)\n",
      "by_bfs_each_cuda "
     ]
    },
    {
     "name": "stderr",
     "output_type": "stream",
     "text": [
      "[2022-10-12 13:52:12]>INFO>Generate set of source vertices of 50 nodes for graph=<networkx.classes.multidigraph.MultiDiGraph object at 0x7f14379ec3d0> for multiple-source evaluation\n"
     ]
    },
    {
     "name": "stdout",
     "output_type": "stream",
     "text": [
      "(1.3826740397998947, 0.006253716338654989)\n",
      "========== Regex #3 ==========\n",
      "********** Start size #50 **********\n",
      "by_tensor_cuda (0.7631734762013366, 0.01580163638576359)\n",
      "by_bfs_each_cuda "
     ]
    },
    {
     "name": "stderr",
     "output_type": "stream",
     "text": [
      "[2022-10-12 13:52:20]>INFO>Generate set of source vertices of 100 nodes for graph=<networkx.classes.multidigraph.MultiDiGraph object at 0x7f14379ec3d0> for multiple-source evaluation\n"
     ]
    },
    {
     "name": "stdout",
     "output_type": "stream",
     "text": [
      "(0.7797475823994319, 0.008233854533780775)\n",
      "********** Start size #100 **********\n",
      "by_tensor_cuda (0.7731474838001304, 0.014353519437926175)\n",
      "by_bfs_each_cuda "
     ]
    },
    {
     "name": "stderr",
     "output_type": "stream",
     "text": [
      "[2022-10-12 13:52:28]>INFO>Generate set of source vertices of 200 nodes for graph=<networkx.classes.multidigraph.MultiDiGraph object at 0x7f14379ec3d0> for multiple-source evaluation\n"
     ]
    },
    {
     "name": "stdout",
     "output_type": "stream",
     "text": [
      "(0.7975102954005706, 0.010927074729808365)\n",
      "********** Start size #200 **********\n",
      "by_tensor_cuda (0.7726792009998462, 0.015226760651852423)\n",
      "by_bfs_each_cuda "
     ]
    },
    {
     "name": "stderr",
     "output_type": "stream",
     "text": [
      "[2022-10-12 13:52:36]>INFO>Generate set of source vertices of 400 nodes for graph=<networkx.classes.multidigraph.MultiDiGraph object at 0x7f14379ec3d0> for multiple-source evaluation\n"
     ]
    },
    {
     "name": "stdout",
     "output_type": "stream",
     "text": [
      "(0.836275960799685, 0.006264265878253401)\n",
      "********** Start size #400 **********\n",
      "by_tensor_cuda (0.7653850133989181, 0.0079064038629284)\n",
      "by_bfs_each_cuda "
     ]
    },
    {
     "name": "stderr",
     "output_type": "stream",
     "text": [
      "[2022-10-12 13:52:44]>INFO>Generate set of source vertices of 800 nodes for graph=<networkx.classes.multidigraph.MultiDiGraph object at 0x7f14379ec3d0> for multiple-source evaluation\n"
     ]
    },
    {
     "name": "stdout",
     "output_type": "stream",
     "text": [
      "(0.8865761154003848, 0.009282341383199255)\n",
      "********** Start size #800 **********\n",
      "by_tensor_cuda (0.7625107460007712, 0.005363712551888886)\n",
      "by_bfs_each_cuda "
     ]
    },
    {
     "name": "stderr",
     "output_type": "stream",
     "text": [
      "[2022-10-12 13:52:53]>INFO>Generate set of source vertices of 1500 nodes for graph=<networkx.classes.multidigraph.MultiDiGraph object at 0x7f14379ec3d0> for multiple-source evaluation\n"
     ]
    },
    {
     "name": "stdout",
     "output_type": "stream",
     "text": [
      "(1.0576611734002654, 0.008967684349748596)\n",
      "********** Start size #1500 **********\n",
      "by_tensor_cuda (0.760235618599836, 0.006272950463108932)\n",
      "by_bfs_each_cuda "
     ]
    },
    {
     "name": "stderr",
     "output_type": "stream",
     "text": [
      "[2022-10-12 13:53:04]>INFO>Generate set of source vertices of 50 nodes for graph=<networkx.classes.multidigraph.MultiDiGraph object at 0x7f14379ec3d0> for multiple-source evaluation\n"
     ]
    },
    {
     "name": "stdout",
     "output_type": "stream",
     "text": [
      "(1.3878434742000536, 0.008973845003642194)\n",
      "========== Regex #4 ==========\n",
      "********** Start size #50 **********\n",
      "by_tensor_cuda (0.7677402442001039, 0.0078752057238399)\n",
      "by_bfs_each_cuda "
     ]
    },
    {
     "name": "stderr",
     "output_type": "stream",
     "text": [
      "[2022-10-12 13:53:11]>INFO>Generate set of source vertices of 100 nodes for graph=<networkx.classes.multidigraph.MultiDiGraph object at 0x7f14379ec3d0> for multiple-source evaluation\n"
     ]
    },
    {
     "name": "stdout",
     "output_type": "stream",
     "text": [
      "(0.7823979727996629, 0.005804691649854577)\n",
      "********** Start size #100 **********\n",
      "by_tensor_cuda (0.7682135823997669, 0.00912921256556304)\n",
      "by_bfs_each_cuda "
     ]
    },
    {
     "name": "stderr",
     "output_type": "stream",
     "text": [
      "[2022-10-12 13:53:19]>INFO>Generate set of source vertices of 200 nodes for graph=<networkx.classes.multidigraph.MultiDiGraph object at 0x7f14379ec3d0> for multiple-source evaluation\n"
     ]
    },
    {
     "name": "stdout",
     "output_type": "stream",
     "text": [
      "(0.7951760955998907, 0.009799131161798032)\n",
      "********** Start size #200 **********\n",
      "by_tensor_cuda (0.7755191053991439, 0.007594738218813894)\n",
      "by_bfs_each_cuda "
     ]
    },
    {
     "name": "stderr",
     "output_type": "stream",
     "text": [
      "[2022-10-12 13:53:27]>INFO>Generate set of source vertices of 400 nodes for graph=<networkx.classes.multidigraph.MultiDiGraph object at 0x7f14379ec3d0> for multiple-source evaluation\n"
     ]
    },
    {
     "name": "stdout",
     "output_type": "stream",
     "text": [
      "(0.8289519054007541, 0.012671289778822507)\n",
      "********** Start size #400 **********\n",
      "by_tensor_cuda (0.7563879923989589, 0.006143808265063173)\n",
      "by_bfs_each_cuda "
     ]
    },
    {
     "name": "stderr",
     "output_type": "stream",
     "text": [
      "[2022-10-12 13:53:36]>INFO>Generate set of source vertices of 800 nodes for graph=<networkx.classes.multidigraph.MultiDiGraph object at 0x7f14379ec3d0> for multiple-source evaluation\n"
     ]
    },
    {
     "name": "stdout",
     "output_type": "stream",
     "text": [
      "(0.8909762716000842, 0.009789619188334877)\n",
      "********** Start size #800 **********\n",
      "by_tensor_cuda (0.7614435384006356, 0.008821950712152296)\n",
      "by_bfs_each_cuda "
     ]
    },
    {
     "name": "stderr",
     "output_type": "stream",
     "text": [
      "[2022-10-12 13:53:45]>INFO>Generate set of source vertices of 1500 nodes for graph=<networkx.classes.multidigraph.MultiDiGraph object at 0x7f14379ec3d0> for multiple-source evaluation\n"
     ]
    },
    {
     "name": "stdout",
     "output_type": "stream",
     "text": [
      "(1.059934916200291, 0.011775203785420244)\n",
      "********** Start size #1500 **********\n",
      "by_tensor_cuda (0.7607399939988682, 0.0119695156538454)\n",
      "by_bfs_each_cuda "
     ]
    },
    {
     "name": "stderr",
     "output_type": "stream",
     "text": [
      "[2022-10-12 13:53:55]>INFO>Generate set of source vertices of 50 nodes for graph=<networkx.classes.multidigraph.MultiDiGraph object at 0x7f14379ecf40> for multiple-source evaluation\n"
     ]
    },
    {
     "name": "stdout",
     "output_type": "stream",
     "text": [
      "(1.3860084695996193, 0.009074498142873873)\n",
      "########## Graph pathways (9 / 10, run times = 1) ##########\n",
      "========== Regex #1 ==========\n",
      "********** Start size #50 **********\n",
      "by_tensor_cuda (8.199808435001614, 0.0)\n",
      "by_bfs_each_cuda "
     ]
    },
    {
     "name": "stderr",
     "output_type": "stream",
     "text": [
      "[2022-10-12 13:54:12]>INFO>Generate set of source vertices of 100 nodes for graph=<networkx.classes.multidigraph.MultiDiGraph object at 0x7f14379ecf40> for multiple-source evaluation\n"
     ]
    },
    {
     "name": "stdout",
     "output_type": "stream",
     "text": [
      "(8.288643490999675, 0.0)\n",
      "********** Start size #100 **********\n",
      "by_tensor_cuda (8.221072486001503, 0.0)\n",
      "by_bfs_each_cuda "
     ]
    },
    {
     "name": "stderr",
     "output_type": "stream",
     "text": [
      "[2022-10-12 13:54:28]>INFO>Generate set of source vertices of 200 nodes for graph=<networkx.classes.multidigraph.MultiDiGraph object at 0x7f14379ecf40> for multiple-source evaluation\n"
     ]
    },
    {
     "name": "stdout",
     "output_type": "stream",
     "text": [
      "(8.305840588000137, 0.0)\n",
      "********** Start size #200 **********\n",
      "by_tensor_cuda (8.215585295998608, 0.0)\n",
      "by_bfs_each_cuda "
     ]
    },
    {
     "name": "stderr",
     "output_type": "stream",
     "text": [
      "[2022-10-12 13:54:45]>INFO>Generate set of source vertices of 400 nodes for graph=<networkx.classes.multidigraph.MultiDiGraph object at 0x7f14379ecf40> for multiple-source evaluation\n"
     ]
    },
    {
     "name": "stdout",
     "output_type": "stream",
     "text": [
      "(8.326520658996742, 0.0)\n",
      "********** Start size #400 **********\n",
      "by_tensor_cuda (8.227338587999839, 0.0)\n",
      "by_bfs_each_cuda "
     ]
    },
    {
     "name": "stderr",
     "output_type": "stream",
     "text": [
      "[2022-10-12 13:55:02]>INFO>Generate set of source vertices of 800 nodes for graph=<networkx.classes.multidigraph.MultiDiGraph object at 0x7f14379ecf40> for multiple-source evaluation\n"
     ]
    },
    {
     "name": "stdout",
     "output_type": "stream",
     "text": [
      "(8.414207050998812, 0.0)\n",
      "********** Start size #800 **********\n",
      "by_tensor_cuda (8.156277873000363, 0.0)\n",
      "by_bfs_each_cuda "
     ]
    },
    {
     "name": "stderr",
     "output_type": "stream",
     "text": [
      "[2022-10-12 13:55:18]>INFO>Generate set of source vertices of 1500 nodes for graph=<networkx.classes.multidigraph.MultiDiGraph object at 0x7f14379ecf40> for multiple-source evaluation\n"
     ]
    },
    {
     "name": "stdout",
     "output_type": "stream",
     "text": [
      "(8.641420366999228, 0.0)\n",
      "********** Start size #1500 **********\n",
      "by_tensor_cuda (8.154151126000215, 0.0)\n",
      "by_bfs_each_cuda "
     ]
    },
    {
     "name": "stderr",
     "output_type": "stream",
     "text": [
      "[2022-10-12 13:55:35]>INFO>Generate set of source vertices of 3000 nodes for graph=<networkx.classes.multidigraph.MultiDiGraph object at 0x7f14379ecf40> for multiple-source evaluation\n"
     ]
    },
    {
     "name": "stdout",
     "output_type": "stream",
     "text": [
      "(8.699356425000587, 0.0)\n",
      "********** Start size #3000 **********\n",
      "by_tensor_cuda (8.084188059001463, 0.0)\n",
      "by_bfs_each_cuda "
     ]
    },
    {
     "name": "stderr",
     "output_type": "stream",
     "text": [
      "[2022-10-12 13:55:53]>INFO>Generate set of source vertices of 6000 nodes for graph=<networkx.classes.multidigraph.MultiDiGraph object at 0x7f14379ecf40> for multiple-source evaluation\n"
     ]
    },
    {
     "name": "stdout",
     "output_type": "stream",
     "text": [
      "(9.712536642000487, 0.0)\n",
      "********** Start size #6000 **********\n",
      "by_tensor_cuda (8.774297085998114, 0.0)\n",
      "by_bfs_each_cuda "
     ]
    },
    {
     "name": "stderr",
     "output_type": "stream",
     "text": [
      "[2022-10-12 13:56:15]>INFO>Generate set of source vertices of 50 nodes for graph=<networkx.classes.multidigraph.MultiDiGraph object at 0x7f14379ecf40> for multiple-source evaluation\n"
     ]
    },
    {
     "name": "stdout",
     "output_type": "stream",
     "text": [
      "(12.934683293002308, 0.0)\n",
      "========== Regex #2 ==========\n",
      "********** Start size #50 **********\n",
      "by_tensor_cuda (8.208810824999091, 0.0)\n",
      "by_bfs_each_cuda "
     ]
    },
    {
     "name": "stderr",
     "output_type": "stream",
     "text": [
      "[2022-10-12 13:56:31]>INFO>Generate set of source vertices of 100 nodes for graph=<networkx.classes.multidigraph.MultiDiGraph object at 0x7f14379ecf40> for multiple-source evaluation\n"
     ]
    },
    {
     "name": "stdout",
     "output_type": "stream",
     "text": [
      "(8.260247630001686, 0.0)\n",
      "********** Start size #100 **********\n",
      "by_tensor_cuda (8.219752043998596, 0.0)\n",
      "by_bfs_each_cuda "
     ]
    },
    {
     "name": "stderr",
     "output_type": "stream",
     "text": [
      "[2022-10-12 13:56:48]>INFO>Generate set of source vertices of 200 nodes for graph=<networkx.classes.multidigraph.MultiDiGraph object at 0x7f14379ecf40> for multiple-source evaluation\n"
     ]
    },
    {
     "name": "stdout",
     "output_type": "stream",
     "text": [
      "(8.382468937998055, 0.0)\n",
      "********** Start size #200 **********\n",
      "by_tensor_cuda (8.245058030999644, 0.0)\n",
      "by_bfs_each_cuda "
     ]
    },
    {
     "name": "stderr",
     "output_type": "stream",
     "text": [
      "[2022-10-12 13:57:04]>INFO>Generate set of source vertices of 400 nodes for graph=<networkx.classes.multidigraph.MultiDiGraph object at 0x7f14379ecf40> for multiple-source evaluation\n"
     ]
    },
    {
     "name": "stdout",
     "output_type": "stream",
     "text": [
      "(8.33569408999756, 0.0)\n",
      "********** Start size #400 **********\n",
      "by_tensor_cuda (8.191730578000715, 0.0)\n",
      "by_bfs_each_cuda "
     ]
    },
    {
     "name": "stderr",
     "output_type": "stream",
     "text": [
      "[2022-10-12 13:57:21]>INFO>Generate set of source vertices of 800 nodes for graph=<networkx.classes.multidigraph.MultiDiGraph object at 0x7f14379ecf40> for multiple-source evaluation\n"
     ]
    },
    {
     "name": "stdout",
     "output_type": "stream",
     "text": [
      "(8.45675440299965, 0.0)\n",
      "********** Start size #800 **********\n",
      "by_tensor_cuda (8.246845790003135, 0.0)\n",
      "by_bfs_each_cuda "
     ]
    },
    {
     "name": "stderr",
     "output_type": "stream",
     "text": [
      "[2022-10-12 13:57:38]>INFO>Generate set of source vertices of 1500 nodes for graph=<networkx.classes.multidigraph.MultiDiGraph object at 0x7f14379ecf40> for multiple-source evaluation\n"
     ]
    },
    {
     "name": "stdout",
     "output_type": "stream",
     "text": [
      "(8.6735839139983, 0.0)\n",
      "********** Start size #1500 **********\n",
      "by_tensor_cuda (8.169962960000703, 0.0)\n",
      "by_bfs_each_cuda "
     ]
    },
    {
     "name": "stderr",
     "output_type": "stream",
     "text": [
      "[2022-10-12 13:57:55]>INFO>Generate set of source vertices of 3000 nodes for graph=<networkx.classes.multidigraph.MultiDiGraph object at 0x7f14379ecf40> for multiple-source evaluation\n"
     ]
    },
    {
     "name": "stdout",
     "output_type": "stream",
     "text": [
      "(8.855066367999825, 0.0)\n",
      "********** Start size #3000 **********\n",
      "by_tensor_cuda (8.10144507899895, 0.0)\n",
      "by_bfs_each_cuda "
     ]
    },
    {
     "name": "stderr",
     "output_type": "stream",
     "text": [
      "[2022-10-12 13:58:13]>INFO>Generate set of source vertices of 6000 nodes for graph=<networkx.classes.multidigraph.MultiDiGraph object at 0x7f14379ecf40> for multiple-source evaluation\n"
     ]
    },
    {
     "name": "stdout",
     "output_type": "stream",
     "text": [
      "(9.688283741001214, 0.0)\n",
      "********** Start size #6000 **********\n",
      "by_tensor_cuda (8.747336207001354, 0.0)\n",
      "by_bfs_each_cuda "
     ]
    },
    {
     "name": "stderr",
     "output_type": "stream",
     "text": [
      "[2022-10-12 13:58:35]>INFO>Generate set of source vertices of 50 nodes for graph=<networkx.classes.multidigraph.MultiDiGraph object at 0x7f14379ecf40> for multiple-source evaluation\n"
     ]
    },
    {
     "name": "stdout",
     "output_type": "stream",
     "text": [
      "(13.217090197002108, 0.0)\n",
      "========== Regex #3 ==========\n",
      "********** Start size #50 **********\n",
      "by_tensor_cuda (8.274685053002031, 0.0)\n",
      "by_bfs_each_cuda "
     ]
    },
    {
     "name": "stderr",
     "output_type": "stream",
     "text": [
      "[2022-10-12 13:58:51]>INFO>Generate set of source vertices of 100 nodes for graph=<networkx.classes.multidigraph.MultiDiGraph object at 0x7f14379ecf40> for multiple-source evaluation\n"
     ]
    },
    {
     "name": "stdout",
     "output_type": "stream",
     "text": [
      "(8.288075398999354, 0.0)\n",
      "********** Start size #100 **********\n",
      "by_tensor_cuda (8.308750658001372, 0.0)\n",
      "by_bfs_each_cuda "
     ]
    },
    {
     "name": "stderr",
     "output_type": "stream",
     "text": [
      "[2022-10-12 13:59:08]>INFO>Generate set of source vertices of 200 nodes for graph=<networkx.classes.multidigraph.MultiDiGraph object at 0x7f14379ecf40> for multiple-source evaluation\n"
     ]
    },
    {
     "name": "stdout",
     "output_type": "stream",
     "text": [
      "(8.486462012999255, 0.0)\n",
      "********** Start size #200 **********\n",
      "by_tensor_cuda (8.232472666000831, 0.0)\n",
      "by_bfs_each_cuda "
     ]
    },
    {
     "name": "stderr",
     "output_type": "stream",
     "text": [
      "[2022-10-12 13:59:25]>INFO>Generate set of source vertices of 400 nodes for graph=<networkx.classes.multidigraph.MultiDiGraph object at 0x7f14379ecf40> for multiple-source evaluation\n"
     ]
    },
    {
     "name": "stdout",
     "output_type": "stream",
     "text": [
      "(8.340933217001293, 0.0)\n",
      "********** Start size #400 **********\n",
      "by_tensor_cuda (8.229088713000237, 0.0)\n",
      "by_bfs_each_cuda "
     ]
    },
    {
     "name": "stderr",
     "output_type": "stream",
     "text": [
      "[2022-10-12 13:59:41]>INFO>Generate set of source vertices of 800 nodes for graph=<networkx.classes.multidigraph.MultiDiGraph object at 0x7f14379ecf40> for multiple-source evaluation\n"
     ]
    },
    {
     "name": "stdout",
     "output_type": "stream",
     "text": [
      "(8.484351553001034, 0.0)\n",
      "********** Start size #800 **********\n",
      "by_tensor_cuda (8.23725623700011, 0.0)\n",
      "by_bfs_each_cuda "
     ]
    },
    {
     "name": "stderr",
     "output_type": "stream",
     "text": [
      "[2022-10-12 13:59:58]>INFO>Generate set of source vertices of 1500 nodes for graph=<networkx.classes.multidigraph.MultiDiGraph object at 0x7f14379ecf40> for multiple-source evaluation\n"
     ]
    },
    {
     "name": "stdout",
     "output_type": "stream",
     "text": [
      "(8.574086609001824, 0.0)\n",
      "********** Start size #1500 **********\n",
      "by_tensor_cuda (8.118484239999816, 0.0)\n",
      "by_bfs_each_cuda "
     ]
    },
    {
     "name": "stderr",
     "output_type": "stream",
     "text": [
      "[2022-10-12 14:00:16]>INFO>Generate set of source vertices of 3000 nodes for graph=<networkx.classes.multidigraph.MultiDiGraph object at 0x7f14379ecf40> for multiple-source evaluation\n"
     ]
    },
    {
     "name": "stdout",
     "output_type": "stream",
     "text": [
      "(9.106923654999264, 0.0)\n",
      "********** Start size #3000 **********\n",
      "by_tensor_cuda (8.105135298999812, 0.0)\n",
      "by_bfs_each_cuda "
     ]
    },
    {
     "name": "stderr",
     "output_type": "stream",
     "text": [
      "[2022-10-12 14:00:33]>INFO>Generate set of source vertices of 6000 nodes for graph=<networkx.classes.multidigraph.MultiDiGraph object at 0x7f14379ecf40> for multiple-source evaluation\n"
     ]
    },
    {
     "name": "stdout",
     "output_type": "stream",
     "text": [
      "(9.625159258001077, 0.0)\n",
      "********** Start size #6000 **********\n",
      "by_tensor_cuda (8.788650196001981, 0.0)\n",
      "by_bfs_each_cuda "
     ]
    },
    {
     "name": "stderr",
     "output_type": "stream",
     "text": [
      "[2022-10-12 14:00:55]>INFO>Generate set of source vertices of 50 nodes for graph=<networkx.classes.multidigraph.MultiDiGraph object at 0x7f14379ecf40> for multiple-source evaluation\n"
     ]
    },
    {
     "name": "stdout",
     "output_type": "stream",
     "text": [
      "(13.01427146900096, 0.0)\n",
      "========== Regex #4 ==========\n",
      "********** Start size #50 **********\n",
      "by_tensor_cuda (8.188839372996881, 0.0)\n",
      "by_bfs_each_cuda "
     ]
    },
    {
     "name": "stderr",
     "output_type": "stream",
     "text": [
      "[2022-10-12 14:01:12]>INFO>Generate set of source vertices of 100 nodes for graph=<networkx.classes.multidigraph.MultiDiGraph object at 0x7f14379ecf40> for multiple-source evaluation\n"
     ]
    },
    {
     "name": "stdout",
     "output_type": "stream",
     "text": [
      "(8.284792586000549, 0.0)\n",
      "********** Start size #100 **********\n",
      "by_tensor_cuda (8.244098312999995, 0.0)\n",
      "by_bfs_each_cuda "
     ]
    },
    {
     "name": "stderr",
     "output_type": "stream",
     "text": [
      "[2022-10-12 14:01:28]>INFO>Generate set of source vertices of 200 nodes for graph=<networkx.classes.multidigraph.MultiDiGraph object at 0x7f14379ecf40> for multiple-source evaluation\n"
     ]
    },
    {
     "name": "stdout",
     "output_type": "stream",
     "text": [
      "(8.298528424002143, 0.0)\n",
      "********** Start size #200 **********\n",
      "by_tensor_cuda (8.28581784600101, 0.0)\n",
      "by_bfs_each_cuda "
     ]
    },
    {
     "name": "stderr",
     "output_type": "stream",
     "text": [
      "[2022-10-12 14:01:45]>INFO>Generate set of source vertices of 400 nodes for graph=<networkx.classes.multidigraph.MultiDiGraph object at 0x7f14379ecf40> for multiple-source evaluation\n"
     ]
    },
    {
     "name": "stdout",
     "output_type": "stream",
     "text": [
      "(8.350793167999655, 0.0)\n",
      "********** Start size #400 **********\n",
      "by_tensor_cuda (8.26744090200009, 0.0)\n",
      "by_bfs_each_cuda "
     ]
    },
    {
     "name": "stderr",
     "output_type": "stream",
     "text": [
      "[2022-10-12 14:02:01]>INFO>Generate set of source vertices of 800 nodes for graph=<networkx.classes.multidigraph.MultiDiGraph object at 0x7f14379ecf40> for multiple-source evaluation\n"
     ]
    },
    {
     "name": "stdout",
     "output_type": "stream",
     "text": [
      "(8.434575684001175, 0.0)\n",
      "********** Start size #800 **********\n",
      "by_tensor_cuda (8.174376648999896, 0.0)\n",
      "by_bfs_each_cuda "
     ]
    },
    {
     "name": "stderr",
     "output_type": "stream",
     "text": [
      "[2022-10-12 14:02:18]>INFO>Generate set of source vertices of 1500 nodes for graph=<networkx.classes.multidigraph.MultiDiGraph object at 0x7f14379ecf40> for multiple-source evaluation\n"
     ]
    },
    {
     "name": "stdout",
     "output_type": "stream",
     "text": [
      "(8.555636785000388, 0.0)\n",
      "********** Start size #1500 **********\n",
      "by_tensor_cuda (8.215463968001131, 0.0)\n",
      "by_bfs_each_cuda "
     ]
    },
    {
     "name": "stderr",
     "output_type": "stream",
     "text": [
      "[2022-10-12 14:02:35]>INFO>Generate set of source vertices of 3000 nodes for graph=<networkx.classes.multidigraph.MultiDiGraph object at 0x7f14379ecf40> for multiple-source evaluation\n"
     ]
    },
    {
     "name": "stdout",
     "output_type": "stream",
     "text": [
      "(8.87970736999705, 0.0)\n",
      "********** Start size #3000 **********\n",
      "by_tensor_cuda (8.070711202999519, 0.0)\n",
      "by_bfs_each_cuda "
     ]
    },
    {
     "name": "stderr",
     "output_type": "stream",
     "text": [
      "[2022-10-12 14:02:53]>INFO>Generate set of source vertices of 6000 nodes for graph=<networkx.classes.multidigraph.MultiDiGraph object at 0x7f14379ecf40> for multiple-source evaluation\n"
     ]
    },
    {
     "name": "stdout",
     "output_type": "stream",
     "text": [
      "(9.702890759002912, 0.0)\n",
      "********** Start size #6000 **********\n",
      "by_tensor_cuda (8.82677442199929, 0.0)\n",
      "by_bfs_each_cuda "
     ]
    },
    {
     "name": "stderr",
     "output_type": "stream",
     "text": [
      "[2022-10-12 14:03:15]>INFO>Generate set of source vertices of 50 nodes for graph=<networkx.classes.multidigraph.MultiDiGraph object at 0x7f14379ee590> for multiple-source evaluation\n"
     ]
    },
    {
     "name": "stdout",
     "output_type": "stream",
     "text": [
      "(13.03543900799923, 0.0)\n",
      "########## Graph enzyme (10 / 10, run times = 1) ##########\n",
      "========== Regex #1 ==========\n",
      "********** Start size #50 **********\n",
      "by_tensor_cuda (474.42919624099886, 0.0)\n",
      "by_bfs_each_cuda "
     ]
    },
    {
     "name": "stderr",
     "output_type": "stream",
     "text": [
      "[2022-10-12 14:19:08]>INFO>Generate set of source vertices of 100 nodes for graph=<networkx.classes.multidigraph.MultiDiGraph object at 0x7f14379ee590> for multiple-source evaluation\n"
     ]
    },
    {
     "name": "stdout",
     "output_type": "stream",
     "text": [
      "(478.3290075499972, 0.0)\n",
      "********** Start size #100 **********\n",
      "by_tensor_cuda (476.22230084699913, 0.0)\n",
      "by_bfs_each_cuda "
     ]
    },
    {
     "name": "stderr",
     "output_type": "stream",
     "text": [
      "[2022-10-12 14:35:00]>INFO>Generate set of source vertices of 200 nodes for graph=<networkx.classes.multidigraph.MultiDiGraph object at 0x7f14379ee590> for multiple-source evaluation\n"
     ]
    },
    {
     "name": "stdout",
     "output_type": "stream",
     "text": [
      "(475.6007995680011, 0.0)\n",
      "********** Start size #200 **********\n",
      "by_tensor_cuda (476.0742227459996, 0.0)\n",
      "by_bfs_each_cuda "
     ]
    },
    {
     "name": "stderr",
     "output_type": "stream",
     "text": [
      "[2022-10-12 14:50:55]>INFO>Generate set of source vertices of 400 nodes for graph=<networkx.classes.multidigraph.MultiDiGraph object at 0x7f14379ee590> for multiple-source evaluation\n"
     ]
    },
    {
     "name": "stdout",
     "output_type": "stream",
     "text": [
      "(479.138158466998, 0.0)\n",
      "********** Start size #400 **********\n",
      "by_tensor_cuda "
     ]
    },
    {
     "ename": "KeyboardInterrupt",
     "evalue": "",
     "output_type": "error",
     "traceback": [
      "\u001B[0;31m---------------------------------------------------------------------------\u001B[0m",
      "\u001B[0;31mKeyboardInterrupt\u001B[0m                         Traceback (most recent call last)",
      "Cell \u001B[0;32mIn [118], line 142\u001B[0m\n\u001B[1;32m    138\u001B[0m     \u001B[38;5;28;01mreturn\u001B[39;00m results\n\u001B[1;32m    141\u001B[0m fixed_starts_res \u001B[38;5;241m=\u001B[39m run_fixed_starts()\n\u001B[0;32m--> 142\u001B[0m varied_starts_res \u001B[38;5;241m=\u001B[39m \u001B[43mrun_varied_starts\u001B[49m\u001B[43m(\u001B[49m\u001B[43m)\u001B[49m\n",
      "Cell \u001B[0;32mIn [118], line 119\u001B[0m, in \u001B[0;36mrun_varied_starts\u001B[0;34m()\u001B[0m\n\u001B[1;32m    116\u001B[0m \u001B[38;5;28mprint\u001B[39m(\u001B[38;5;124mf\u001B[39m\u001B[38;5;124m\"\u001B[39m\u001B[38;5;124m********** Start size #\u001B[39m\u001B[38;5;132;01m{\u001B[39;00mstart_size\u001B[38;5;132;01m}\u001B[39;00m\u001B[38;5;124m **********\u001B[39m\u001B[38;5;124m\"\u001B[39m)\n\u001B[1;32m    118\u001B[0m \u001B[38;5;28mprint\u001B[39m(\u001B[38;5;124m\"\u001B[39m\u001B[38;5;124mby_tensor_cuda\u001B[39m\u001B[38;5;124m\"\u001B[39m, end\u001B[38;5;241m=\u001B[39m\u001B[38;5;124m\"\u001B[39m\u001B[38;5;124m \u001B[39m\u001B[38;5;124m\"\u001B[39m)\n\u001B[0;32m--> 119\u001B[0m by_tensor_cuda \u001B[38;5;241m=\u001B[39m \u001B[43mrun_timed\u001B[49m\u001B[43m(\u001B[49m\n\u001B[1;32m    120\u001B[0m \u001B[43m    \u001B[49m\u001B[38;5;28;43;01mlambda\u001B[39;49;00m\u001B[43m:\u001B[49m\u001B[43m \u001B[49m\u001B[43mrpq_by_tensor_cuda\u001B[49m\u001B[43m(\u001B[49m\u001B[43mgraph\u001B[49m\u001B[43m,\u001B[49m\u001B[43m \u001B[49m\u001B[43mregex\u001B[49m\u001B[43m,\u001B[49m\u001B[43m \u001B[49m\u001B[43mstarts\u001B[49m\u001B[38;5;241;43m=\u001B[39;49m\u001B[43mstarts\u001B[49m\u001B[43m)\u001B[49m\u001B[43m,\u001B[49m\n\u001B[1;32m    121\u001B[0m \u001B[43m    \u001B[49m\u001B[43mrun_times\u001B[49m\u001B[38;5;241;43m=\u001B[39;49m\u001B[43mrun_times\u001B[49m\u001B[43m,\u001B[49m\n\u001B[1;32m    122\u001B[0m \u001B[43m\u001B[49m\u001B[43m)\u001B[49m\n\u001B[1;32m    123\u001B[0m \u001B[38;5;28mprint\u001B[39m(by_tensor_cuda)\n\u001B[1;32m    125\u001B[0m \u001B[38;5;28mprint\u001B[39m(\u001B[38;5;124m\"\u001B[39m\u001B[38;5;124mby_bfs_each_cuda\u001B[39m\u001B[38;5;124m\"\u001B[39m, end\u001B[38;5;241m=\u001B[39m\u001B[38;5;124m\"\u001B[39m\u001B[38;5;124m \u001B[39m\u001B[38;5;124m\"\u001B[39m)\n",
      "Cell \u001B[0;32mIn [118], line 24\u001B[0m, in \u001B[0;36mrun_timed\u001B[0;34m(f, run_times, timeout_each_s)\u001B[0m\n\u001B[1;32m     22\u001B[0m \u001B[38;5;28;01mtry\u001B[39;00m:\n\u001B[1;32m     23\u001B[0m     signal\u001B[38;5;241m.\u001B[39malarm(timeout_total_s)\n\u001B[0;32m---> 24\u001B[0m     times \u001B[38;5;241m=\u001B[39m \u001B[43mrepeat\u001B[49m\u001B[43m(\u001B[49m\u001B[43mf\u001B[49m\u001B[43m,\u001B[49m\u001B[43m \u001B[49m\u001B[43mrepeat\u001B[49m\u001B[38;5;241;43m=\u001B[39;49m\u001B[43mrun_times\u001B[49m\u001B[43m,\u001B[49m\u001B[43m \u001B[49m\u001B[43mnumber\u001B[49m\u001B[38;5;241;43m=\u001B[39;49m\u001B[38;5;241;43m1\u001B[39;49m\u001B[43m)\u001B[49m\n\u001B[1;32m     25\u001B[0m \u001B[38;5;28;01mexcept\u001B[39;00m RunTimeoutError:\n\u001B[1;32m     26\u001B[0m     times \u001B[38;5;241m=\u001B[39m [\u001B[38;5;28mfloat\u001B[39m(\u001B[38;5;124m\"\u001B[39m\u001B[38;5;124minf\u001B[39m\u001B[38;5;124m\"\u001B[39m)]\n",
      "File \u001B[0;32m/usr/lib/python3.10/timeit.py:239\u001B[0m, in \u001B[0;36mrepeat\u001B[0;34m(stmt, setup, timer, repeat, number, globals)\u001B[0m\n\u001B[1;32m    236\u001B[0m \u001B[38;5;28;01mdef\u001B[39;00m \u001B[38;5;21mrepeat\u001B[39m(stmt\u001B[38;5;241m=\u001B[39m\u001B[38;5;124m\"\u001B[39m\u001B[38;5;124mpass\u001B[39m\u001B[38;5;124m\"\u001B[39m, setup\u001B[38;5;241m=\u001B[39m\u001B[38;5;124m\"\u001B[39m\u001B[38;5;124mpass\u001B[39m\u001B[38;5;124m\"\u001B[39m, timer\u001B[38;5;241m=\u001B[39mdefault_timer,\n\u001B[1;32m    237\u001B[0m            repeat\u001B[38;5;241m=\u001B[39mdefault_repeat, number\u001B[38;5;241m=\u001B[39mdefault_number, \u001B[38;5;28mglobals\u001B[39m\u001B[38;5;241m=\u001B[39m\u001B[38;5;28;01mNone\u001B[39;00m):\n\u001B[1;32m    238\u001B[0m     \u001B[38;5;124;03m\"\"\"Convenience function to create Timer object and call repeat method.\"\"\"\u001B[39;00m\n\u001B[0;32m--> 239\u001B[0m     \u001B[38;5;28;01mreturn\u001B[39;00m \u001B[43mTimer\u001B[49m\u001B[43m(\u001B[49m\u001B[43mstmt\u001B[49m\u001B[43m,\u001B[49m\u001B[43m \u001B[49m\u001B[43msetup\u001B[49m\u001B[43m,\u001B[49m\u001B[43m \u001B[49m\u001B[43mtimer\u001B[49m\u001B[43m,\u001B[49m\u001B[43m \u001B[49m\u001B[38;5;28;43mglobals\u001B[39;49m\u001B[43m)\u001B[49m\u001B[38;5;241;43m.\u001B[39;49m\u001B[43mrepeat\u001B[49m\u001B[43m(\u001B[49m\u001B[43mrepeat\u001B[49m\u001B[43m,\u001B[49m\u001B[43m \u001B[49m\u001B[43mnumber\u001B[49m\u001B[43m)\u001B[49m\n",
      "File \u001B[0;32m/usr/lib/python3.10/timeit.py:206\u001B[0m, in \u001B[0;36mTimer.repeat\u001B[0;34m(self, repeat, number)\u001B[0m\n\u001B[1;32m    204\u001B[0m r \u001B[38;5;241m=\u001B[39m []\n\u001B[1;32m    205\u001B[0m \u001B[38;5;28;01mfor\u001B[39;00m i \u001B[38;5;129;01min\u001B[39;00m \u001B[38;5;28mrange\u001B[39m(repeat):\n\u001B[0;32m--> 206\u001B[0m     t \u001B[38;5;241m=\u001B[39m \u001B[38;5;28;43mself\u001B[39;49m\u001B[38;5;241;43m.\u001B[39;49m\u001B[43mtimeit\u001B[49m\u001B[43m(\u001B[49m\u001B[43mnumber\u001B[49m\u001B[43m)\u001B[49m\n\u001B[1;32m    207\u001B[0m     r\u001B[38;5;241m.\u001B[39mappend(t)\n\u001B[1;32m    208\u001B[0m \u001B[38;5;28;01mreturn\u001B[39;00m r\n",
      "File \u001B[0;32m/usr/lib/python3.10/timeit.py:178\u001B[0m, in \u001B[0;36mTimer.timeit\u001B[0;34m(self, number)\u001B[0m\n\u001B[1;32m    176\u001B[0m gc\u001B[38;5;241m.\u001B[39mdisable()\n\u001B[1;32m    177\u001B[0m \u001B[38;5;28;01mtry\u001B[39;00m:\n\u001B[0;32m--> 178\u001B[0m     timing \u001B[38;5;241m=\u001B[39m \u001B[38;5;28;43mself\u001B[39;49m\u001B[38;5;241;43m.\u001B[39;49m\u001B[43minner\u001B[49m\u001B[43m(\u001B[49m\u001B[43mit\u001B[49m\u001B[43m,\u001B[49m\u001B[43m \u001B[49m\u001B[38;5;28;43mself\u001B[39;49m\u001B[38;5;241;43m.\u001B[39;49m\u001B[43mtimer\u001B[49m\u001B[43m)\u001B[49m\n\u001B[1;32m    179\u001B[0m \u001B[38;5;28;01mfinally\u001B[39;00m:\n\u001B[1;32m    180\u001B[0m     \u001B[38;5;28;01mif\u001B[39;00m gcold:\n",
      "File \u001B[0;32m<timeit-src>:6\u001B[0m, in \u001B[0;36minner\u001B[0;34m(_it, _timer, _stmt)\u001B[0m\n",
      "Cell \u001B[0;32mIn [118], line 120\u001B[0m, in \u001B[0;36mrun_varied_starts.<locals>.<lambda>\u001B[0;34m()\u001B[0m\n\u001B[1;32m    116\u001B[0m \u001B[38;5;28mprint\u001B[39m(\u001B[38;5;124mf\u001B[39m\u001B[38;5;124m\"\u001B[39m\u001B[38;5;124m********** Start size #\u001B[39m\u001B[38;5;132;01m{\u001B[39;00mstart_size\u001B[38;5;132;01m}\u001B[39;00m\u001B[38;5;124m **********\u001B[39m\u001B[38;5;124m\"\u001B[39m)\n\u001B[1;32m    118\u001B[0m \u001B[38;5;28mprint\u001B[39m(\u001B[38;5;124m\"\u001B[39m\u001B[38;5;124mby_tensor_cuda\u001B[39m\u001B[38;5;124m\"\u001B[39m, end\u001B[38;5;241m=\u001B[39m\u001B[38;5;124m\"\u001B[39m\u001B[38;5;124m \u001B[39m\u001B[38;5;124m\"\u001B[39m)\n\u001B[1;32m    119\u001B[0m by_tensor_cuda \u001B[38;5;241m=\u001B[39m run_timed(\n\u001B[0;32m--> 120\u001B[0m     \u001B[38;5;28;01mlambda\u001B[39;00m: \u001B[43mrpq_by_tensor_cuda\u001B[49m\u001B[43m(\u001B[49m\u001B[43mgraph\u001B[49m\u001B[43m,\u001B[49m\u001B[43m \u001B[49m\u001B[43mregex\u001B[49m\u001B[43m,\u001B[49m\u001B[43m \u001B[49m\u001B[43mstarts\u001B[49m\u001B[38;5;241;43m=\u001B[39;49m\u001B[43mstarts\u001B[49m\u001B[43m)\u001B[49m,\n\u001B[1;32m    121\u001B[0m     run_times\u001B[38;5;241m=\u001B[39mrun_times,\n\u001B[1;32m    122\u001B[0m )\n\u001B[1;32m    123\u001B[0m \u001B[38;5;28mprint\u001B[39m(by_tensor_cuda)\n\u001B[1;32m    125\u001B[0m \u001B[38;5;28mprint\u001B[39m(\u001B[38;5;124m\"\u001B[39m\u001B[38;5;124mby_bfs_each_cuda\u001B[39m\u001B[38;5;124m\"\u001B[39m, end\u001B[38;5;241m=\u001B[39m\u001B[38;5;124m\"\u001B[39m\u001B[38;5;124m \u001B[39m\u001B[38;5;124m\"\u001B[39m)\n",
      "Cell \u001B[0;32mIn [110], line 18\u001B[0m, in \u001B[0;36mrpq_by_tensor_cuda\u001B[0;34m(graph, query, starts, finals)\u001B[0m\n\u001B[1;32m     11\u001B[0m \u001B[38;5;28;01mdef\u001B[39;00m \u001B[38;5;21mrpq_by_tensor_cuda\u001B[39m(\n\u001B[1;32m     12\u001B[0m     graph: nx\u001B[38;5;241m.\u001B[39mGraph,\n\u001B[1;32m     13\u001B[0m     query: \u001B[38;5;28mstr\u001B[39m \u001B[38;5;241m|\u001B[39m re\u001B[38;5;241m.\u001B[39mRegex,\n\u001B[0;32m   (...)\u001B[0m\n\u001B[1;32m     16\u001B[0m ) \u001B[38;5;241m-\u001B[39m\u001B[38;5;241m>\u001B[39m \u001B[38;5;28mset\u001B[39m[\u001B[38;5;28mtuple\u001B[39m[_NodeType, _NodeType]]:\n\u001B[1;32m     17\u001B[0m     \u001B[38;5;66;03m# Create boolean decompositions for the graph and the query\u001B[39;00m\n\u001B[0;32m---> 18\u001B[0m     graph_decomp \u001B[38;5;241m=\u001B[39m \u001B[43mBoolDecompositionCuda\u001B[49m\u001B[38;5;241;43m.\u001B[39;49m\u001B[43mfrom_nfa\u001B[49m\u001B[43m(\u001B[49m\u001B[43mgraph_to_nfa\u001B[49m\u001B[43m(\u001B[49m\u001B[43mgraph\u001B[49m\u001B[43m,\u001B[49m\u001B[43m \u001B[49m\u001B[43mstarts\u001B[49m\u001B[43m,\u001B[49m\u001B[43m \u001B[49m\u001B[43mfinals\u001B[49m\u001B[43m)\u001B[49m\u001B[43m)\u001B[49m\n\u001B[1;32m     19\u001B[0m     query_decomp \u001B[38;5;241m=\u001B[39m BoolDecompositionCuda\u001B[38;5;241m.\u001B[39mfrom_nfa(regex_to_min_dfa(query))\n\u001B[1;32m     21\u001B[0m     \u001B[38;5;66;03m# Intersection of decompositions gives intersection of languages\u001B[39;00m\n",
      "Cell \u001B[0;32mIn [109], line 52\u001B[0m, in \u001B[0;36mBoolDecompositionCuda.from_nfa\u001B[0;34m(cls, nfa, sort_states)\u001B[0m\n\u001B[1;32m     50\u001B[0m         beg_index \u001B[38;5;241m=\u001B[39m \u001B[38;5;28mnext\u001B[39m(i \u001B[38;5;28;01mfor\u001B[39;00m i, s \u001B[38;5;129;01min\u001B[39;00m \u001B[38;5;28menumerate\u001B[39m(states) \u001B[38;5;28;01mif\u001B[39;00m s\u001B[38;5;241m.\u001B[39mdata \u001B[38;5;241m==\u001B[39m n_from)\n\u001B[1;32m     51\u001B[0m         \u001B[38;5;28;01mfor\u001B[39;00m n_to \u001B[38;5;129;01min\u001B[39;00m ns_to \u001B[38;5;28;01mif\u001B[39;00m \u001B[38;5;28misinstance\u001B[39m(ns_to, \u001B[38;5;28mset\u001B[39m) \u001B[38;5;28;01melse\u001B[39;00m {ns_to}:\n\u001B[0;32m---> 52\u001B[0m             end_index \u001B[38;5;241m=\u001B[39m \u001B[38;5;28;43mnext\u001B[39;49m\u001B[43m(\u001B[49m\u001B[43mi\u001B[49m\u001B[43m \u001B[49m\u001B[38;5;28;43;01mfor\u001B[39;49;00m\u001B[43m \u001B[49m\u001B[43mi\u001B[49m\u001B[43m,\u001B[49m\u001B[43m \u001B[49m\u001B[43ms\u001B[49m\u001B[43m \u001B[49m\u001B[38;5;129;43;01min\u001B[39;49;00m\u001B[43m \u001B[49m\u001B[38;5;28;43menumerate\u001B[39;49m\u001B[43m(\u001B[49m\u001B[43mstates\u001B[49m\u001B[43m)\u001B[49m\u001B[43m \u001B[49m\u001B[38;5;28;43;01mif\u001B[39;49;00m\u001B[43m \u001B[49m\u001B[43ms\u001B[49m\u001B[38;5;241;43m.\u001B[39;49m\u001B[43mdata\u001B[49m\u001B[43m \u001B[49m\u001B[38;5;241;43m==\u001B[39;49m\u001B[43m \u001B[49m\u001B[43mn_to\u001B[49m\u001B[43m)\u001B[49m\n\u001B[1;32m     53\u001B[0m             adj[beg_index, end_index] \u001B[38;5;241m=\u001B[39m \u001B[38;5;28;01mTrue\u001B[39;00m\n\u001B[1;32m     55\u001B[0m \u001B[38;5;28;01mreturn\u001B[39;00m \u001B[38;5;28mcls\u001B[39m(states, adjs)\n",
      "Cell \u001B[0;32mIn [109], line 52\u001B[0m, in \u001B[0;36m<genexpr>\u001B[0;34m(.0)\u001B[0m\n\u001B[1;32m     50\u001B[0m         beg_index \u001B[38;5;241m=\u001B[39m \u001B[38;5;28mnext\u001B[39m(i \u001B[38;5;28;01mfor\u001B[39;00m i, s \u001B[38;5;129;01min\u001B[39;00m \u001B[38;5;28menumerate\u001B[39m(states) \u001B[38;5;28;01mif\u001B[39;00m s\u001B[38;5;241m.\u001B[39mdata \u001B[38;5;241m==\u001B[39m n_from)\n\u001B[1;32m     51\u001B[0m         \u001B[38;5;28;01mfor\u001B[39;00m n_to \u001B[38;5;129;01min\u001B[39;00m ns_to \u001B[38;5;28;01mif\u001B[39;00m \u001B[38;5;28misinstance\u001B[39m(ns_to, \u001B[38;5;28mset\u001B[39m) \u001B[38;5;28;01melse\u001B[39;00m {ns_to}:\n\u001B[0;32m---> 52\u001B[0m             end_index \u001B[38;5;241m=\u001B[39m \u001B[38;5;28mnext\u001B[39m(i \u001B[38;5;28;01mfor\u001B[39;00m i, s \u001B[38;5;129;01min\u001B[39;00m \u001B[38;5;28menumerate\u001B[39m(states) \u001B[38;5;28;01mif\u001B[39;00m \u001B[43ms\u001B[49m\u001B[38;5;241;43m.\u001B[39;49m\u001B[43mdata\u001B[49m\u001B[43m \u001B[49m\u001B[38;5;241;43m==\u001B[39;49m\u001B[43m \u001B[49m\u001B[43mn_to\u001B[49m)\n\u001B[1;32m     53\u001B[0m             adj[beg_index, end_index] \u001B[38;5;241m=\u001B[39m \u001B[38;5;28;01mTrue\u001B[39;00m\n\u001B[1;32m     55\u001B[0m \u001B[38;5;28;01mreturn\u001B[39;00m \u001B[38;5;28mcls\u001B[39m(states, adjs)\n",
      "File \u001B[0;32m~/.venv/formlang/lib/python3.10/site-packages/pyformlang/finite_automaton/state.py:35\u001B[0m, in \u001B[0;36mState.__eq__\u001B[0;34m(self, other)\u001B[0m\n\u001B[1;32m     32\u001B[0m         \u001B[38;5;28mself\u001B[39m\u001B[38;5;241m.\u001B[39m_hash \u001B[38;5;241m=\u001B[39m \u001B[38;5;28mhash\u001B[39m(\u001B[38;5;28mself\u001B[39m\u001B[38;5;241m.\u001B[39m_value)\n\u001B[1;32m     33\u001B[0m     \u001B[38;5;28;01mreturn\u001B[39;00m \u001B[38;5;28mself\u001B[39m\u001B[38;5;241m.\u001B[39m_hash\n\u001B[0;32m---> 35\u001B[0m \u001B[38;5;28;01mdef\u001B[39;00m \u001B[38;5;21m__eq__\u001B[39m(\u001B[38;5;28mself\u001B[39m, other: Any) \u001B[38;5;241m-\u001B[39m\u001B[38;5;241m>\u001B[39m \u001B[38;5;28mbool\u001B[39m:\n\u001B[1;32m     36\u001B[0m     \u001B[38;5;28;01mif\u001B[39;00m \u001B[38;5;28misinstance\u001B[39m(other, State):\n\u001B[1;32m     37\u001B[0m         \u001B[38;5;28;01mreturn\u001B[39;00m \u001B[38;5;28mself\u001B[39m\u001B[38;5;241m.\u001B[39m_value \u001B[38;5;241m==\u001B[39m other\u001B[38;5;241m.\u001B[39m_value\n",
      "\u001B[0;31mKeyboardInterrupt\u001B[0m: "
     ]
    }
   ],
   "source": [
    "import signal\n",
    "from timeit import repeat\n",
    "from statistics import fmean\n",
    "from statistics import stdev\n",
    "from typing import Callable\n",
    "from cfpq_data import generate_multiple_source\n",
    "\n",
    "\n",
    "class RunTimeoutError(Exception):\n",
    "    pass\n",
    "\n",
    "\n",
    "def timeout_handler(_signum, _frame):\n",
    "    print(\"Time out\", end=\" \")\n",
    "    raise RunTimeoutError\n",
    "\n",
    "\n",
    "def run_timed(f: Callable, run_times: int, timeout_each_s: int = 600):\n",
    "    timeout_total_s = timeout_each_s * run_times\n",
    "\n",
    "    signal.signal(signal.SIGALRM, timeout_handler)\n",
    "    try:\n",
    "        signal.alarm(timeout_total_s)\n",
    "        times = repeat(f, repeat=run_times, number=1)\n",
    "    except RunTimeoutError:\n",
    "        times = [float(\"inf\")]\n",
    "    finally:\n",
    "        signal.alarm(0)\n",
    "\n",
    "    m = fmean(times)\n",
    "    sd = stdev(times, m) if len(times) > 1 else 0.0\n",
    "    return m, sd\n",
    "\n",
    "\n",
    "def run_fixed_starts():\n",
    "    results = []\n",
    "\n",
    "    for g_i, graph in enumerate(GRAPHS, start=1):\n",
    "        regexes = create_regexes_for_graph(graph)\n",
    "        run_times = RUN_TIMES_SMALL if is_small(graph) else RUN_TIMES_HUGE\n",
    "        starts = generate_multiple_source(graph, FIXED_START_SIZE, seed=START_SET_SEED)\n",
    "        print(f\"########## Graph {graph.name} ({g_i} / {len(GRAPHS)}, run times = {run_times}) ##########\")\n",
    "\n",
    "        graph_results = []\n",
    "        for r_i, regex in enumerate(regexes, start=1):\n",
    "            print(f\"========== Regex #{r_i} ==========\")\n",
    "\n",
    "            print(\"by_tensor\", end=\" \")\n",
    "            by_tensor = run_timed(\n",
    "                lambda: rpq_by_tensor(graph, regex, starts=starts),\n",
    "                run_times=run_times,\n",
    "            )\n",
    "            print(by_tensor)\n",
    "\n",
    "            print(\"by_bfs_all\", end=\" \")\n",
    "            by_bfs_all = run_timed(\n",
    "                lambda: rpq_by_bfs(graph, regex, starts=starts, mode=BfsMode.FIND_COMMON_REACHABLE_SET),\n",
    "                run_times=run_times,\n",
    "            )\n",
    "            print(by_bfs_all)\n",
    "\n",
    "            print(\"by_bfs_each\", end=\" \")\n",
    "            by_bfs_each = run_timed(\n",
    "                lambda: rpq_by_bfs(graph, regex, starts=starts, mode=BfsMode.FIND_REACHABLE_FOR_EACH_START),\n",
    "                run_times=run_times,\n",
    "            )\n",
    "            print(by_bfs_each)\n",
    "\n",
    "            print(\"by_tensor_cuda\", end=\" \")\n",
    "            by_tensor_cuda = run_timed(\n",
    "                lambda: rpq_by_tensor_cuda(graph, regex, starts=starts),\n",
    "                run_times=run_times,\n",
    "            )\n",
    "            print(by_tensor_cuda)\n",
    "\n",
    "            print(\"by_bfs_all_cuda\", end=\" \")\n",
    "            by_bfs_all_cuda = run_timed(\n",
    "                lambda: rpq_by_bfs_cuda(graph, regex, starts=starts, mode=BfsMode.FIND_COMMON_REACHABLE_SET),\n",
    "                run_times=run_times,\n",
    "            )\n",
    "            print(by_bfs_all_cuda)\n",
    "\n",
    "            print(\"by_bfs_each_cuda\", end=\" \")\n",
    "            by_bfs_each_cuda = run_timed(\n",
    "                lambda: rpq_by_bfs_cuda(graph, regex, starts=starts, mode=BfsMode.FIND_REACHABLE_FOR_EACH_START),\n",
    "                run_times=run_times,\n",
    "            )\n",
    "            print(by_bfs_each_cuda)\n",
    "\n",
    "            graph_results.append(\n",
    "                ((by_tensor, by_bfs_all, by_bfs_each), (by_tensor_cuda, by_bfs_all_cuda, by_bfs_each_cuda))\n",
    "            )\n",
    "\n",
    "        results.append(graph_results)\n",
    "\n",
    "    return results\n",
    "\n",
    "\n",
    "def run_varied_starts():\n",
    "    results = []\n",
    "\n",
    "    for g_i, graph in enumerate(GRAPHS, start=1):\n",
    "        run_times = RUN_TIMES_SMALL if is_small(graph) else RUN_TIMES_HUGE\n",
    "        regexes = create_regexes_for_graph(graph)\n",
    "        print(f\"########## Graph {graph.name} ({g_i} / {len(GRAPHS)}, run times = {run_times}) ##########\")\n",
    "\n",
    "        graph_results = []\n",
    "        for r_i, regex in enumerate(regexes, start=1):\n",
    "            print(f\"========== Regex #{r_i} ==========\")\n",
    "\n",
    "            regex_results = {}\n",
    "            for start_size in VARIED_START_SIZES:\n",
    "                if start_size > graph.number_of_nodes():\n",
    "                    continue\n",
    "                starts = generate_multiple_source(graph, start_size, seed=START_SET_SEED)\n",
    "                print(f\"********** Start size #{start_size} **********\")\n",
    "\n",
    "                print(\"by_tensor_cuda\", end=\" \")\n",
    "                by_tensor_cuda = run_timed(\n",
    "                    lambda: rpq_by_tensor_cuda(graph, regex, starts=starts),\n",
    "                    run_times=run_times,\n",
    "                )\n",
    "                print(by_tensor_cuda)\n",
    "\n",
    "                print(\"by_bfs_each_cuda\", end=\" \")\n",
    "                by_bfs_each_cuda = run_timed(\n",
    "                    lambda: rpq_by_bfs_cuda(graph, regex, starts=starts, mode=BfsMode.FIND_REACHABLE_FOR_EACH_START),\n",
    "                    run_times=run_times,\n",
    "                )\n",
    "                print(by_bfs_each_cuda)\n",
    "\n",
    "                regex_results[start_size] = (by_tensor_cuda, by_bfs_each_cuda)\n",
    "\n",
    "            graph_results.append(regex_results)\n",
    "\n",
    "        results.append(graph_results)\n",
    "\n",
    "    return results\n",
    "\n",
    "\n",
    "fixed_starts_res = run_fixed_starts()\n",
    "varied_starts_res = run_varied_starts()"
   ],
   "metadata": {
    "collapsed": false
   }
  },
  {
   "cell_type": "markdown",
   "source": [
    "## Результаты эксперимента\n",
    "\n",
    "В данном разделе демонстрируются результаты проведённых замеров и, исходя из них, даются ответы на поставленные ранее вопросы."
   ],
   "metadata": {
    "collapsed": false
   }
  },
  {
   "cell_type": "code",
   "execution_count": null,
   "outputs": [],
   "source": [
    "import matplotlib.pyplot as plt\n",
    "import numpy as np\n",
    "\n",
    "ALGO_NAMES = [\"Tensor multiplication\", \"United BFS\", \"Separated BFS\"]"
   ],
   "metadata": {
    "collapsed": false
   }
  },
  {
   "cell_type": "markdown",
   "source": [
    "### Результаты по вопросу 1 (о выгоде от использования `pycubool`)"
   ],
   "metadata": {
    "collapsed": false
   }
  },
  {
   "cell_type": "code",
   "execution_count": null,
   "outputs": [],
   "source": [
    "def show_plots_1(\n",
    "    res: list[list[tuple[tuple[tuple[float, float], tuple[float, float], tuple[float, float]], tuple[\n",
    "        tuple[float, float], tuple[float, float], tuple[float, float]]]]]\n",
    "):\n",
    "    fig_size = (2.5 * len(REGEXES), len(GRAPHS))\n",
    "    label_locations = np.arange(len(REGEXES))\n",
    "    bar_width = 0.2\n",
    "    cap_size = 4\n",
    "\n",
    "    for algo_i, algo_name in enumerate(ALGO_NAMES):\n",
    "        fig: plt.Figure\n",
    "        fig, axs = plt.subplots(len(GRAPHS) // 2, 2, figsize=fig_size)\n",
    "\n",
    "        fig.suptitle(algo_name + \" scipy.sparse vs pycubool performance\")\n",
    "        fig.tight_layout()\n",
    "\n",
    "        ax: plt.Axes\n",
    "        for g_i, ax in enumerate(axs.flat):\n",
    "            graph_name = GRAPHS[g_i].name\n",
    "            graph_results = res[g_i]\n",
    "\n",
    "            ax.set_xlabel(graph_name, weight=\"bold\")\n",
    "            ax.xaxis.set_label_position(\"top\")\n",
    "\n",
    "            ax.set_xticks(label_locations, REGEXES.keys())\n",
    "            ax.tick_params(axis='x', which='both', bottom=False)\n",
    "            if g_i % len(axs[0]) == 0:\n",
    "                ax.set_ylabel(\"Time, s\")\n",
    "\n",
    "            scipy_means = [rs[0][algo_i][0] for rs in graph_results]\n",
    "            scipy_stdevs = [rs[0][algo_i][1] for rs in graph_results]\n",
    "            ax.bar(\n",
    "                label_locations - bar_width / 2,\n",
    "                scipy_means,\n",
    "                bar_width,\n",
    "                yerr=scipy_stdevs,\n",
    "                color=\"tab:blue\",\n",
    "                label=\"scipy.sparse\",\n",
    "                capsize=cap_size,\n",
    "            )\n",
    "\n",
    "            pycubool_means = [rs[1][algo_i][0] for rs in graph_results]\n",
    "            pycubool_stdevs = [rs[1][algo_i][1] for rs in graph_results]\n",
    "            ax.bar(\n",
    "                label_locations + bar_width / 2,\n",
    "                pycubool_means,\n",
    "                bar_width,\n",
    "                yerr=pycubool_stdevs,\n",
    "                color=\"tab:green\",\n",
    "                label=\"pycubool\",\n",
    "                capsize=cap_size,\n",
    "            )\n",
    "\n",
    "        handles, labels = axs[-1][-1].get_legend_handles_labels()\n",
    "        fig.legend(handles, labels, bbox_to_anchor=(1, 1), loc=\"upper left\")\n",
    "\n",
    "    plt.show()\n",
    "\n",
    "\n",
    "show_plots_1(fixed_starts_res)"
   ],
   "metadata": {
    "collapsed": false
   }
  },
  {
   "cell_type": "markdown",
   "source": [
    "### Результаты по вопросу 2 (о влиянии размера стартового множества на выгоду использования решений первой и третьей формулировок)"
   ],
   "metadata": {
    "collapsed": false
   }
  },
  {
   "cell_type": "code",
   "execution_count": null,
   "outputs": [],
   "source": [
    "def show_plots_2(res: list[list[dict[int, tuple[tuple[float, float], tuple[float, float]]]]]):\n",
    "    fig: plt.Figure\n",
    "    fig, axs = plt.subplots(len(GRAPHS), len(REGEXES), figsize=(5 * len(REGEXES), 2 * len(GRAPHS)))\n",
    "\n",
    "    fig.suptitle(\"Start set size influence on algorithm 1 vs algorithm 3\")\n",
    "    fig.tight_layout()\n",
    "\n",
    "    bar_width = 0.2\n",
    "    cap_size = 4\n",
    "\n",
    "    for g_i, axs_row in enumerate(axs):\n",
    "        graph_name = GRAPHS[g_i].name\n",
    "        graph_results = res[g_i]\n",
    "\n",
    "        ax: plt.Axes\n",
    "        for r_i, ax in enumerate(axs_row):\n",
    "            regex_name = list(REGEXES.keys())[r_i]\n",
    "            regex_results = graph_results[r_i]\n",
    "\n",
    "            if g_i == 0:\n",
    "                ax.set_xlabel(regex_name, weight=\"bold\")\n",
    "                ax.xaxis.set_label_position(\"top\")\n",
    "\n",
    "            if r_i == 0:\n",
    "                ax.set_ylabel(\"Time, s\")\n",
    "\n",
    "            if r_i == len(REGEXES) - 1:\n",
    "                ax.set_ylabel(graph_name, weight=\"bold\")\n",
    "                ax.yaxis.set_label_position(\"right\")\n",
    "\n",
    "            label_locations = np.arange(len(regex_results))\n",
    "            ax.set_xticks(label_locations, regex_results.keys())\n",
    "\n",
    "            algo1_results = [rs[0] for rs in regex_results.values()]\n",
    "            algo1_means, algo1_stdevs = zip(*algo1_results)\n",
    "            ax.bar(\n",
    "                label_locations - bar_width / 2,\n",
    "                algo1_means,\n",
    "                bar_width,\n",
    "                yerr=algo1_stdevs,\n",
    "                color=\"tab:cyan\",\n",
    "                label=ALGO_NAMES[0],\n",
    "                capsize=cap_size,\n",
    "            )\n",
    "\n",
    "            algo3_results = [rs[1] for rs in regex_results.values()]\n",
    "            algo3_means, algo3_stdevs = zip(*algo3_results)\n",
    "            ax.bar(\n",
    "                label_locations + bar_width / 2,\n",
    "                algo3_means,\n",
    "                bar_width,\n",
    "                yerr=algo3_stdevs,\n",
    "                color=\"tab:orange\",\n",
    "                label=ALGO_NAMES[2],\n",
    "                capsize=cap_size,\n",
    "            )\n",
    "\n",
    "            ax.tick_params(axis='x', which='both', bottom=False)\n",
    "\n",
    "    handles, labels = axs[-1][-1].get_legend_handles_labels()\n",
    "    fig.legend(handles, labels, bbox_to_anchor=(1, 1), loc=\"upper left\")\n",
    "\n",
    "    plt.show()\n",
    "\n",
    "\n",
    "show_plots_2(varied_starts_res)"
   ],
   "metadata": {
    "collapsed": false
   }
  },
  {
   "cell_type": "markdown",
   "source": [
    "### Результаты по вопросу 3 (о сравнении быстродействия решений второй и третьей формулировок)"
   ],
   "metadata": {
    "collapsed": false
   }
  },
  {
   "cell_type": "code",
   "execution_count": null,
   "outputs": [],
   "source": [
    "def show_plots_3(\n",
    "    res: list[list[tuple[tuple[tuple[float, float], tuple[float, float], tuple[float, float]], tuple[\n",
    "        tuple[float, float], tuple[float, float], tuple[float, float]]]]]\n",
    "):\n",
    "    fig_size = (2.5 * len(REGEXES), len(GRAPHS))\n",
    "    label_locations = np.arange(len(REGEXES))\n",
    "    bar_width = 0.2\n",
    "    cap_size = 4\n",
    "\n",
    "    fig: plt.Figure\n",
    "    fig, axs = plt.subplots(len(GRAPHS) // 2, 2, figsize=fig_size)\n",
    "\n",
    "    fig.suptitle(\"BFS-based algorithms comparison\")\n",
    "    fig.tight_layout()\n",
    "\n",
    "    ax: plt.Axes\n",
    "    for g_i, ax in enumerate(axs.flat):\n",
    "        graph_name = GRAPHS[g_i].name\n",
    "        graph_results = res[g_i]\n",
    "\n",
    "        ax.set_xlabel(graph_name, weight=\"bold\")\n",
    "        ax.xaxis.set_label_position(\"top\")\n",
    "\n",
    "        ax.set_xticks(label_locations, REGEXES.keys())\n",
    "        ax.tick_params(axis='x', which='both', bottom=False)\n",
    "        if g_i % len(axs[0]) == 0:\n",
    "            ax.set_ylabel(\"Time, s\")\n",
    "\n",
    "        pycubool_algo2_means = [rs[1][1][0] for rs in graph_results]\n",
    "        pycubool_algo2_stdevs = [rs[1][1][1] for rs in graph_results]\n",
    "        ax.bar(\n",
    "            label_locations - bar_width / 2,\n",
    "            pycubool_algo2_means,\n",
    "            bar_width,\n",
    "            yerr=pycubool_algo2_stdevs,\n",
    "            color=\"tab:purple\",\n",
    "            label=ALGO_NAMES[1],\n",
    "            capsize=cap_size,\n",
    "        )\n",
    "\n",
    "        pycubool_algo3_means = [rs[1][2][0] for rs in graph_results]\n",
    "        pycubool_algo3_stdevs = [rs[1][2][1] for rs in graph_results]\n",
    "        ax.bar(\n",
    "            label_locations + bar_width / 2,\n",
    "            pycubool_algo3_means,\n",
    "            bar_width,\n",
    "            yerr=pycubool_algo3_stdevs,\n",
    "            color=\"tab:orange\",\n",
    "            label=ALGO_NAMES[2],\n",
    "            capsize=cap_size,\n",
    "        )\n",
    "\n",
    "    handles, labels = axs[-1][-1].get_legend_handles_labels()\n",
    "    fig.legend(handles, labels, bbox_to_anchor=(1, 1), loc=\"upper left\")\n",
    "\n",
    "    plt.show()\n",
    "\n",
    "\n",
    "show_plots_3(fixed_starts_res)"
   ],
   "metadata": {
    "collapsed": false
   }
  },
  {
   "cell_type": "markdown",
   "source": [
    "## Заключение\n",
    "\n",
    "TODO"
   ],
   "metadata": {
    "collapsed": false
   }
  }
 ],
 "metadata": {
  "kernelspec": {
   "display_name": "Python 3",
   "language": "python",
   "name": "python3"
  },
  "language_info": {
   "codemirror_mode": {
    "name": "ipython",
    "version": 2
   },
   "file_extension": ".py",
   "mimetype": "text/x-python",
   "name": "python",
   "nbconvert_exporter": "python",
   "pygments_lexer": "ipython2",
   "version": "2.7.6"
  }
 },
 "nbformat": 4,
 "nbformat_minor": 0
}
